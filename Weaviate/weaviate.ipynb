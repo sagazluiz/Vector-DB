{
 "cells": [
  {
   "attachments": {},
   "cell_type": "markdown",
   "metadata": {},
   "source": [
    "source: https://app.datacamp.com/workspace/w/3d7a27c0-db15-4dab-8bc9-f137e4571857/edit"
   ]
  },
  {
   "cell_type": "code",
   "execution_count": null,
   "metadata": {},
   "outputs": [],
   "source": [
    "! pip install -U weaviate-client"
   ]
  },
  {
   "attachments": {},
   "cell_type": "markdown",
   "metadata": {},
   "source": [
    "### Get the data"
   ]
  },
  {
   "attachments": {},
   "cell_type": "markdown",
   "metadata": {},
   "source": [
    "We'll use a subset of the Jeopardy! quiz dataset:\n",
    "> https://www.kaggle.com/datasets/tunguz/200000-jeopardy-questions\n",
    "\n",
    "Pre-processed version:\n",
    "> https://raw.githubusercontent.com/databyjp/wv_demo_uploader/main/weaviate_datasets/data/jeopardy_1k.json"
   ]
  },
  {
   "attachments": {},
   "cell_type": "markdown",
   "metadata": {},
   "source": [
    "### Load (or download) the data, and preview it"
   ]
  },
  {
   "cell_type": "code",
   "execution_count": 1,
   "metadata": {},
   "outputs": [],
   "source": [
    "import requests\n",
    "import json\n",
    "\n",
    "def load_data():\n",
    "    with open(\"jeopardy_1k.json\", \"r\") as f:\n",
    "        raw_data = f.read()\n",
    "    return raw_data"
   ]
  },
  {
   "cell_type": "code",
   "execution_count": 2,
   "metadata": {},
   "outputs": [],
   "source": [
    "response = requests.get('https://raw.githubusercontent.com/databyjp/wv_demo_uploader/main/weaviate_datasets/data/jeopardy_1k.json')\n",
    "raw_data = response.text"
   ]
  },
  {
   "cell_type": "code",
   "execution_count": 3,
   "metadata": {},
   "outputs": [],
   "source": [
    "# Parse the JSON and preview it\n",
    "data = json.loads(raw_data)\n"
   ]
  },
  {
   "cell_type": "code",
   "execution_count": 5,
   "metadata": {},
   "outputs": [],
   "source": [
    "with open('jeopardy_1k.json', 'w') as file:\n",
    "    json.dump(data, file, indent=2)"
   ]
  },
  {
   "attachments": {},
   "cell_type": "markdown",
   "metadata": {},
   "source": [
    "### Step 1: Create a Weaviate instance"
   ]
  },
  {
   "attachments": {},
   "cell_type": "markdown",
   "metadata": {},
   "source": [
    "We'll use Embedded Weaviate - this is a quick way to create a Weaviate database."
   ]
  },
  {
   "cell_type": "code",
   "execution_count": 6,
   "metadata": {},
   "outputs": [],
   "source": [
    "import openai\n",
    "import os\n",
    "\n",
    "from dotenv import load_dotenv, find_dotenv\n",
    "_ = load_dotenv(find_dotenv())\n",
    "\n",
    "openai_key = os.getenv('OPENAI_API_KEY')"
   ]
  },
  {
   "cell_type": "code",
   "execution_count": 7,
   "metadata": {},
   "outputs": [
    {
     "name": "stdout",
     "output_type": "stream",
     "text": [
      "Started /Users/r337555/.cache/weaviate-embedded: process ID 64490\n"
     ]
    },
    {
     "name": "stderr",
     "output_type": "stream",
     "text": [
      "{\"action\":\"startup\",\"default_vectorizer_module\":\"none\",\"level\":\"info\",\"msg\":\"the default vectorizer modules is set to \\\"none\\\", as a result all new schema classes without an explicit vectorizer setting, will use this vectorizer\",\"time\":\"2023-12-30T10:23:51-03:00\"}\n",
      "{\"action\":\"startup\",\"auto_schema_enabled\":true,\"level\":\"info\",\"msg\":\"auto schema enabled setting is set to \\\"true\\\"\",\"time\":\"2023-12-30T10:23:51-03:00\"}\n",
      "{\"level\":\"info\",\"msg\":\"No resource limits set, weaviate will use all available memory and CPU. To limit resources, set LIMIT_RESOURCES=true\",\"time\":\"2023-12-30T10:23:51-03:00\"}\n",
      "{\"level\":\"warning\",\"msg\":\"Multiple vector spaces are present, GraphQL Explore and REST API list objects endpoint module include params has been disabled as a result.\",\"time\":\"2023-12-30T10:23:52-03:00\"}\n",
      "{\"action\":\"grpc_startup\",\"level\":\"info\",\"msg\":\"grpc server listening at [::]:50060\",\"time\":\"2023-12-30T10:23:52-03:00\"}\n",
      "adding route GET /v1/.well-known/live \"weaviate.wellknown.liveness\"\n",
      "operation: spec.Operation{VendorExtensible:spec.VendorExtensible{Extensions:spec.Extensions(nil)}, OperationProps:spec.OperationProps{Description:\"Determines whether the application is alive. Can be used for kubernetes liveness probe\", Consumes:[]string(nil), Produces:[]string(nil), Schemes:[]string(nil), Tags:[]string(nil), Summary:\"\", ExternalDocs:(*spec.ExternalDocumentation)(nil), ID:\"weaviate.wellknown.liveness\", Deprecated:false, Security:[]map[string][]string(nil), Parameters:[]spec.Parameter(nil), Responses:(*spec.Responses)(0xc0032e9c98)}}\n",
      "adding route GET /v1/schema/{className} \"schema.objects.get\"\n",
      "operation: spec.Operation{VendorExtensible:spec.VendorExtensible{Extensions:spec.Extensions{\"x-serviceIds\":[]interface {}{\"weaviate.local.get.meta\"}}}, OperationProps:spec.OperationProps{Description:\"\", Consumes:[]string(nil), Produces:[]string(nil), Schemes:[]string(nil), Tags:[]string{\"schema\"}, Summary:\"Get a single class from the schema\", ExternalDocs:(*spec.ExternalDocumentation)(nil), ID:\"schema.objects.get\", Deprecated:false, Security:[]map[string][]string(nil), Parameters:[]spec.Parameter{spec.Parameter{Refable:spec.Refable{Ref:spec.Ref{Ref:jsonreference.Ref{referenceURL:(*url.URL)(nil), referencePointer:jsonpointer.Pointer{referenceTokens:[]string(nil)}, HasFullURL:false, HasURLPathOnly:false, HasFragmentOnly:false, HasFileScheme:false, HasFullFilePath:false}}}, CommonValidations:spec.CommonValidations{Maximum:(*float64)(nil), ExclusiveMaximum:false, Minimum:(*float64)(nil), ExclusiveMinimum:false, MaxLength:(*int64)(nil), MinLength:(*int64)(nil), Pattern:\"\", MaxItems:(*int64)(nil), MinItems:(*int64)(nil), UniqueItems:false, MultipleOf:(*float64)(nil), Enum:[]interface {}(nil)}, SimpleSchema:spec.SimpleSchema{Type:\"string\", Nullable:false, Format:\"\", Items:(*spec.Items)(nil), CollectionFormat:\"\", Default:interface {}(nil), Example:interface {}(nil)}, VendorExtensible:spec.VendorExtensible{Extensions:spec.Extensions(nil)}, ParamProps:spec.ParamProps{Description:\"\", Name:\"className\", In:\"path\", Required:true, Schema:(*spec.Schema)(nil), AllowEmptyValue:false}}}, Responses:(*spec.Responses)(0xc00329dd88)}}\n",
      "adding route GET /v1 \"weaviate.root\"\n",
      "operation: spec.Operation{VendorExtensible:spec.VendorExtensible{Extensions:spec.Extensions(nil)}, OperationProps:spec.OperationProps{Description:\"Home. Discover the REST API\", Consumes:[]string(nil), Produces:[]string(nil), Schemes:[]string(nil), Tags:[]string(nil), Summary:\"\", ExternalDocs:(*spec.ExternalDocumentation)(nil), ID:\"weaviate.root\", Deprecated:false, Security:[]map[string][]string(nil), Parameters:[]spec.Parameter(nil), Responses:(*spec.Responses)(0xc0031ae9a8)}}\n",
      "adding route GET /v1/nodes/{className} \"nodes.get.class\"\n",
      "operation: spec.Operation{VendorExtensible:spec.VendorExtensible{Extensions:spec.Extensions{\"x-serviceIds\":[]interface {}{\"weaviate.nodes.status.get.class\"}}}, OperationProps:spec.OperationProps{Description:\"Returns status of Weaviate DB.\", Consumes:[]string(nil), Produces:[]string(nil), Schemes:[]string(nil), Tags:[]string{\"nodes\"}, Summary:\"\", ExternalDocs:(*spec.ExternalDocumentation)(nil), ID:\"nodes.get.class\", Deprecated:false, Security:[]map[string][]string(nil), Parameters:[]spec.Parameter{spec.Parameter{Refable:spec.Refable{Ref:spec.Ref{Ref:jsonreference.Ref{referenceURL:(*url.URL)(nil), referencePointer:jsonpointer.Pointer{referenceTokens:[]string(nil)}, HasFullURL:false, HasURLPathOnly:false, HasFragmentOnly:false, HasFileScheme:false, HasFullFilePath:false}}}, CommonValidations:spec.CommonValidations{Maximum:(*float64)(nil), ExclusiveMaximum:false, Minimum:(*float64)(nil), ExclusiveMinimum:false, MaxLength:(*int64)(nil), MinLength:(*int64)(nil), Pattern:\"\", MaxItems:(*int64)(nil), MinItems:(*int64)(nil), UniqueItems:false, MultipleOf:(*float64)(nil), Enum:[]interface {}(nil)}, SimpleSchema:spec.SimpleSchema{Type:\"string\", Nullable:false, Format:\"\", Items:(*spec.Items)(nil), CollectionFormat:\"\", Default:interface {}(nil), Example:interface {}(nil)}, VendorExtensible:spec.VendorExtensible{Extensions:spec.Extensions(nil)}, ParamProps:spec.ParamProps{Description:\"\", Name:\"className\", In:\"path\", Required:true, Schema:(*spec.Schema)(nil), AllowEmptyValue:false}}, spec.Parameter{Refable:spec.Refable{Ref:spec.Ref{Ref:jsonreference.Ref{referenceURL:(*url.URL)(nil), referencePointer:jsonpointer.Pointer{referenceTokens:[]string(nil)}, HasFullURL:false, HasURLPathOnly:false, HasFragmentOnly:false, HasFileScheme:false, HasFullFilePath:false}}}, CommonValidations:spec.CommonValidations{Maximum:(*float64)(nil), ExclusiveMaximum:false, Minimum:(*float64)(nil), ExclusiveMinimum:false, MaxLength:(*int64)(nil), MinLength:(*int64)(nil), Pattern:\"\", MaxItems:(*int64)(nil), MinItems:(*int64)(nil), UniqueItems:false, MultipleOf:(*float64)(nil), Enum:[]interface {}(nil)}, SimpleSchema:spec.SimpleSchema{Type:\"string\", Nullable:false, Format:\"\", Items:(*spec.Items)(nil), CollectionFormat:\"\", Default:\"minimal\", Example:interface {}(nil)}, VendorExtensible:spec.VendorExtensible{Extensions:spec.Extensions(nil)}, ParamProps:spec.ParamProps{Description:\"Controls the verbosity of the output, possible values are: \\\"minimal\\\", \\\"verbose\\\". Defaults to \\\"minimal\\\".\", Name:\"output\", In:\"query\", Required:false, Schema:(*spec.Schema)(nil), AllowEmptyValue:false}}}, Responses:(*spec.Responses)(0xc0031fe378)}}\n",
      "adding route GET /v1/schema/cluster-status \"schema.cluster.status\"\n",
      "operation: spec.Operation{VendorExtensible:spec.VendorExtensible{Extensions:spec.Extensions(nil)}, OperationProps:spec.OperationProps{Description:\"\", Consumes:[]string(nil), Produces:[]string(nil), Schemes:[]string(nil), Tags:[]string{\"schema\"}, Summary:\"\", ExternalDocs:(*spec.ExternalDocumentation)(nil), ID:\"schema.cluster.status\", Deprecated:false, Security:[]map[string][]string(nil), Parameters:[]spec.Parameter(nil), Responses:(*spec.Responses)(0xc00329ce70)}}\n",
      "adding route GET /v1/objects \"objects.list\"\n",
      "operation: spec.Operation{VendorExtensible:spec.VendorExtensible{Extensions:spec.Extensions{\"x-available-in-mqtt\":false, \"x-available-in-websocket\":false, \"x-serviceIds\":[]interface {}{\"weaviate.local.query\"}}}, OperationProps:spec.OperationProps{Description:\"Lists all Objects in reverse order of creation, owned by the user that belongs to the used token.\", Consumes:[]string(nil), Produces:[]string(nil), Schemes:[]string(nil), Tags:[]string{\"objects\"}, Summary:\"Get a list of Objects.\", ExternalDocs:(*spec.ExternalDocumentation)(nil), ID:\"objects.list\", Deprecated:false, Security:[]map[string][]string(nil), Parameters:[]spec.Parameter{spec.Parameter{Refable:spec.Refable{Ref:spec.Ref{Ref:jsonreference.Ref{referenceURL:(*url.URL)(nil), referencePointer:jsonpointer.Pointer{referenceTokens:[]string(nil)}, HasFullURL:false, HasURLPathOnly:false, HasFragmentOnly:false, HasFileScheme:false, HasFullFilePath:false}}}, CommonValidations:spec.CommonValidations{Maximum:(*float64)(nil), ExclusiveMaximum:false, Minimum:(*float64)(nil), ExclusiveMinimum:false, MaxLength:(*int64)(nil), MinLength:(*int64)(nil), Pattern:\"\", MaxItems:(*int64)(nil), MinItems:(*int64)(nil), UniqueItems:false, MultipleOf:(*float64)(nil), Enum:[]interface {}(nil)}, SimpleSchema:spec.SimpleSchema{Type:\"string\", Nullable:false, Format:\"\", Items:(*spec.Items)(nil), CollectionFormat:\"\", Default:interface {}(nil), Example:interface {}(nil)}, VendorExtensible:spec.VendorExtensible{Extensions:spec.Extensions(nil)}, ParamProps:spec.ParamProps{Description:\"The starting ID of the result window.\", Name:\"after\", In:\"query\", Required:false, Schema:(*spec.Schema)(nil), AllowEmptyValue:false}}, spec.Parameter{Refable:spec.Refable{Ref:spec.Ref{Ref:jsonreference.Ref{referenceURL:(*url.URL)(nil), referencePointer:jsonpointer.Pointer{referenceTokens:[]string(nil)}, HasFullURL:false, HasURLPathOnly:false, HasFragmentOnly:false, HasFileScheme:false, HasFullFilePath:false}}}, CommonValidations:spec.CommonValidations{Maximum:(*float64)(nil), ExclusiveMaximum:false, Minimum:(*float64)(nil), ExclusiveMinimum:false, MaxLength:(*int64)(nil), MinLength:(*int64)(nil), Pattern:\"\", MaxItems:(*int64)(nil), MinItems:(*int64)(nil), UniqueItems:false, MultipleOf:(*float64)(nil), Enum:[]interface {}(nil)}, SimpleSchema:spec.SimpleSchema{Type:\"integer\", Nullable:false, Format:\"int64\", Items:(*spec.Items)(nil), CollectionFormat:\"\", Default:0, Example:interface {}(nil)}, VendorExtensible:spec.VendorExtensible{Extensions:spec.Extensions(nil)}, ParamProps:spec.ParamProps{Description:\"The starting index of the result window. Default value is 0.\", Name:\"offset\", In:\"query\", Required:false, Schema:(*spec.Schema)(nil), AllowEmptyValue:false}}, spec.Parameter{Refable:spec.Refable{Ref:spec.Ref{Ref:jsonreference.Ref{referenceURL:(*url.URL)(nil), referencePointer:jsonpointer.Pointer{referenceTokens:[]string(nil)}, HasFullURL:false, HasURLPathOnly:false, HasFragmentOnly:false, HasFileScheme:false, HasFullFilePath:false}}}, CommonValidations:spec.CommonValidations{Maximum:(*float64)(nil), ExclusiveMaximum:false, Minimum:(*float64)(nil), ExclusiveMinimum:false, MaxLength:(*int64)(nil), MinLength:(*int64)(nil), Pattern:\"\", MaxItems:(*int64)(nil), MinItems:(*int64)(nil), UniqueItems:false, MultipleOf:(*float64)(nil), Enum:[]interface {}(nil)}, SimpleSchema:spec.SimpleSchema{Type:\"integer\", Nullable:false, Format:\"int64\", Items:(*spec.Items)(nil), CollectionFormat:\"\", Default:interface {}(nil), Example:interface {}(nil)}, VendorExtensible:spec.VendorExtensible{Extensions:spec.Extensions(nil)}, ParamProps:spec.ParamProps{Description:\"The maximum number of items to be returned per page. Default value is set in Weaviate config.\", Name:\"limit\", In:\"query\", Required:false, Schema:(*spec.Schema)(nil), AllowEmptyValue:false}}, spec.Parameter{Refable:spec.Refable{Ref:spec.Ref{Ref:jsonreference.Ref{referenceURL:(*url.URL)(nil), referencePointer:jsonpointer.Pointer{referenceTokens:[]string(nil)}, HasFullURL:false, HasURLPathOnly:false, HasFragmentOnly:false, HasFileScheme:false, HasFullFilePath:false}}}, CommonValidations:spec.CommonValidations{Maximum:(*float64)(nil), ExclusiveMaximum:false, Minimum:(*float64)(nil), ExclusiveMinimum:false, MaxLength:(*int64)(nil), MinLength:(*int64)(nil), Pattern:\"\", MaxItems:(*int64)(nil), MinItems:(*int64)(nil), UniqueItems:false, MultipleOf:(*float64)(nil), Enum:[]interface {}(nil)}, SimpleSchema:spec.SimpleSchema{Type:\"string\", Nullable:false, Format:\"\", Items:(*spec.Items)(nil), CollectionFormat:\"\", Default:interface {}(nil), Example:interface {}(nil)}, VendorExtensible:spec.VendorExtensible{Extensions:spec.Extensions(nil)}, ParamProps:spec.ParamProps{Description:\"Include additional information, such as classification infos. Allowed values include: classification, vector, interpretation\", Name:\"include\", In:\"query\", Required:false, Schema:(*spec.Schema)(nil), AllowEmptyValue:false}}, spec.Parameter{Refable:spec.Refable{Ref:spec.Ref{Ref:jsonreference.Ref{referenceURL:(*url.URL)(nil), referencePointer:jsonpointer.Pointer{referenceTokens:[]string(nil)}, HasFullURL:false, HasURLPathOnly:false, HasFragmentOnly:false, HasFileScheme:false, HasFullFilePath:false}}}, CommonValidations:spec.CommonValidations{Maximum:(*float64)(nil), ExclusiveMaximum:false, Minimum:(*float64)(nil), ExclusiveMinimum:false, MaxLength:(*int64)(nil), MinLength:(*int64)(nil), Pattern:\"\", MaxItems:(*int64)(nil), MinItems:(*int64)(nil), UniqueItems:false, MultipleOf:(*float64)(nil), Enum:[]interface {}(nil)}, SimpleSchema:spec.SimpleSchema{Type:\"string\", Nullable:false, Format:\"\", Items:(*spec.Items)(nil), CollectionFormat:\"\", Default:interface {}(nil), Example:interface {}(nil)}, VendorExtensible:spec.VendorExtensible{Extensions:spec.Extensions(nil)}, ParamProps:spec.ParamProps{Description:\"Sort parameter to pass an information about the names of the sort fields\", Name:\"sort\", In:\"query\", Required:false, Schema:(*spec.Schema)(nil), AllowEmptyValue:false}}, spec.Parameter{Refable:spec.Refable{Ref:spec.Ref{Ref:jsonreference.Ref{referenceURL:(*url.URL)(nil), referencePointer:jsonpointer.Pointer{referenceTokens:[]string(nil)}, HasFullURL:false, HasURLPathOnly:false, HasFragmentOnly:false, HasFileScheme:false, HasFullFilePath:false}}}, CommonValidations:spec.CommonValidations{Maximum:(*float64)(nil), ExclusiveMaximum:false, Minimum:(*float64)(nil), ExclusiveMinimum:false, MaxLength:(*int64)(nil), MinLength:(*int64)(nil), Pattern:\"\", MaxItems:(*int64)(nil), MinItems:(*int64)(nil), UniqueItems:false, MultipleOf:(*float64)(nil), Enum:[]interface {}(nil)}, SimpleSchema:spec.SimpleSchema{Type:\"string\", Nullable:false, Format:\"\", Items:(*spec.Items)(nil), CollectionFormat:\"\", Default:interface {}(nil), Example:interface {}(nil)}, VendorExtensible:spec.VendorExtensible{Extensions:spec.Extensions(nil)}, ParamProps:spec.ParamProps{Description:\"Order parameter to tell how to order (asc or desc) data within given field\", Name:\"order\", In:\"query\", Required:false, Schema:(*spec.Schema)(nil), AllowEmptyValue:false}}, spec.Parameter{Refable:spec.Refable{Ref:spec.Ref{Ref:jsonreference.Ref{referenceURL:(*url.URL)(nil), referencePointer:jsonpointer.Pointer{referenceTokens:[]string(nil)}, HasFullURL:false, HasURLPathOnly:false, HasFragmentOnly:false, HasFileScheme:false, HasFullFilePath:false}}}, CommonValidations:spec.CommonValidations{Maximum:(*float64)(nil), ExclusiveMaximum:false, Minimum:(*float64)(nil), ExclusiveMinimum:false, MaxLength:(*int64)(nil), MinLength:(*int64)(nil), Pattern:\"\", MaxItems:(*int64)(nil), MinItems:(*int64)(nil), UniqueItems:false, MultipleOf:(*float64)(nil), Enum:[]interface {}(nil)}, SimpleSchema:spec.SimpleSchema{Type:\"string\", Nullable:false, Format:\"\", Items:(*spec.Items)(nil), CollectionFormat:\"\", Default:interface {}(nil), Example:interface {}(nil)}, VendorExtensible:spec.VendorExtensible{Extensions:spec.Extensions(nil)}, ParamProps:spec.ParamProps{Description:\"Class parameter specifies the class from which to query objects\", Name:\"class\", In:\"query\", Required:false, Schema:(*spec.Schema)(nil), AllowEmptyValue:false}}, spec.Parameter{Refable:spec.Refable{Ref:spec.Ref{Ref:jsonreference.Ref{referenceURL:(*url.URL)(nil), referencePointer:jsonpointer.Pointer{referenceTokens:[]string(nil)}, HasFullURL:false, HasURLPathOnly:false, HasFragmentOnly:false, HasFileScheme:false, HasFullFilePath:false}}}, CommonValidations:spec.CommonValidations{Maximum:(*float64)(nil), ExclusiveMaximum:false, Minimum:(*float64)(nil), ExclusiveMinimum:false, MaxLength:(*int64)(nil), MinLength:(*int64)(nil), Pattern:\"\", MaxItems:(*int64)(nil), MinItems:(*int64)(nil), UniqueItems:false, MultipleOf:(*float64)(nil), Enum:[]interface {}(nil)}, SimpleSchema:spec.SimpleSchema{Type:\"string\", Nullable:false, Format:\"\", Items:(*spec.Items)(nil), CollectionFormat:\"\", Default:interface {}(nil), Example:interface {}(nil)}, VendorExtensible:spec.VendorExtensible{Extensions:spec.Extensions(nil)}, ParamProps:spec.ParamProps{Description:\"Specifies the tenant in a request targeting a multi-tenant class\", Name:\"tenant\", In:\"query\", Required:false, Schema:(*spec.Schema)(nil), AllowEmptyValue:false}}}, Responses:(*spec.Responses)(0xc003392228)}}\n",
      "adding route GET /v1/backups/{backend}/{id}/restore \"backups.restore.status\"\n",
      "operation: spec.Operation{VendorExtensible:spec.VendorExtensible{Extensions:spec.Extensions{\"x-serviceIds\":[]interface {}{\"weaviate.local.backup\"}}}, OperationProps:spec.OperationProps{Description:\"Returns status of a backup restoration attempt for a set of classes\", Consumes:[]string(nil), Produces:[]string(nil), Schemes:[]string(nil), Tags:[]string{\"backups\"}, Summary:\"\", ExternalDocs:(*spec.ExternalDocumentation)(nil), ID:\"backups.restore.status\", Deprecated:false, Security:[]map[string][]string(nil), Parameters:[]spec.Parameter{spec.Parameter{Refable:spec.Refable{Ref:spec.Ref{Ref:jsonreference.Ref{referenceURL:(*url.URL)(nil), referencePointer:jsonpointer.Pointer{referenceTokens:[]string(nil)}, HasFullURL:false, HasURLPathOnly:false, HasFragmentOnly:false, HasFileScheme:false, HasFullFilePath:false}}}, CommonValidations:spec.CommonValidations{Maximum:(*float64)(nil), ExclusiveMaximum:false, Minimum:(*float64)(nil), ExclusiveMinimum:false, MaxLength:(*int64)(nil), MinLength:(*int64)(nil), Pattern:\"\", MaxItems:(*int64)(nil), MinItems:(*int64)(nil), UniqueItems:false, MultipleOf:(*float64)(nil), Enum:[]interface {}(nil)}, SimpleSchema:spec.SimpleSchema{Type:\"string\", Nullable:false, Format:\"\", Items:(*spec.Items)(nil), CollectionFormat:\"\", Default:interface {}(nil), Example:interface {}(nil)}, VendorExtensible:spec.VendorExtensible{Extensions:spec.Extensions(nil)}, ParamProps:spec.ParamProps{Description:\"Backup backend name e.g. filesystem, gcs, s3.\", Name:\"backend\", In:\"path\", Required:true, Schema:(*spec.Schema)(nil), AllowEmptyValue:false}}, spec.Parameter{Refable:spec.Refable{Ref:spec.Ref{Ref:jsonreference.Ref{referenceURL:(*url.URL)(nil), referencePointer:jsonpointer.Pointer{referenceTokens:[]string(nil)}, HasFullURL:false, HasURLPathOnly:false, HasFragmentOnly:false, HasFileScheme:false, HasFullFilePath:false}}}, CommonValidations:spec.CommonValidations{Maximum:(*float64)(nil), ExclusiveMaximum:false, Minimum:(*float64)(nil), ExclusiveMinimum:false, MaxLength:(*int64)(nil), MinLength:(*int64)(nil), Pattern:\"\", MaxItems:(*int64)(nil), MinItems:(*int64)(nil), UniqueItems:false, MultipleOf:(*float64)(nil), Enum:[]interface {}(nil)}, SimpleSchema:spec.SimpleSchema{Type:\"string\", Nullable:false, Format:\"\", Items:(*spec.Items)(nil), CollectionFormat:\"\", Default:interface {}(nil), Example:interface {}(nil)}, VendorExtensible:spec.VendorExtensible{Extensions:spec.Extensions(nil)}, ParamProps:spec.ParamProps{Description:\"The ID of a backup. Must be URL-safe and work as a filesystem path, only lowercase, numbers, underscore, minus characters allowed.\", Name:\"id\", In:\"path\", Required:true, Schema:(*spec.Schema)(nil), AllowEmptyValue:false}}}, Responses:(*spec.Responses)(0xc0031af5c0)}}\n",
      "adding route GET /v1/objects/{id} \"objects.get\"\n",
      "operation: spec.Operation{VendorExtensible:spec.VendorExtensible{Extensions:spec.Extensions{\"x-available-in-mqtt\":false, \"x-available-in-websocket\":false, \"x-serviceIds\":[]interface {}{\"weaviate.local.query\"}}}, OperationProps:spec.OperationProps{Description:\"Lists Objects.\", Consumes:[]string(nil), Produces:[]string(nil), Schemes:[]string(nil), Tags:[]string{\"objects\"}, Summary:\"Get a specific Object based on its UUID and a Object UUID. Also available as Websocket bus.\", ExternalDocs:(*spec.ExternalDocumentation)(nil), ID:\"objects.get\", Deprecated:true, Security:[]map[string][]string(nil), Parameters:[]spec.Parameter{spec.Parameter{Refable:spec.Refable{Ref:spec.Ref{Ref:jsonreference.Ref{referenceURL:(*url.URL)(nil), referencePointer:jsonpointer.Pointer{referenceTokens:[]string(nil)}, HasFullURL:false, HasURLPathOnly:false, HasFragmentOnly:false, HasFileScheme:false, HasFullFilePath:false}}}, CommonValidations:spec.CommonValidations{Maximum:(*float64)(nil), ExclusiveMaximum:false, Minimum:(*float64)(nil), ExclusiveMinimum:false, MaxLength:(*int64)(nil), MinLength:(*int64)(nil), Pattern:\"\", MaxItems:(*int64)(nil), MinItems:(*int64)(nil), UniqueItems:false, MultipleOf:(*float64)(nil), Enum:[]interface {}(nil)}, SimpleSchema:spec.SimpleSchema{Type:\"string\", Nullable:false, Format:\"uuid\", Items:(*spec.Items)(nil), CollectionFormat:\"\", Default:interface {}(nil), Example:interface {}(nil)}, VendorExtensible:spec.VendorExtensible{Extensions:spec.Extensions(nil)}, ParamProps:spec.ParamProps{Description:\"Unique ID of the Object.\", Name:\"id\", In:\"path\", Required:true, Schema:(*spec.Schema)(nil), AllowEmptyValue:false}}, spec.Parameter{Refable:spec.Refable{Ref:spec.Ref{Ref:jsonreference.Ref{referenceURL:(*url.URL)(nil), referencePointer:jsonpointer.Pointer{referenceTokens:[]string(nil)}, HasFullURL:false, HasURLPathOnly:false, HasFragmentOnly:false, HasFileScheme:false, HasFullFilePath:false}}}, CommonValidations:spec.CommonValidations{Maximum:(*float64)(nil), ExclusiveMaximum:false, Minimum:(*float64)(nil), ExclusiveMinimum:false, MaxLength:(*int64)(nil), MinLength:(*int64)(nil), Pattern:\"\", MaxItems:(*int64)(nil), MinItems:(*int64)(nil), UniqueItems:false, MultipleOf:(*float64)(nil), Enum:[]interface {}(nil)}, SimpleSchema:spec.SimpleSchema{Type:\"string\", Nullable:false, Format:\"\", Items:(*spec.Items)(nil), CollectionFormat:\"\", Default:interface {}(nil), Example:interface {}(nil)}, VendorExtensible:spec.VendorExtensible{Extensions:spec.Extensions(nil)}, ParamProps:spec.ParamProps{Description:\"Include additional information, such as classification infos. Allowed values include: classification, vector, interpretation\", Name:\"include\", In:\"query\", Required:false, Schema:(*spec.Schema)(nil), AllowEmptyValue:false}}}, Responses:(*spec.Responses)(0xc00324cf30)}}\n",
      "adding route GET /v1/.well-known/openid-configuration \"\"\n",
      "operation: spec.Operation{VendorExtensible:spec.VendorExtensible{Extensions:spec.Extensions{\"x-available-in-mqtt\":false, \"x-available-in-websocket\":false}}, OperationProps:spec.OperationProps{Description:\"OIDC Discovery page, redirects to the token issuer if one is configured\", Consumes:[]string(nil), Produces:[]string(nil), Schemes:[]string(nil), Tags:[]string{\"well-known\", \"oidc\", \"discovery\"}, Summary:\"OIDC discovery information if OIDC auth is enabled\", ExternalDocs:(*spec.ExternalDocumentation)(nil), ID:\"\", Deprecated:false, Security:[]map[string][]string(nil), Parameters:[]spec.Parameter(nil), Responses:(*spec.Responses)(0xc00329d098)}}\n",
      "adding route GET /v1/schema \"schema.dump\"\n",
      "operation: spec.Operation{VendorExtensible:spec.VendorExtensible{Extensions:spec.Extensions{\"x-serviceIds\":[]interface {}{\"weaviate.local.query.meta\"}}}, OperationProps:spec.OperationProps{Description:\"\", Consumes:[]string(nil), Produces:[]string(nil), Schemes:[]string(nil), Tags:[]string{\"schema\"}, Summary:\"Dump the current the database schema.\", ExternalDocs:(*spec.ExternalDocumentation)(nil), ID:\"schema.dump\", Deprecated:false, Security:[]map[string][]string(nil), Parameters:[]spec.Parameter(nil), Responses:(*spec.Responses)(0xc0032e8e88)}}\n",
      "adding route GET /v1/nodes \"nodes.get\"\n",
      "operation: spec.Operation{VendorExtensible:spec.VendorExtensible{Extensions:spec.Extensions{\"x-serviceIds\":[]interface {}{\"weaviate.nodes.status.get\"}}}, OperationProps:spec.OperationProps{Description:\"Returns status of Weaviate DB.\", Consumes:[]string(nil), Produces:[]string(nil), Schemes:[]string(nil), Tags:[]string{\"nodes\"}, Summary:\"\", ExternalDocs:(*spec.ExternalDocumentation)(nil), ID:\"nodes.get\", Deprecated:false, Security:[]map[string][]string(nil), Parameters:[]spec.Parameter{spec.Parameter{Refable:spec.Refable{Ref:spec.Ref{Ref:jsonreference.Ref{referenceURL:(*url.URL)(nil), referencePointer:jsonpointer.Pointer{referenceTokens:[]string(nil)}, HasFullURL:false, HasURLPathOnly:false, HasFragmentOnly:false, HasFileScheme:false, HasFullFilePath:false}}}, CommonValidations:spec.CommonValidations{Maximum:(*float64)(nil), ExclusiveMaximum:false, Minimum:(*float64)(nil), ExclusiveMinimum:false, MaxLength:(*int64)(nil), MinLength:(*int64)(nil), Pattern:\"\", MaxItems:(*int64)(nil), MinItems:(*int64)(nil), UniqueItems:false, MultipleOf:(*float64)(nil), Enum:[]interface {}(nil)}, SimpleSchema:spec.SimpleSchema{Type:\"string\", Nullable:false, Format:\"\", Items:(*spec.Items)(nil), CollectionFormat:\"\", Default:\"minimal\", Example:interface {}(nil)}, VendorExtensible:spec.VendorExtensible{Extensions:spec.Extensions(nil)}, ParamProps:spec.ParamProps{Description:\"Controls the verbosity of the output, possible values are: \\\"minimal\\\", \\\"verbose\\\". Defaults to \\\"minimal\\\".\", Name:\"output\", In:\"query\", Required:false, Schema:(*spec.Schema)(nil), AllowEmptyValue:false}}}, Responses:(*spec.Responses)(0xc00329d5f0)}}\n",
      "adding route GET /v1/schema/{className}/tenants \"tenants.get\"\n",
      "operation: spec.Operation{VendorExtensible:spec.VendorExtensible{Extensions:spec.Extensions(nil)}, OperationProps:spec.OperationProps{Description:\"get all tenants from a specific class\", Consumes:[]string(nil), Produces:[]string(nil), Schemes:[]string(nil), Tags:[]string{\"schema\"}, Summary:\"\", ExternalDocs:(*spec.ExternalDocumentation)(nil), ID:\"tenants.get\", Deprecated:false, Security:[]map[string][]string(nil), Parameters:[]spec.Parameter{spec.Parameter{Refable:spec.Refable{Ref:spec.Ref{Ref:jsonreference.Ref{referenceURL:(*url.URL)(nil), referencePointer:jsonpointer.Pointer{referenceTokens:[]string(nil)}, HasFullURL:false, HasURLPathOnly:false, HasFragmentOnly:false, HasFileScheme:false, HasFullFilePath:false}}}, CommonValidations:spec.CommonValidations{Maximum:(*float64)(nil), ExclusiveMaximum:false, Minimum:(*float64)(nil), ExclusiveMinimum:false, MaxLength:(*int64)(nil), MinLength:(*int64)(nil), Pattern:\"\", MaxItems:(*int64)(nil), MinItems:(*int64)(nil), UniqueItems:false, MultipleOf:(*float64)(nil), Enum:[]interface {}(nil)}, SimpleSchema:spec.SimpleSchema{Type:\"string\", Nullable:false, Format:\"\", Items:(*spec.Items)(nil), CollectionFormat:\"\", Default:interface {}(nil), Example:interface {}(nil)}, VendorExtensible:spec.VendorExtensible{Extensions:spec.Extensions(nil)}, ParamProps:spec.ParamProps{Description:\"\", Name:\"className\", In:\"path\", Required:true, Schema:(*spec.Schema)(nil), AllowEmptyValue:false}}}, Responses:(*spec.Responses)(0xc0033930e0)}}\n",
      "adding route GET /v1/classifications/{id} \"classifications.get\"\n",
      "operation: spec.Operation{VendorExtensible:spec.VendorExtensible{Extensions:spec.Extensions{\"x-serviceIds\":[]interface {}{\"weaviate.classifications.get\"}}}, OperationProps:spec.OperationProps{Description:\"Get status, results and metadata of a previously created classification\", Consumes:[]string(nil), Produces:[]string(nil), Schemes:[]string(nil), Tags:[]string{\"classifications\"}, Summary:\"View previously created classification\", ExternalDocs:(*spec.ExternalDocumentation)(nil), ID:\"classifications.get\", Deprecated:false, Security:[]map[string][]string(nil), Parameters:[]spec.Parameter{spec.Parameter{Refable:spec.Refable{Ref:spec.Ref{Ref:jsonreference.Ref{referenceURL:(*url.URL)(nil), referencePointer:jsonpointer.Pointer{referenceTokens:[]string(nil)}, HasFullURL:false, HasURLPathOnly:false, HasFragmentOnly:false, HasFileScheme:false, HasFullFilePath:false}}}, CommonValidations:spec.CommonValidations{Maximum:(*float64)(nil), ExclusiveMaximum:false, Minimum:(*float64)(nil), ExclusiveMinimum:false, MaxLength:(*int64)(nil), MinLength:(*int64)(nil), Pattern:\"\", MaxItems:(*int64)(nil), MinItems:(*int64)(nil), UniqueItems:false, MultipleOf:(*float64)(nil), Enum:[]interface {}(nil)}, SimpleSchema:spec.SimpleSchema{Type:\"string\", Nullable:false, Format:\"\", Items:(*spec.Items)(nil), CollectionFormat:\"\", Default:interface {}(nil), Example:interface {}(nil)}, VendorExtensible:spec.VendorExtensible{Extensions:spec.Extensions(nil)}, ParamProps:spec.ParamProps{Description:\"classification id\", Name:\"id\", In:\"path\", Required:true, Schema:(*spec.Schema)(nil), AllowEmptyValue:false}}}, Responses:(*spec.Responses)(0xc003345050)}}\n",
      "adding route GET /v1/.well-known/ready \"weaviate.wellknown.readiness\"\n",
      "operation: spec.Operation{VendorExtensible:spec.VendorExtensible{Extensions:spec.Extensions(nil)}, OperationProps:spec.OperationProps{Description:\"Determines whether the application is ready to receive traffic. Can be used for kubernetes readiness probe.\", Consumes:[]string(nil), Produces:[]string(nil), Schemes:[]string(nil), Tags:[]string(nil), Summary:\"\", ExternalDocs:(*spec.ExternalDocumentation)(nil), ID:\"weaviate.wellknown.readiness\", Deprecated:false, Security:[]map[string][]string(nil), Parameters:[]spec.Parameter(nil), Responses:(*spec.Responses)(0xc0032e8c18)}}\n",
      "adding route GET /v1/objects/{className}/{id} \"objects.class.get\"\n",
      "operation: spec.Operation{VendorExtensible:spec.VendorExtensible{Extensions:spec.Extensions{\"x-available-in-mqtt\":false, \"x-available-in-websocket\":false, \"x-serviceIds\":[]interface {}{\"weaviate.local.query\"}}}, OperationProps:spec.OperationProps{Description:\"Get a single data object\", Consumes:[]string(nil), Produces:[]string(nil), Schemes:[]string(nil), Tags:[]string{\"objects\"}, Summary:\"Get a specific Object based on its class and UUID. Also available as Websocket bus.\", ExternalDocs:(*spec.ExternalDocumentation)(nil), ID:\"objects.class.get\", Deprecated:false, Security:[]map[string][]string(nil), Parameters:[]spec.Parameter{spec.Parameter{Refable:spec.Refable{Ref:spec.Ref{Ref:jsonreference.Ref{referenceURL:(*url.URL)(nil), referencePointer:jsonpointer.Pointer{referenceTokens:[]string(nil)}, HasFullURL:false, HasURLPathOnly:false, HasFragmentOnly:false, HasFileScheme:false, HasFullFilePath:false}}}, CommonValidations:spec.CommonValidations{Maximum:(*float64)(nil), ExclusiveMaximum:false, Minimum:(*float64)(nil), ExclusiveMinimum:false, MaxLength:(*int64)(nil), MinLength:(*int64)(nil), Pattern:\"\", MaxItems:(*int64)(nil), MinItems:(*int64)(nil), UniqueItems:false, MultipleOf:(*float64)(nil), Enum:[]interface {}(nil)}, SimpleSchema:spec.SimpleSchema{Type:\"string\", Nullable:false, Format:\"\", Items:(*spec.Items)(nil), CollectionFormat:\"\", Default:interface {}(nil), Example:interface {}(nil)}, VendorExtensible:spec.VendorExtensible{Extensions:spec.Extensions(nil)}, ParamProps:spec.ParamProps{Description:\"\", Name:\"className\", In:\"path\", Required:true, Schema:(*spec.Schema)(nil), AllowEmptyValue:false}}, spec.Parameter{Refable:spec.Refable{Ref:spec.Ref{Ref:jsonreference.Ref{referenceURL:(*url.URL)(nil), referencePointer:jsonpointer.Pointer{referenceTokens:[]string(nil)}, HasFullURL:false, HasURLPathOnly:false, HasFragmentOnly:false, HasFileScheme:false, HasFullFilePath:false}}}, CommonValidations:spec.CommonValidations{Maximum:(*float64)(nil), ExclusiveMaximum:false, Minimum:(*float64)(nil), ExclusiveMinimum:false, MaxLength:(*int64)(nil), MinLength:(*int64)(nil), Pattern:\"\", MaxItems:(*int64)(nil), MinItems:(*int64)(nil), UniqueItems:false, MultipleOf:(*float64)(nil), Enum:[]interface {}(nil)}, SimpleSchema:spec.SimpleSchema{Type:\"string\", Nullable:false, Format:\"uuid\", Items:(*spec.Items)(nil), CollectionFormat:\"\", Default:interface {}(nil), Example:interface {}(nil)}, VendorExtensible:spec.VendorExtensible{Extensions:spec.Extensions(nil)}, ParamProps:spec.ParamProps{Description:\"Unique ID of the Object.\", Name:\"id\", In:\"path\", Required:true, Schema:(*spec.Schema)(nil), AllowEmptyValue:false}}, spec.Parameter{Refable:spec.Refable{Ref:spec.Ref{Ref:jsonreference.Ref{referenceURL:(*url.URL)(nil), referencePointer:jsonpointer.Pointer{referenceTokens:[]string(nil)}, HasFullURL:false, HasURLPathOnly:false, HasFragmentOnly:false, HasFileScheme:false, HasFullFilePath:false}}}, CommonValidations:spec.CommonValidations{Maximum:(*float64)(nil), ExclusiveMaximum:false, Minimum:(*float64)(nil), ExclusiveMinimum:false, MaxLength:(*int64)(nil), MinLength:(*int64)(nil), Pattern:\"\", MaxItems:(*int64)(nil), MinItems:(*int64)(nil), UniqueItems:false, MultipleOf:(*float64)(nil), Enum:[]interface {}(nil)}, SimpleSchema:spec.SimpleSchema{Type:\"string\", Nullable:false, Format:\"\", Items:(*spec.Items)(nil), CollectionFormat:\"\", Default:interface {}(nil), Example:interface {}(nil)}, VendorExtensible:spec.VendorExtensible{Extensions:spec.Extensions(nil)}, ParamProps:spec.ParamProps{Description:\"Include additional information, such as classification infos. Allowed values include: classification, vector, interpretation\", Name:\"include\", In:\"query\", Required:false, Schema:(*spec.Schema)(nil), AllowEmptyValue:false}}, spec.Parameter{Refable:spec.Refable{Ref:spec.Ref{Ref:jsonreference.Ref{referenceURL:(*url.URL)(nil), referencePointer:jsonpointer.Pointer{referenceTokens:[]string(nil)}, HasFullURL:false, HasURLPathOnly:false, HasFragmentOnly:false, HasFileScheme:false, HasFullFilePath:false}}}, CommonValidations:spec.CommonValidations{Maximum:(*float64)(nil), ExclusiveMaximum:false, Minimum:(*float64)(nil), ExclusiveMinimum:false, MaxLength:(*int64)(nil), MinLength:(*int64)(nil), Pattern:\"\", MaxItems:(*int64)(nil), MinItems:(*int64)(nil), UniqueItems:false, MultipleOf:(*float64)(nil), Enum:[]interface {}(nil)}, SimpleSchema:spec.SimpleSchema{Type:\"string\", Nullable:false, Format:\"\", Items:(*spec.Items)(nil), CollectionFormat:\"\", Default:interface {}(nil), Example:interface {}(nil)}, VendorExtensible:spec.VendorExtensible{Extensions:spec.Extensions(nil)}, ParamProps:spec.ParamProps{Description:\"Determines how many replicas must acknowledge a request before it is considered successful\", Name:\"consistency_level\", In:\"query\", Required:false, Schema:(*spec.Schema)(nil), AllowEmptyValue:false}}, spec.Parameter{Refable:spec.Refable{Ref:spec.Ref{Ref:jsonreference.Ref{referenceURL:(*url.URL)(nil), referencePointer:jsonpointer.Pointer{referenceTokens:[]string(nil)}, HasFullURL:false, HasURLPathOnly:false, HasFragmentOnly:false, HasFileScheme:false, HasFullFilePath:false}}}, CommonValidations:spec.CommonValidations{Maximum:(*float64)(nil), ExclusiveMaximum:false, Minimum:(*float64)(nil), ExclusiveMinimum:false, MaxLength:(*int64)(nil), MinLength:(*int64)(nil), Pattern:\"\", MaxItems:(*int64)(nil), MinItems:(*int64)(nil), UniqueItems:false, MultipleOf:(*float64)(nil), Enum:[]interface {}(nil)}, SimpleSchema:spec.SimpleSchema{Type:\"string\", Nullable:false, Format:\"\", Items:(*spec.Items)(nil), CollectionFormat:\"\", Default:interface {}(nil), Example:interface {}(nil)}, VendorExtensible:spec.VendorExtensible{Extensions:spec.Extensions(nil)}, ParamProps:spec.ParamProps{Description:\"The target node which should fulfill the request\", Name:\"node_name\", In:\"query\", Required:false, Schema:(*spec.Schema)(nil), AllowEmptyValue:false}}, spec.Parameter{Refable:spec.Refable{Ref:spec.Ref{Ref:jsonreference.Ref{referenceURL:(*url.URL)(nil), referencePointer:jsonpointer.Pointer{referenceTokens:[]string(nil)}, HasFullURL:false, HasURLPathOnly:false, HasFragmentOnly:false, HasFileScheme:false, HasFullFilePath:false}}}, CommonValidations:spec.CommonValidations{Maximum:(*float64)(nil), ExclusiveMaximum:false, Minimum:(*float64)(nil), ExclusiveMinimum:false, MaxLength:(*int64)(nil), MinLength:(*int64)(nil), Pattern:\"\", MaxItems:(*int64)(nil), MinItems:(*int64)(nil), UniqueItems:false, MultipleOf:(*float64)(nil), Enum:[]interface {}(nil)}, SimpleSchema:spec.SimpleSchema{Type:\"string\", Nullable:false, Format:\"\", Items:(*spec.Items)(nil), CollectionFormat:\"\", Default:interface {}(nil), Example:interface {}(nil)}, VendorExtensible:spec.VendorExtensible{Extensions:spec.Extensions(nil)}, ParamProps:spec.ParamProps{Description:\"Specifies the tenant in a request targeting a multi-tenant class\", Name:\"tenant\", In:\"query\", Required:false, Schema:(*spec.Schema)(nil), AllowEmptyValue:false}}}, Responses:(*spec.Responses)(0xc0030d4030)}}\n",
      "adding route GET /v1/schema/{className}/shards \"schema.objects.shards.get\"\n",
      "operation: spec.Operation{VendorExtensible:spec.VendorExtensible{Extensions:spec.Extensions{\"x-serviceIds\":[]interface {}{\"weaviate.local.get.meta\"}}}, OperationProps:spec.OperationProps{Description:\"\", Consumes:[]string(nil), Produces:[]string(nil), Schemes:[]string(nil), Tags:[]string{\"schema\"}, Summary:\"Get the shards status of an Object class\", ExternalDocs:(*spec.ExternalDocumentation)(nil), ID:\"schema.objects.shards.get\", Deprecated:false, Security:[]map[string][]string(nil), Parameters:[]spec.Parameter{spec.Parameter{Refable:spec.Refable{Ref:spec.Ref{Ref:jsonreference.Ref{referenceURL:(*url.URL)(nil), referencePointer:jsonpointer.Pointer{referenceTokens:[]string(nil)}, HasFullURL:false, HasURLPathOnly:false, HasFragmentOnly:false, HasFileScheme:false, HasFullFilePath:false}}}, CommonValidations:spec.CommonValidations{Maximum:(*float64)(nil), ExclusiveMaximum:false, Minimum:(*float64)(nil), ExclusiveMinimum:false, MaxLength:(*int64)(nil), MinLength:(*int64)(nil), Pattern:\"\", MaxItems:(*int64)(nil), MinItems:(*int64)(nil), UniqueItems:false, MultipleOf:(*float64)(nil), Enum:[]interface {}(nil)}, SimpleSchema:spec.SimpleSchema{Type:\"string\", Nullable:false, Format:\"\", Items:(*spec.Items)(nil), CollectionFormat:\"\", Default:interface {}(nil), Example:interface {}(nil)}, VendorExtensible:spec.VendorExtensible{Extensions:spec.Extensions(nil)}, ParamProps:spec.ParamProps{Description:\"\", Name:\"className\", In:\"path\", Required:true, Schema:(*spec.Schema)(nil), AllowEmptyValue:false}}, spec.Parameter{Refable:spec.Refable{Ref:spec.Ref{Ref:jsonreference.Ref{referenceURL:(*url.URL)(nil), referencePointer:jsonpointer.Pointer{referenceTokens:[]string(nil)}, HasFullURL:false, HasURLPathOnly:false, HasFragmentOnly:false, HasFileScheme:false, HasFullFilePath:false}}}, CommonValidations:spec.CommonValidations{Maximum:(*float64)(nil), ExclusiveMaximum:false, Minimum:(*float64)(nil), ExclusiveMinimum:false, MaxLength:(*int64)(nil), MinLength:(*int64)(nil), Pattern:\"\", MaxItems:(*int64)(nil), MinItems:(*int64)(nil), UniqueItems:false, MultipleOf:(*float64)(nil), Enum:[]interface {}(nil)}, SimpleSchema:spec.SimpleSchema{Type:\"string\", Nullable:false, Format:\"\", Items:(*spec.Items)(nil), CollectionFormat:\"\", Default:interface {}(nil), Example:interface {}(nil)}, VendorExtensible:spec.VendorExtensible{Extensions:spec.Extensions(nil)}, ParamProps:spec.ParamProps{Description:\"\", Name:\"tenant\", In:\"query\", Required:false, Schema:(*spec.Schema)(nil), AllowEmptyValue:false}}}, Responses:(*spec.Responses)(0xc0032e9878)}}\n",
      "adding route GET /v1/meta \"meta.get\"\n",
      "operation: spec.Operation{VendorExtensible:spec.VendorExtensible{Extensions:spec.Extensions{\"x-available-in-mqtt\":false, \"x-available-in-websocket\":false, \"x-serviceIds\":[]interface {}{\"weaviate.local.query.meta\"}}}, OperationProps:spec.OperationProps{Description:\"Gives meta information about the server and can be used to provide information to another Weaviate instance that wants to interact with the current instance.\", Consumes:[]string(nil), Produces:[]string(nil), Schemes:[]string(nil), Tags:[]string{\"meta\"}, Summary:\"Returns meta information of the current Weaviate instance.\", ExternalDocs:(*spec.ExternalDocumentation)(nil), ID:\"meta.get\", Deprecated:false, Security:[]map[string][]string(nil), Parameters:[]spec.Parameter(nil), Responses:(*spec.Responses)(0xc003110ea0)}}\n",
      "adding route GET /v1/backups/{backend}/{id} \"backups.create.status\"\n",
      "operation: spec.Operation{VendorExtensible:spec.VendorExtensible{Extensions:spec.Extensions{\"x-serviceIds\":[]interface {}{\"weaviate.local.backup\"}}}, OperationProps:spec.OperationProps{Description:\"Returns status of backup creation attempt for a set of classes\", Consumes:[]string(nil), Produces:[]string(nil), Schemes:[]string(nil), Tags:[]string{\"backups\"}, Summary:\"\", ExternalDocs:(*spec.ExternalDocumentation)(nil), ID:\"backups.create.status\", Deprecated:false, Security:[]map[string][]string(nil), Parameters:[]spec.Parameter{spec.Parameter{Refable:spec.Refable{Ref:spec.Ref{Ref:jsonreference.Ref{referenceURL:(*url.URL)(nil), referencePointer:jsonpointer.Pointer{referenceTokens:[]string(nil)}, HasFullURL:false, HasURLPathOnly:false, HasFragmentOnly:false, HasFileScheme:false, HasFullFilePath:false}}}, CommonValidations:spec.CommonValidations{Maximum:(*float64)(nil), ExclusiveMaximum:false, Minimum:(*float64)(nil), ExclusiveMinimum:false, MaxLength:(*int64)(nil), MinLength:(*int64)(nil), Pattern:\"\", MaxItems:(*int64)(nil), MinItems:(*int64)(nil), UniqueItems:false, MultipleOf:(*float64)(nil), Enum:[]interface {}(nil)}, SimpleSchema:spec.SimpleSchema{Type:\"string\", Nullable:false, Format:\"\", Items:(*spec.Items)(nil), CollectionFormat:\"\", Default:interface {}(nil), Example:interface {}(nil)}, VendorExtensible:spec.VendorExtensible{Extensions:spec.Extensions(nil)}, ParamProps:spec.ParamProps{Description:\"Backup backend name e.g. filesystem, gcs, s3.\", Name:\"backend\", In:\"path\", Required:true, Schema:(*spec.Schema)(nil), AllowEmptyValue:false}}, spec.Parameter{Refable:spec.Refable{Ref:spec.Ref{Ref:jsonreference.Ref{referenceURL:(*url.URL)(nil), referencePointer:jsonpointer.Pointer{referenceTokens:[]string(nil)}, HasFullURL:false, HasURLPathOnly:false, HasFragmentOnly:false, HasFileScheme:false, HasFullFilePath:false}}}, CommonValidations:spec.CommonValidations{Maximum:(*float64)(nil), ExclusiveMaximum:false, Minimum:(*float64)(nil), ExclusiveMinimum:false, MaxLength:(*int64)(nil), MinLength:(*int64)(nil), Pattern:\"\", MaxItems:(*int64)(nil), MinItems:(*int64)(nil), UniqueItems:false, MultipleOf:(*float64)(nil), Enum:[]interface {}(nil)}, SimpleSchema:spec.SimpleSchema{Type:\"string\", Nullable:false, Format:\"\", Items:(*spec.Items)(nil), CollectionFormat:\"\", Default:interface {}(nil), Example:interface {}(nil)}, VendorExtensible:spec.VendorExtensible{Extensions:spec.Extensions(nil)}, ParamProps:spec.ParamProps{Description:\"The ID of a backup. Must be URL-safe and work as a filesystem path, only lowercase, numbers, underscore, minus characters allowed.\", Name:\"id\", In:\"path\", Required:true, Schema:(*spec.Schema)(nil), AllowEmptyValue:false}}}, Responses:(*spec.Responses)(0xc0031aedc8)}}\n",
      "adding route HEAD /v1/objects/{className}/{id} \"objects.class.head\"\n",
      "operation: spec.Operation{VendorExtensible:spec.VendorExtensible{Extensions:spec.Extensions{\"x-available-in-mqtt\":true, \"x-available-in-websocket\":true, \"x-serviceIds\":[]interface {}{\"weaviate.local.manipulate\"}}}, OperationProps:spec.OperationProps{Description:\"Checks if a data object exists without retrieving it.\", Consumes:[]string(nil), Produces:[]string(nil), Schemes:[]string(nil), Tags:[]string{\"objects\"}, Summary:\"Checks object's existence based on its class and uuid.\", ExternalDocs:(*spec.ExternalDocumentation)(nil), ID:\"objects.class.head\", Deprecated:false, Security:[]map[string][]string(nil), Parameters:[]spec.Parameter{spec.Parameter{Refable:spec.Refable{Ref:spec.Ref{Ref:jsonreference.Ref{referenceURL:(*url.URL)(nil), referencePointer:jsonpointer.Pointer{referenceTokens:[]string(nil)}, HasFullURL:false, HasURLPathOnly:false, HasFragmentOnly:false, HasFileScheme:false, HasFullFilePath:false}}}, CommonValidations:spec.CommonValidations{Maximum:(*float64)(nil), ExclusiveMaximum:false, Minimum:(*float64)(nil), ExclusiveMinimum:false, MaxLength:(*int64)(nil), MinLength:(*int64)(nil), Pattern:\"\", MaxItems:(*int64)(nil), MinItems:(*int64)(nil), UniqueItems:false, MultipleOf:(*float64)(nil), Enum:[]interface {}(nil)}, SimpleSchema:spec.SimpleSchema{Type:\"string\", Nullable:false, Format:\"\", Items:(*spec.Items)(nil), CollectionFormat:\"\", Default:interface {}(nil), Example:interface {}(nil)}, VendorExtensible:spec.VendorExtensible{Extensions:spec.Extensions(nil)}, ParamProps:spec.ParamProps{Description:\"The class name as defined in the schema\", Name:\"className\", In:\"path\", Required:true, Schema:(*spec.Schema)(nil), AllowEmptyValue:false}}, spec.Parameter{Refable:spec.Refable{Ref:spec.Ref{Ref:jsonreference.Ref{referenceURL:(*url.URL)(nil), referencePointer:jsonpointer.Pointer{referenceTokens:[]string(nil)}, HasFullURL:false, HasURLPathOnly:false, HasFragmentOnly:false, HasFileScheme:false, HasFullFilePath:false}}}, CommonValidations:spec.CommonValidations{Maximum:(*float64)(nil), ExclusiveMaximum:false, Minimum:(*float64)(nil), ExclusiveMinimum:false, MaxLength:(*int64)(nil), MinLength:(*int64)(nil), Pattern:\"\", MaxItems:(*int64)(nil), MinItems:(*int64)(nil), UniqueItems:false, MultipleOf:(*float64)(nil), Enum:[]interface {}(nil)}, SimpleSchema:spec.SimpleSchema{Type:\"string\", Nullable:false, Format:\"uuid\", Items:(*spec.Items)(nil), CollectionFormat:\"\", Default:interface {}(nil), Example:interface {}(nil)}, VendorExtensible:spec.VendorExtensible{Extensions:spec.Extensions(nil)}, ParamProps:spec.ParamProps{Description:\"The uuid of the data object\", Name:\"id\", In:\"path\", Required:true, Schema:(*spec.Schema)(nil), AllowEmptyValue:false}}, spec.Parameter{Refable:spec.Refable{Ref:spec.Ref{Ref:jsonreference.Ref{referenceURL:(*url.URL)(nil), referencePointer:jsonpointer.Pointer{referenceTokens:[]string(nil)}, HasFullURL:false, HasURLPathOnly:false, HasFragmentOnly:false, HasFileScheme:false, HasFullFilePath:false}}}, CommonValidations:spec.CommonValidations{Maximum:(*float64)(nil), ExclusiveMaximum:false, Minimum:(*float64)(nil), ExclusiveMinimum:false, MaxLength:(*int64)(nil), MinLength:(*int64)(nil), Pattern:\"\", MaxItems:(*int64)(nil), MinItems:(*int64)(nil), UniqueItems:false, MultipleOf:(*float64)(nil), Enum:[]interface {}(nil)}, SimpleSchema:spec.SimpleSchema{Type:\"string\", Nullable:false, Format:\"\", Items:(*spec.Items)(nil), CollectionFormat:\"\", Default:interface {}(nil), Example:interface {}(nil)}, VendorExtensible:spec.VendorExtensible{Extensions:spec.Extensions(nil)}, ParamProps:spec.ParamProps{Description:\"Determines how many replicas must acknowledge a request before it is considered successful\", Name:\"consistency_level\", In:\"query\", Required:false, Schema:(*spec.Schema)(nil), AllowEmptyValue:false}}, spec.Parameter{Refable:spec.Refable{Ref:spec.Ref{Ref:jsonreference.Ref{referenceURL:(*url.URL)(nil), referencePointer:jsonpointer.Pointer{referenceTokens:[]string(nil)}, HasFullURL:false, HasURLPathOnly:false, HasFragmentOnly:false, HasFileScheme:false, HasFullFilePath:false}}}, CommonValidations:spec.CommonValidations{Maximum:(*float64)(nil), ExclusiveMaximum:false, Minimum:(*float64)(nil), ExclusiveMinimum:false, MaxLength:(*int64)(nil), MinLength:(*int64)(nil), Pattern:\"\", MaxItems:(*int64)(nil), MinItems:(*int64)(nil), UniqueItems:false, MultipleOf:(*float64)(nil), Enum:[]interface {}(nil)}, SimpleSchema:spec.SimpleSchema{Type:\"string\", Nullable:false, Format:\"\", Items:(*spec.Items)(nil), CollectionFormat:\"\", Default:interface {}(nil), Example:interface {}(nil)}, VendorExtensible:spec.VendorExtensible{Extensions:spec.Extensions(nil)}, ParamProps:spec.ParamProps{Description:\"Specifies the tenant in a request targeting a multi-tenant class\", Name:\"tenant\", In:\"query\", Required:false, Schema:(*spec.Schema)(nil), AllowEmptyValue:false}}}, Responses:(*spec.Responses)(0xc0030d5968)}}\n",
      "adding route HEAD /v1/objects/{id} \"objects.head\"\n",
      "operation: spec.Operation{VendorExtensible:spec.VendorExtensible{Extensions:spec.Extensions{\"x-available-in-mqtt\":true, \"x-available-in-websocket\":true, \"x-serviceIds\":[]interface {}{\"weaviate.local.manipulate\"}}}, OperationProps:spec.OperationProps{Description:\"Checks if an Object exists in the system.\", Consumes:[]string(nil), Produces:[]string(nil), Schemes:[]string(nil), Tags:[]string{\"objects\"}, Summary:\"Checks Object's existence based on its UUID.\", ExternalDocs:(*spec.ExternalDocumentation)(nil), ID:\"objects.head\", Deprecated:true, Security:[]map[string][]string(nil), Parameters:[]spec.Parameter{spec.Parameter{Refable:spec.Refable{Ref:spec.Ref{Ref:jsonreference.Ref{referenceURL:(*url.URL)(nil), referencePointer:jsonpointer.Pointer{referenceTokens:[]string(nil)}, HasFullURL:false, HasURLPathOnly:false, HasFragmentOnly:false, HasFileScheme:false, HasFullFilePath:false}}}, CommonValidations:spec.CommonValidations{Maximum:(*float64)(nil), ExclusiveMaximum:false, Minimum:(*float64)(nil), ExclusiveMinimum:false, MaxLength:(*int64)(nil), MinLength:(*int64)(nil), Pattern:\"\", MaxItems:(*int64)(nil), MinItems:(*int64)(nil), UniqueItems:false, MultipleOf:(*float64)(nil), Enum:[]interface {}(nil)}, SimpleSchema:spec.SimpleSchema{Type:\"string\", Nullable:false, Format:\"uuid\", Items:(*spec.Items)(nil), CollectionFormat:\"\", Default:interface {}(nil), Example:interface {}(nil)}, VendorExtensible:spec.VendorExtensible{Extensions:spec.Extensions(nil)}, ParamProps:spec.ParamProps{Description:\"Unique ID of the Object.\", Name:\"id\", In:\"path\", Required:true, Schema:(*spec.Schema)(nil), AllowEmptyValue:false}}}, Responses:(*spec.Responses)(0xc00329c2d0)}}\n",
      "adding route DELETE /v1/schema/{className} \"schema.objects.delete\"\n",
      "operation: spec.Operation{VendorExtensible:spec.VendorExtensible{Extensions:spec.Extensions{\"x-serviceIds\":[]interface {}{\"weaviate.local.manipulate.meta\"}}}, OperationProps:spec.OperationProps{Description:\"\", Consumes:[]string(nil), Produces:[]string(nil), Schemes:[]string(nil), Tags:[]string{\"schema\"}, Summary:\"Remove an Object class (and all data in the instances) from the schema.\", ExternalDocs:(*spec.ExternalDocumentation)(nil), ID:\"schema.objects.delete\", Deprecated:false, Security:[]map[string][]string(nil), Parameters:[]spec.Parameter{spec.Parameter{Refable:spec.Refable{Ref:spec.Ref{Ref:jsonreference.Ref{referenceURL:(*url.URL)(nil), referencePointer:jsonpointer.Pointer{referenceTokens:[]string(nil)}, HasFullURL:false, HasURLPathOnly:false, HasFragmentOnly:false, HasFileScheme:false, HasFullFilePath:false}}}, CommonValidations:spec.CommonValidations{Maximum:(*float64)(nil), ExclusiveMaximum:false, Minimum:(*float64)(nil), ExclusiveMinimum:false, MaxLength:(*int64)(nil), MinLength:(*int64)(nil), Pattern:\"\", MaxItems:(*int64)(nil), MinItems:(*int64)(nil), UniqueItems:false, MultipleOf:(*float64)(nil), Enum:[]interface {}(nil)}, SimpleSchema:spec.SimpleSchema{Type:\"string\", Nullable:false, Format:\"\", Items:(*spec.Items)(nil), CollectionFormat:\"\", Default:interface {}(nil), Example:interface {}(nil)}, VendorExtensible:spec.VendorExtensible{Extensions:spec.Extensions(nil)}, ParamProps:spec.ParamProps{Description:\"\", Name:\"className\", In:\"path\", Required:true, Schema:(*spec.Schema)(nil), AllowEmptyValue:false}}}, Responses:(*spec.Responses)(0xc0032e8840)}}\n",
      "adding route DELETE /v1/objects/{className}/{id} \"objects.class.delete\"\n",
      "operation: spec.Operation{VendorExtensible:spec.VendorExtensible{Extensions:spec.Extensions{\"x-available-in-mqtt\":true, \"x-available-in-websocket\":true, \"x-serviceIds\":[]interface {}{\"weaviate.local.manipulate\"}}}, OperationProps:spec.OperationProps{Description:\"Delete a single data object.\", Consumes:[]string(nil), Produces:[]string(nil), Schemes:[]string(nil), Tags:[]string{\"objects\"}, Summary:\"Delete object based on its class and UUID.\", ExternalDocs:(*spec.ExternalDocumentation)(nil), ID:\"objects.class.delete\", Deprecated:false, Security:[]map[string][]string(nil), Parameters:[]spec.Parameter{spec.Parameter{Refable:spec.Refable{Ref:spec.Ref{Ref:jsonreference.Ref{referenceURL:(*url.URL)(nil), referencePointer:jsonpointer.Pointer{referenceTokens:[]string(nil)}, HasFullURL:false, HasURLPathOnly:false, HasFragmentOnly:false, HasFileScheme:false, HasFullFilePath:false}}}, CommonValidations:spec.CommonValidations{Maximum:(*float64)(nil), ExclusiveMaximum:false, Minimum:(*float64)(nil), ExclusiveMinimum:false, MaxLength:(*int64)(nil), MinLength:(*int64)(nil), Pattern:\"\", MaxItems:(*int64)(nil), MinItems:(*int64)(nil), UniqueItems:false, MultipleOf:(*float64)(nil), Enum:[]interface {}(nil)}, SimpleSchema:spec.SimpleSchema{Type:\"string\", Nullable:false, Format:\"\", Items:(*spec.Items)(nil), CollectionFormat:\"\", Default:interface {}(nil), Example:interface {}(nil)}, VendorExtensible:spec.VendorExtensible{Extensions:spec.Extensions(nil)}, ParamProps:spec.ParamProps{Description:\"\", Name:\"className\", In:\"path\", Required:true, Schema:(*spec.Schema)(nil), AllowEmptyValue:false}}, spec.Parameter{Refable:spec.Refable{Ref:spec.Ref{Ref:jsonreference.Ref{referenceURL:(*url.URL)(nil), referencePointer:jsonpointer.Pointer{referenceTokens:[]string(nil)}, HasFullURL:false, HasURLPathOnly:false, HasFragmentOnly:false, HasFileScheme:false, HasFullFilePath:false}}}, CommonValidations:spec.CommonValidations{Maximum:(*float64)(nil), ExclusiveMaximum:false, Minimum:(*float64)(nil), ExclusiveMinimum:false, MaxLength:(*int64)(nil), MinLength:(*int64)(nil), Pattern:\"\", MaxItems:(*int64)(nil), MinItems:(*int64)(nil), UniqueItems:false, MultipleOf:(*float64)(nil), Enum:[]interface {}(nil)}, SimpleSchema:spec.SimpleSchema{Type:\"string\", Nullable:false, Format:\"uuid\", Items:(*spec.Items)(nil), CollectionFormat:\"\", Default:interface {}(nil), Example:interface {}(nil)}, VendorExtensible:spec.VendorExtensible{Extensions:spec.Extensions(nil)}, ParamProps:spec.ParamProps{Description:\"Unique ID of the Object.\", Name:\"id\", In:\"path\", Required:true, Schema:(*spec.Schema)(nil), AllowEmptyValue:false}}, spec.Parameter{Refable:spec.Refable{Ref:spec.Ref{Ref:jsonreference.Ref{referenceURL:(*url.URL)(nil), referencePointer:jsonpointer.Pointer{referenceTokens:[]string(nil)}, HasFullURL:false, HasURLPathOnly:false, HasFragmentOnly:false, HasFileScheme:false, HasFullFilePath:false}}}, CommonValidations:spec.CommonValidations{Maximum:(*float64)(nil), ExclusiveMaximum:false, Minimum:(*float64)(nil), ExclusiveMinimum:false, MaxLength:(*int64)(nil), MinLength:(*int64)(nil), Pattern:\"\", MaxItems:(*int64)(nil), MinItems:(*int64)(nil), UniqueItems:false, MultipleOf:(*float64)(nil), Enum:[]interface {}(nil)}, SimpleSchema:spec.SimpleSchema{Type:\"string\", Nullable:false, Format:\"\", Items:(*spec.Items)(nil), CollectionFormat:\"\", Default:interface {}(nil), Example:interface {}(nil)}, VendorExtensible:spec.VendorExtensible{Extensions:spec.Extensions(nil)}, ParamProps:spec.ParamProps{Description:\"Determines how many replicas must acknowledge a request before it is considered successful\", Name:\"consistency_level\", In:\"query\", Required:false, Schema:(*spec.Schema)(nil), AllowEmptyValue:false}}, spec.Parameter{Refable:spec.Refable{Ref:spec.Ref{Ref:jsonreference.Ref{referenceURL:(*url.URL)(nil), referencePointer:jsonpointer.Pointer{referenceTokens:[]string(nil)}, HasFullURL:false, HasURLPathOnly:false, HasFragmentOnly:false, HasFileScheme:false, HasFullFilePath:false}}}, CommonValidations:spec.CommonValidations{Maximum:(*float64)(nil), ExclusiveMaximum:false, Minimum:(*float64)(nil), ExclusiveMinimum:false, MaxLength:(*int64)(nil), MinLength:(*int64)(nil), Pattern:\"\", MaxItems:(*int64)(nil), MinItems:(*int64)(nil), UniqueItems:false, MultipleOf:(*float64)(nil), Enum:[]interface {}(nil)}, SimpleSchema:spec.SimpleSchema{Type:\"string\", Nullable:false, Format:\"\", Items:(*spec.Items)(nil), CollectionFormat:\"\", Default:interface {}(nil), Example:interface {}(nil)}, VendorExtensible:spec.VendorExtensible{Extensions:spec.Extensions(nil)}, ParamProps:spec.ParamProps{Description:\"Specifies the tenant in a request targeting a multi-tenant class\", Name:\"tenant\", In:\"query\", Required:false, Schema:(*spec.Schema)(nil), AllowEmptyValue:false}}}, Responses:(*spec.Responses)(0xc0030d50e0)}}\n",
      "adding route DELETE /v1/schema/{className}/tenants \"tenants.delete\"\n",
      "operation: spec.Operation{VendorExtensible:spec.VendorExtensible{Extensions:spec.Extensions(nil)}, OperationProps:spec.OperationProps{Description:\"delete tenants from a specific class\", Consumes:[]string(nil), Produces:[]string(nil), Schemes:[]string(nil), Tags:[]string{\"schema\"}, Summary:\"\", ExternalDocs:(*spec.ExternalDocumentation)(nil), ID:\"tenants.delete\", Deprecated:false, Security:[]map[string][]string(nil), Parameters:[]spec.Parameter{spec.Parameter{Refable:spec.Refable{Ref:spec.Ref{Ref:jsonreference.Ref{referenceURL:(*url.URL)(nil), referencePointer:jsonpointer.Pointer{referenceTokens:[]string(nil)}, HasFullURL:false, HasURLPathOnly:false, HasFragmentOnly:false, HasFileScheme:false, HasFullFilePath:false}}}, CommonValidations:spec.CommonValidations{Maximum:(*float64)(nil), ExclusiveMaximum:false, Minimum:(*float64)(nil), ExclusiveMinimum:false, MaxLength:(*int64)(nil), MinLength:(*int64)(nil), Pattern:\"\", MaxItems:(*int64)(nil), MinItems:(*int64)(nil), UniqueItems:false, MultipleOf:(*float64)(nil), Enum:[]interface {}(nil)}, SimpleSchema:spec.SimpleSchema{Type:\"string\", Nullable:false, Format:\"\", Items:(*spec.Items)(nil), CollectionFormat:\"\", Default:interface {}(nil), Example:interface {}(nil)}, VendorExtensible:spec.VendorExtensible{Extensions:spec.Extensions(nil)}, ParamProps:spec.ParamProps{Description:\"\", Name:\"className\", In:\"path\", Required:true, Schema:(*spec.Schema)(nil), AllowEmptyValue:false}}, spec.Parameter{Refable:spec.Refable{Ref:spec.Ref{Ref:jsonreference.Ref{referenceURL:(*url.URL)(nil), referencePointer:jsonpointer.Pointer{referenceTokens:[]string(nil)}, HasFullURL:false, HasURLPathOnly:false, HasFragmentOnly:false, HasFileScheme:false, HasFullFilePath:false}}}, CommonValidations:spec.CommonValidations{Maximum:(*float64)(nil), ExclusiveMaximum:false, Minimum:(*float64)(nil), ExclusiveMinimum:false, MaxLength:(*int64)(nil), MinLength:(*int64)(nil), Pattern:\"\", MaxItems:(*int64)(nil), MinItems:(*int64)(nil), UniqueItems:false, MultipleOf:(*float64)(nil), Enum:[]interface {}(nil)}, SimpleSchema:spec.SimpleSchema{Type:\"\", Nullable:false, Format:\"\", Items:(*spec.Items)(nil), CollectionFormat:\"\", Default:interface {}(nil), Example:interface {}(nil)}, VendorExtensible:spec.VendorExtensible{Extensions:spec.Extensions(nil)}, ParamProps:spec.ParamProps{Description:\"\", Name:\"tenants\", In:\"body\", Required:true, Schema:(*spec.Schema)(0xc0033d8fc0), AllowEmptyValue:false}}}, Responses:(*spec.Responses)(0xc0033e2210)}}\n",
      "adding route DELETE /v1/objects/{id} \"objects.delete\"\n",
      "operation: spec.Operation{VendorExtensible:spec.VendorExtensible{Extensions:spec.Extensions{\"x-available-in-mqtt\":true, \"x-available-in-websocket\":true, \"x-serviceIds\":[]interface {}{\"weaviate.local.manipulate\"}}}, OperationProps:spec.OperationProps{Description:\"Deletes an Object from the system.\", Consumes:[]string(nil), Produces:[]string(nil), Schemes:[]string(nil), Tags:[]string{\"objects\"}, Summary:\"Delete an Object based on its UUID.\", ExternalDocs:(*spec.ExternalDocumentation)(nil), ID:\"objects.delete\", Deprecated:true, Security:[]map[string][]string(nil), Parameters:[]spec.Parameter{spec.Parameter{Refable:spec.Refable{Ref:spec.Ref{Ref:jsonreference.Ref{referenceURL:(*url.URL)(nil), referencePointer:jsonpointer.Pointer{referenceTokens:[]string(nil)}, HasFullURL:false, HasURLPathOnly:false, HasFragmentOnly:false, HasFileScheme:false, HasFullFilePath:false}}}, CommonValidations:spec.CommonValidations{Maximum:(*float64)(nil), ExclusiveMaximum:false, Minimum:(*float64)(nil), ExclusiveMinimum:false, MaxLength:(*int64)(nil), MinLength:(*int64)(nil), Pattern:\"\", MaxItems:(*int64)(nil), MinItems:(*int64)(nil), UniqueItems:false, MultipleOf:(*float64)(nil), Enum:[]interface {}(nil)}, SimpleSchema:spec.SimpleSchema{Type:\"string\", Nullable:false, Format:\"uuid\", Items:(*spec.Items)(nil), CollectionFormat:\"\", Default:interface {}(nil), Example:interface {}(nil)}, VendorExtensible:spec.VendorExtensible{Extensions:spec.Extensions(nil)}, ParamProps:spec.ParamProps{Description:\"Unique ID of the Object.\", Name:\"id\", In:\"path\", Required:true, Schema:(*spec.Schema)(nil), AllowEmptyValue:false}}, spec.Parameter{Refable:spec.Refable{Ref:spec.Ref{Ref:jsonreference.Ref{referenceURL:(*url.URL)(nil), referencePointer:jsonpointer.Pointer{referenceTokens:[]string(nil)}, HasFullURL:false, HasURLPathOnly:false, HasFragmentOnly:false, HasFileScheme:false, HasFullFilePath:false}}}, CommonValidations:spec.CommonValidations{Maximum:(*float64)(nil), ExclusiveMaximum:false, Minimum:(*float64)(nil), ExclusiveMinimum:false, MaxLength:(*int64)(nil), MinLength:(*int64)(nil), Pattern:\"\", MaxItems:(*int64)(nil), MinItems:(*int64)(nil), UniqueItems:false, MultipleOf:(*float64)(nil), Enum:[]interface {}(nil)}, SimpleSchema:spec.SimpleSchema{Type:\"string\", Nullable:false, Format:\"\", Items:(*spec.Items)(nil), CollectionFormat:\"\", Default:interface {}(nil), Example:interface {}(nil)}, VendorExtensible:spec.VendorExtensible{Extensions:spec.Extensions(nil)}, ParamProps:spec.ParamProps{Description:\"Determines how many replicas must acknowledge a request before it is considered successful\", Name:\"consistency_level\", In:\"query\", Required:false, Schema:(*spec.Schema)(nil), AllowEmptyValue:false}}, spec.Parameter{Refable:spec.Refable{Ref:spec.Ref{Ref:jsonreference.Ref{referenceURL:(*url.URL)(nil), referencePointer:jsonpointer.Pointer{referenceTokens:[]string(nil)}, HasFullURL:false, HasURLPathOnly:false, HasFragmentOnly:false, HasFileScheme:false, HasFullFilePath:false}}}, CommonValidations:spec.CommonValidations{Maximum:(*float64)(nil), ExclusiveMaximum:false, Minimum:(*float64)(nil), ExclusiveMinimum:false, MaxLength:(*int64)(nil), MinLength:(*int64)(nil), Pattern:\"\", MaxItems:(*int64)(nil), MinItems:(*int64)(nil), UniqueItems:false, MultipleOf:(*float64)(nil), Enum:[]interface {}(nil)}, SimpleSchema:spec.SimpleSchema{Type:\"string\", Nullable:false, Format:\"\", Items:(*spec.Items)(nil), CollectionFormat:\"\", Default:interface {}(nil), Example:interface {}(nil)}, VendorExtensible:spec.VendorExtensible{Extensions:spec.Extensions(nil)}, ParamProps:spec.ParamProps{Description:\"Specifies the tenant in a request targeting a multi-tenant class\", Name:\"tenant\", In:\"query\", Required:false, Schema:(*spec.Schema)(nil), AllowEmptyValue:false}}}, Responses:(*spec.Responses)(0xc00324dde8)}}\n",
      "adding route DELETE /v1/objects/{className}/{id}/references/{propertyName} \"objects.class.references.delete\"\n",
      "operation: spec.Operation{VendorExtensible:spec.VendorExtensible{Extensions:spec.Extensions{\"x-available-in-mqtt\":false, \"x-available-in-websocket\":false, \"x-serviceIds\":[]interface {}{\"weaviate.local.manipulate\"}}}, OperationProps:spec.OperationProps{Description:\"Delete the single reference that is given in the body from the list of references that this property of a data object has\", Consumes:[]string(nil), Produces:[]string(nil), Schemes:[]string(nil), Tags:[]string{\"objects\"}, Summary:\"Delete the single reference that is given in the body from the list of references that this property has.\", ExternalDocs:(*spec.ExternalDocumentation)(nil), ID:\"objects.class.references.delete\", Deprecated:false, Security:[]map[string][]string(nil), Parameters:[]spec.Parameter{spec.Parameter{Refable:spec.Refable{Ref:spec.Ref{Ref:jsonreference.Ref{referenceURL:(*url.URL)(nil), referencePointer:jsonpointer.Pointer{referenceTokens:[]string(nil)}, HasFullURL:false, HasURLPathOnly:false, HasFragmentOnly:false, HasFileScheme:false, HasFullFilePath:false}}}, CommonValidations:spec.CommonValidations{Maximum:(*float64)(nil), ExclusiveMaximum:false, Minimum:(*float64)(nil), ExclusiveMinimum:false, MaxLength:(*int64)(nil), MinLength:(*int64)(nil), Pattern:\"\", MaxItems:(*int64)(nil), MinItems:(*int64)(nil), UniqueItems:false, MultipleOf:(*float64)(nil), Enum:[]interface {}(nil)}, SimpleSchema:spec.SimpleSchema{Type:\"string\", Nullable:false, Format:\"\", Items:(*spec.Items)(nil), CollectionFormat:\"\", Default:interface {}(nil), Example:interface {}(nil)}, VendorExtensible:spec.VendorExtensible{Extensions:spec.Extensions(nil)}, ParamProps:spec.ParamProps{Description:\"The class name as defined in the schema\", Name:\"className\", In:\"path\", Required:true, Schema:(*spec.Schema)(nil), AllowEmptyValue:false}}, spec.Parameter{Refable:spec.Refable{Ref:spec.Ref{Ref:jsonreference.Ref{referenceURL:(*url.URL)(nil), referencePointer:jsonpointer.Pointer{referenceTokens:[]string(nil)}, HasFullURL:false, HasURLPathOnly:false, HasFragmentOnly:false, HasFileScheme:false, HasFullFilePath:false}}}, CommonValidations:spec.CommonValidations{Maximum:(*float64)(nil), ExclusiveMaximum:false, Minimum:(*float64)(nil), ExclusiveMinimum:false, MaxLength:(*int64)(nil), MinLength:(*int64)(nil), Pattern:\"\", MaxItems:(*int64)(nil), MinItems:(*int64)(nil), UniqueItems:false, MultipleOf:(*float64)(nil), Enum:[]interface {}(nil)}, SimpleSchema:spec.SimpleSchema{Type:\"string\", Nullable:false, Format:\"uuid\", Items:(*spec.Items)(nil), CollectionFormat:\"\", Default:interface {}(nil), Example:interface {}(nil)}, VendorExtensible:spec.VendorExtensible{Extensions:spec.Extensions(nil)}, ParamProps:spec.ParamProps{Description:\"Unique ID of the Object.\", Name:\"id\", In:\"path\", Required:true, Schema:(*spec.Schema)(nil), AllowEmptyValue:false}}, spec.Parameter{Refable:spec.Refable{Ref:spec.Ref{Ref:jsonreference.Ref{referenceURL:(*url.URL)(nil), referencePointer:jsonpointer.Pointer{referenceTokens:[]string(nil)}, HasFullURL:false, HasURLPathOnly:false, HasFragmentOnly:false, HasFileScheme:false, HasFullFilePath:false}}}, CommonValidations:spec.CommonValidations{Maximum:(*float64)(nil), ExclusiveMaximum:false, Minimum:(*float64)(nil), ExclusiveMinimum:false, MaxLength:(*int64)(nil), MinLength:(*int64)(nil), Pattern:\"\", MaxItems:(*int64)(nil), MinItems:(*int64)(nil), UniqueItems:false, MultipleOf:(*float64)(nil), Enum:[]interface {}(nil)}, SimpleSchema:spec.SimpleSchema{Type:\"string\", Nullable:false, Format:\"\", Items:(*spec.Items)(nil), CollectionFormat:\"\", Default:interface {}(nil), Example:interface {}(nil)}, VendorExtensible:spec.VendorExtensible{Extensions:spec.Extensions(nil)}, ParamProps:spec.ParamProps{Description:\"Unique name of the property related to the Object.\", Name:\"propertyName\", In:\"path\", Required:true, Schema:(*spec.Schema)(nil), AllowEmptyValue:false}}, spec.Parameter{Refable:spec.Refable{Ref:spec.Ref{Ref:jsonreference.Ref{referenceURL:(*url.URL)(nil), referencePointer:jsonpointer.Pointer{referenceTokens:[]string(nil)}, HasFullURL:false, HasURLPathOnly:false, HasFragmentOnly:false, HasFileScheme:false, HasFullFilePath:false}}}, CommonValidations:spec.CommonValidations{Maximum:(*float64)(nil), ExclusiveMaximum:false, Minimum:(*float64)(nil), ExclusiveMinimum:false, MaxLength:(*int64)(nil), MinLength:(*int64)(nil), Pattern:\"\", MaxItems:(*int64)(nil), MinItems:(*int64)(nil), UniqueItems:false, MultipleOf:(*float64)(nil), Enum:[]interface {}(nil)}, SimpleSchema:spec.SimpleSchema{Type:\"\", Nullable:false, Format:\"\", Items:(*spec.Items)(nil), CollectionFormat:\"\", Default:interface {}(nil), Example:interface {}(nil)}, VendorExtensible:spec.VendorExtensible{Extensions:spec.Extensions(nil)}, ParamProps:spec.ParamProps{Description:\"\", Name:\"body\", In:\"body\", Required:true, Schema:(*spec.Schema)(0xc00323d680), AllowEmptyValue:false}}, spec.Parameter{Refable:spec.Refable{Ref:spec.Ref{Ref:jsonreference.Ref{referenceURL:(*url.URL)(nil), referencePointer:jsonpointer.Pointer{referenceTokens:[]string(nil)}, HasFullURL:false, HasURLPathOnly:false, HasFragmentOnly:false, HasFileScheme:false, HasFullFilePath:false}}}, CommonValidations:spec.CommonValidations{Maximum:(*float64)(nil), ExclusiveMaximum:false, Minimum:(*float64)(nil), ExclusiveMinimum:false, MaxLength:(*int64)(nil), MinLength:(*int64)(nil), Pattern:\"\", MaxItems:(*int64)(nil), MinItems:(*int64)(nil), UniqueItems:false, MultipleOf:(*float64)(nil), Enum:[]interface {}(nil)}, SimpleSchema:spec.SimpleSchema{Type:\"string\", Nullable:false, Format:\"\", Items:(*spec.Items)(nil), CollectionFormat:\"\", Default:interface {}(nil), Example:interface {}(nil)}, VendorExtensible:spec.VendorExtensible{Extensions:spec.Extensions(nil)}, ParamProps:spec.ParamProps{Description:\"Determines how many replicas must acknowledge a request before it is considered successful\", Name:\"consistency_level\", In:\"query\", Required:false, Schema:(*spec.Schema)(nil), AllowEmptyValue:false}}, spec.Parameter{Refable:spec.Refable{Ref:spec.Ref{Ref:jsonreference.Ref{referenceURL:(*url.URL)(nil), referencePointer:jsonpointer.Pointer{referenceTokens:[]string(nil)}, HasFullURL:false, HasURLPathOnly:false, HasFragmentOnly:false, HasFileScheme:false, HasFullFilePath:false}}}, CommonValidations:spec.CommonValidations{Maximum:(*float64)(nil), ExclusiveMaximum:false, Minimum:(*float64)(nil), ExclusiveMinimum:false, MaxLength:(*int64)(nil), MinLength:(*int64)(nil), Pattern:\"\", MaxItems:(*int64)(nil), MinItems:(*int64)(nil), UniqueItems:false, MultipleOf:(*float64)(nil), Enum:[]interface {}(nil)}, SimpleSchema:spec.SimpleSchema{Type:\"string\", Nullable:false, Format:\"\", Items:(*spec.Items)(nil), CollectionFormat:\"\", Default:interface {}(nil), Example:interface {}(nil)}, VendorExtensible:spec.VendorExtensible{Extensions:spec.Extensions(nil)}, ParamProps:spec.ParamProps{Description:\"Specifies the tenant in a request targeting a multi-tenant class\", Name:\"tenant\", In:\"query\", Required:false, Schema:(*spec.Schema)(nil), AllowEmptyValue:false}}}, Responses:(*spec.Responses)(0xc00324c450)}}\n",
      "adding route DELETE /v1/objects/{id}/references/{propertyName} \"objects.references.delete\"\n",
      "operation: spec.Operation{VendorExtensible:spec.VendorExtensible{Extensions:spec.Extensions{\"x-available-in-mqtt\":false, \"x-available-in-websocket\":false, \"x-serviceIds\":[]interface {}{\"weaviate.local.manipulate\"}}}, OperationProps:spec.OperationProps{Description:\"Delete the single reference that is given in the body from the list of references that this property has.\", Consumes:[]string(nil), Produces:[]string(nil), Schemes:[]string(nil), Tags:[]string{\"objects\"}, Summary:\"Delete the single reference that is given in the body from the list of references that this property has.\", ExternalDocs:(*spec.ExternalDocumentation)(nil), ID:\"objects.references.delete\", Deprecated:true, Security:[]map[string][]string(nil), Parameters:[]spec.Parameter{spec.Parameter{Refable:spec.Refable{Ref:spec.Ref{Ref:jsonreference.Ref{referenceURL:(*url.URL)(nil), referencePointer:jsonpointer.Pointer{referenceTokens:[]string(nil)}, HasFullURL:false, HasURLPathOnly:false, HasFragmentOnly:false, HasFileScheme:false, HasFullFilePath:false}}}, CommonValidations:spec.CommonValidations{Maximum:(*float64)(nil), ExclusiveMaximum:false, Minimum:(*float64)(nil), ExclusiveMinimum:false, MaxLength:(*int64)(nil), MinLength:(*int64)(nil), Pattern:\"\", MaxItems:(*int64)(nil), MinItems:(*int64)(nil), UniqueItems:false, MultipleOf:(*float64)(nil), Enum:[]interface {}(nil)}, SimpleSchema:spec.SimpleSchema{Type:\"string\", Nullable:false, Format:\"uuid\", Items:(*spec.Items)(nil), CollectionFormat:\"\", Default:interface {}(nil), Example:interface {}(nil)}, VendorExtensible:spec.VendorExtensible{Extensions:spec.Extensions(nil)}, ParamProps:spec.ParamProps{Description:\"Unique ID of the Object.\", Name:\"id\", In:\"path\", Required:true, Schema:(*spec.Schema)(nil), AllowEmptyValue:false}}, spec.Parameter{Refable:spec.Refable{Ref:spec.Ref{Ref:jsonreference.Ref{referenceURL:(*url.URL)(nil), referencePointer:jsonpointer.Pointer{referenceTokens:[]string(nil)}, HasFullURL:false, HasURLPathOnly:false, HasFragmentOnly:false, HasFileScheme:false, HasFullFilePath:false}}}, CommonValidations:spec.CommonValidations{Maximum:(*float64)(nil), ExclusiveMaximum:false, Minimum:(*float64)(nil), ExclusiveMinimum:false, MaxLength:(*int64)(nil), MinLength:(*int64)(nil), Pattern:\"\", MaxItems:(*int64)(nil), MinItems:(*int64)(nil), UniqueItems:false, MultipleOf:(*float64)(nil), Enum:[]interface {}(nil)}, SimpleSchema:spec.SimpleSchema{Type:\"string\", Nullable:false, Format:\"\", Items:(*spec.Items)(nil), CollectionFormat:\"\", Default:interface {}(nil), Example:interface {}(nil)}, VendorExtensible:spec.VendorExtensible{Extensions:spec.Extensions(nil)}, ParamProps:spec.ParamProps{Description:\"Unique name of the property related to the Object.\", Name:\"propertyName\", In:\"path\", Required:true, Schema:(*spec.Schema)(nil), AllowEmptyValue:false}}, spec.Parameter{Refable:spec.Refable{Ref:spec.Ref{Ref:jsonreference.Ref{referenceURL:(*url.URL)(nil), referencePointer:jsonpointer.Pointer{referenceTokens:[]string(nil)}, HasFullURL:false, HasURLPathOnly:false, HasFragmentOnly:false, HasFileScheme:false, HasFullFilePath:false}}}, CommonValidations:spec.CommonValidations{Maximum:(*float64)(nil), ExclusiveMaximum:false, Minimum:(*float64)(nil), ExclusiveMinimum:false, MaxLength:(*int64)(nil), MinLength:(*int64)(nil), Pattern:\"\", MaxItems:(*int64)(nil), MinItems:(*int64)(nil), UniqueItems:false, MultipleOf:(*float64)(nil), Enum:[]interface {}(nil)}, SimpleSchema:spec.SimpleSchema{Type:\"\", Nullable:false, Format:\"\", Items:(*spec.Items)(nil), CollectionFormat:\"\", Default:interface {}(nil), Example:interface {}(nil)}, VendorExtensible:spec.VendorExtensible{Extensions:spec.Extensions(nil)}, ParamProps:spec.ParamProps{Description:\"\", Name:\"body\", In:\"body\", Required:true, Schema:(*spec.Schema)(0xc00317cb40), AllowEmptyValue:false}}, spec.Parameter{Refable:spec.Refable{Ref:spec.Ref{Ref:jsonreference.Ref{referenceURL:(*url.URL)(nil), referencePointer:jsonpointer.Pointer{referenceTokens:[]string(nil)}, HasFullURL:false, HasURLPathOnly:false, HasFragmentOnly:false, HasFileScheme:false, HasFullFilePath:false}}}, CommonValidations:spec.CommonValidations{Maximum:(*float64)(nil), ExclusiveMaximum:false, Minimum:(*float64)(nil), ExclusiveMinimum:false, MaxLength:(*int64)(nil), MinLength:(*int64)(nil), Pattern:\"\", MaxItems:(*int64)(nil), MinItems:(*int64)(nil), UniqueItems:false, MultipleOf:(*float64)(nil), Enum:[]interface {}(nil)}, SimpleSchema:spec.SimpleSchema{Type:\"string\", Nullable:false, Format:\"\", Items:(*spec.Items)(nil), CollectionFormat:\"\", Default:interface {}(nil), Example:interface {}(nil)}, VendorExtensible:spec.VendorExtensible{Extensions:spec.Extensions(nil)}, ParamProps:spec.ParamProps{Description:\"Specifies the tenant in a request targeting a multi-tenant class\", Name:\"tenant\", In:\"query\", Required:false, Schema:(*spec.Schema)(nil), AllowEmptyValue:false}}}, Responses:(*spec.Responses)(0xc0031672a8)}}\n",
      "adding route DELETE /v1/batch/objects \"batch.objects.delete\"\n",
      "operation: spec.Operation{VendorExtensible:spec.VendorExtensible{Extensions:spec.Extensions{\"x-available-in-mqtt\":false, \"x-available-in-websocket\":false, \"x-serviceIds\":[]interface {}{\"weaviate.local.manipulate\"}}}, OperationProps:spec.OperationProps{Description:\"Delete Objects in bulk that match a certain filter.\", Consumes:[]string(nil), Produces:[]string(nil), Schemes:[]string(nil), Tags:[]string{\"batch\", \"objects\"}, Summary:\"Deletes Objects based on a match filter as a batch.\", ExternalDocs:(*spec.ExternalDocumentation)(nil), ID:\"batch.objects.delete\", Deprecated:false, Security:[]map[string][]string(nil), Parameters:[]spec.Parameter{spec.Parameter{Refable:spec.Refable{Ref:spec.Ref{Ref:jsonreference.Ref{referenceURL:(*url.URL)(nil), referencePointer:jsonpointer.Pointer{referenceTokens:[]string(nil)}, HasFullURL:false, HasURLPathOnly:false, HasFragmentOnly:false, HasFileScheme:false, HasFullFilePath:false}}}, CommonValidations:spec.CommonValidations{Maximum:(*float64)(nil), ExclusiveMaximum:false, Minimum:(*float64)(nil), ExclusiveMinimum:false, MaxLength:(*int64)(nil), MinLength:(*int64)(nil), Pattern:\"\", MaxItems:(*int64)(nil), MinItems:(*int64)(nil), UniqueItems:false, MultipleOf:(*float64)(nil), Enum:[]interface {}(nil)}, SimpleSchema:spec.SimpleSchema{Type:\"\", Nullable:false, Format:\"\", Items:(*spec.Items)(nil), CollectionFormat:\"\", Default:interface {}(nil), Example:interface {}(nil)}, VendorExtensible:spec.VendorExtensible{Extensions:spec.Extensions(nil)}, ParamProps:spec.ParamProps{Description:\"\", Name:\"body\", In:\"body\", Required:true, Schema:(*spec.Schema)(0xc00334efc0), AllowEmptyValue:false}}, spec.Parameter{Refable:spec.Refable{Ref:spec.Ref{Ref:jsonreference.Ref{referenceURL:(*url.URL)(nil), referencePointer:jsonpointer.Pointer{referenceTokens:[]string(nil)}, HasFullURL:false, HasURLPathOnly:false, HasFragmentOnly:false, HasFileScheme:false, HasFullFilePath:false}}}, CommonValidations:spec.CommonValidations{Maximum:(*float64)(nil), ExclusiveMaximum:false, Minimum:(*float64)(nil), ExclusiveMinimum:false, MaxLength:(*int64)(nil), MinLength:(*int64)(nil), Pattern:\"\", MaxItems:(*int64)(nil), MinItems:(*int64)(nil), UniqueItems:false, MultipleOf:(*float64)(nil), Enum:[]interface {}(nil)}, SimpleSchema:spec.SimpleSchema{Type:\"string\", Nullable:false, Format:\"\", Items:(*spec.Items)(nil), CollectionFormat:\"\", Default:interface {}(nil), Example:interface {}(nil)}, VendorExtensible:spec.VendorExtensible{Extensions:spec.Extensions(nil)}, ParamProps:spec.ParamProps{Description:\"Determines how many replicas must acknowledge a request before it is considered successful\", Name:\"consistency_level\", In:\"query\", Required:false, Schema:(*spec.Schema)(nil), AllowEmptyValue:false}}, spec.Parameter{Refable:spec.Refable{Ref:spec.Ref{Ref:jsonreference.Ref{referenceURL:(*url.URL)(nil), referencePointer:jsonpointer.Pointer{referenceTokens:[]string(nil)}, HasFullURL:false, HasURLPathOnly:false, HasFragmentOnly:false, HasFileScheme:false, HasFullFilePath:false}}}, CommonValidations:spec.CommonValidations{Maximum:(*float64)(nil), ExclusiveMaximum:false, Minimum:(*float64)(nil), ExclusiveMinimum:false, MaxLength:(*int64)(nil), MinLength:(*int64)(nil), Pattern:\"\", MaxItems:(*int64)(nil), MinItems:(*int64)(nil), UniqueItems:false, MultipleOf:(*float64)(nil), Enum:[]interface {}(nil)}, SimpleSchema:spec.SimpleSchema{Type:\"string\", Nullable:false, Format:\"\", Items:(*spec.Items)(nil), CollectionFormat:\"\", Default:interface {}(nil), Example:interface {}(nil)}, VendorExtensible:spec.VendorExtensible{Extensions:spec.Extensions(nil)}, ParamProps:spec.ParamProps{Description:\"Specifies the tenant in a request targeting a multi-tenant class\", Name:\"tenant\", In:\"query\", Required:false, Schema:(*spec.Schema)(nil), AllowEmptyValue:false}}}, Responses:(*spec.Responses)(0xc0033449c0)}}\n",
      "adding route PATCH /v1/objects/{className}/{id} \"objects.class.patch\"\n",
      "operation: spec.Operation{VendorExtensible:spec.VendorExtensible{Extensions:spec.Extensions{\"x-available-in-mqtt\":false, \"x-available-in-websocket\":false, \"x-serviceIds\":[]interface {}{\"weaviate.local.manipulate\"}}}, OperationProps:spec.OperationProps{Description:\"Update an individual data object based on its class and uuid. This method supports json-merge style patch semantics (RFC 7396). Provided meta-data and schema values are validated. LastUpdateTime is set to the time this function is called.\", Consumes:[]string(nil), Produces:[]string(nil), Schemes:[]string(nil), Tags:[]string{\"objects\"}, Summary:\"Update an Object based on its UUID (using patch semantics).\", ExternalDocs:(*spec.ExternalDocumentation)(nil), ID:\"objects.class.patch\", Deprecated:false, Security:[]map[string][]string(nil), Parameters:[]spec.Parameter{spec.Parameter{Refable:spec.Refable{Ref:spec.Ref{Ref:jsonreference.Ref{referenceURL:(*url.URL)(nil), referencePointer:jsonpointer.Pointer{referenceTokens:[]string(nil)}, HasFullURL:false, HasURLPathOnly:false, HasFragmentOnly:false, HasFileScheme:false, HasFullFilePath:false}}}, CommonValidations:spec.CommonValidations{Maximum:(*float64)(nil), ExclusiveMaximum:false, Minimum:(*float64)(nil), ExclusiveMinimum:false, MaxLength:(*int64)(nil), MinLength:(*int64)(nil), Pattern:\"\", MaxItems:(*int64)(nil), MinItems:(*int64)(nil), UniqueItems:false, MultipleOf:(*float64)(nil), Enum:[]interface {}(nil)}, SimpleSchema:spec.SimpleSchema{Type:\"string\", Nullable:false, Format:\"\", Items:(*spec.Items)(nil), CollectionFormat:\"\", Default:interface {}(nil), Example:interface {}(nil)}, VendorExtensible:spec.VendorExtensible{Extensions:spec.Extensions(nil)}, ParamProps:spec.ParamProps{Description:\"The class name as defined in the schema\", Name:\"className\", In:\"path\", Required:true, Schema:(*spec.Schema)(nil), AllowEmptyValue:false}}, spec.Parameter{Refable:spec.Refable{Ref:spec.Ref{Ref:jsonreference.Ref{referenceURL:(*url.URL)(nil), referencePointer:jsonpointer.Pointer{referenceTokens:[]string(nil)}, HasFullURL:false, HasURLPathOnly:false, HasFragmentOnly:false, HasFileScheme:false, HasFullFilePath:false}}}, CommonValidations:spec.CommonValidations{Maximum:(*float64)(nil), ExclusiveMaximum:false, Minimum:(*float64)(nil), ExclusiveMinimum:false, MaxLength:(*int64)(nil), MinLength:(*int64)(nil), Pattern:\"\", MaxItems:(*int64)(nil), MinItems:(*int64)(nil), UniqueItems:false, MultipleOf:(*float64)(nil), Enum:[]interface {}(nil)}, SimpleSchema:spec.SimpleSchema{Type:\"string\", Nullable:false, Format:\"uuid\", Items:(*spec.Items)(nil), CollectionFormat:\"\", Default:interface {}(nil), Example:interface {}(nil)}, VendorExtensible:spec.VendorExtensible{Extensions:spec.Extensions(nil)}, ParamProps:spec.ParamProps{Description:\"The uuid of the data object to update.\", Name:\"id\", In:\"path\", Required:true, Schema:(*spec.Schema)(nil), AllowEmptyValue:false}}, spec.Parameter{Refable:spec.Refable{Ref:spec.Ref{Ref:jsonreference.Ref{referenceURL:(*url.URL)(nil), referencePointer:jsonpointer.Pointer{referenceTokens:[]string(nil)}, HasFullURL:false, HasURLPathOnly:false, HasFragmentOnly:false, HasFileScheme:false, HasFullFilePath:false}}}, CommonValidations:spec.CommonValidations{Maximum:(*float64)(nil), ExclusiveMaximum:false, Minimum:(*float64)(nil), ExclusiveMinimum:false, MaxLength:(*int64)(nil), MinLength:(*int64)(nil), Pattern:\"\", MaxItems:(*int64)(nil), MinItems:(*int64)(nil), UniqueItems:false, MultipleOf:(*float64)(nil), Enum:[]interface {}(nil)}, SimpleSchema:spec.SimpleSchema{Type:\"\", Nullable:false, Format:\"\", Items:(*spec.Items)(nil), CollectionFormat:\"\", Default:interface {}(nil), Example:interface {}(nil)}, VendorExtensible:spec.VendorExtensible{Extensions:spec.Extensions(nil)}, ParamProps:spec.ParamProps{Description:\"RFC 7396-style patch, the body contains the object to merge into the existing object.\", Name:\"body\", In:\"body\", Required:false, Schema:(*spec.Schema)(0xc00310c240), AllowEmptyValue:false}}, spec.Parameter{Refable:spec.Refable{Ref:spec.Ref{Ref:jsonreference.Ref{referenceURL:(*url.URL)(nil), referencePointer:jsonpointer.Pointer{referenceTokens:[]string(nil)}, HasFullURL:false, HasURLPathOnly:false, HasFragmentOnly:false, HasFileScheme:false, HasFullFilePath:false}}}, CommonValidations:spec.CommonValidations{Maximum:(*float64)(nil), ExclusiveMaximum:false, Minimum:(*float64)(nil), ExclusiveMinimum:false, MaxLength:(*int64)(nil), MinLength:(*int64)(nil), Pattern:\"\", MaxItems:(*int64)(nil), MinItems:(*int64)(nil), UniqueItems:false, MultipleOf:(*float64)(nil), Enum:[]interface {}(nil)}, SimpleSchema:spec.SimpleSchema{Type:\"string\", Nullable:false, Format:\"\", Items:(*spec.Items)(nil), CollectionFormat:\"\", Default:interface {}(nil), Example:interface {}(nil)}, VendorExtensible:spec.VendorExtensible{Extensions:spec.Extensions(nil)}, ParamProps:spec.ParamProps{Description:\"Determines how many replicas must acknowledge a request before it is considered successful\", Name:\"consistency_level\", In:\"query\", Required:false, Schema:(*spec.Schema)(nil), AllowEmptyValue:false}}}, Responses:(*spec.Responses)(0xc003110168)}}\n",
      "adding route PATCH /v1/objects/{id} \"objects.patch\"\n",
      "operation: spec.Operation{VendorExtensible:spec.VendorExtensible{Extensions:spec.Extensions{\"x-available-in-mqtt\":false, \"x-available-in-websocket\":false, \"x-serviceIds\":[]interface {}{\"weaviate.local.manipulate\"}}}, OperationProps:spec.OperationProps{Description:\"Updates an Object. This method supports json-merge style patch semantics (RFC 7396). Provided meta-data and schema values are validated. LastUpdateTime is set to the time this function is called.\", Consumes:[]string(nil), Produces:[]string(nil), Schemes:[]string(nil), Tags:[]string{\"objects\"}, Summary:\"Update an Object based on its UUID (using patch semantics).\", ExternalDocs:(*spec.ExternalDocumentation)(nil), ID:\"objects.patch\", Deprecated:true, Security:[]map[string][]string(nil), Parameters:[]spec.Parameter{spec.Parameter{Refable:spec.Refable{Ref:spec.Ref{Ref:jsonreference.Ref{referenceURL:(*url.URL)(nil), referencePointer:jsonpointer.Pointer{referenceTokens:[]string(nil)}, HasFullURL:false, HasURLPathOnly:false, HasFragmentOnly:false, HasFileScheme:false, HasFullFilePath:false}}}, CommonValidations:spec.CommonValidations{Maximum:(*float64)(nil), ExclusiveMaximum:false, Minimum:(*float64)(nil), ExclusiveMinimum:false, MaxLength:(*int64)(nil), MinLength:(*int64)(nil), Pattern:\"\", MaxItems:(*int64)(nil), MinItems:(*int64)(nil), UniqueItems:false, MultipleOf:(*float64)(nil), Enum:[]interface {}(nil)}, SimpleSchema:spec.SimpleSchema{Type:\"string\", Nullable:false, Format:\"uuid\", Items:(*spec.Items)(nil), CollectionFormat:\"\", Default:interface {}(nil), Example:interface {}(nil)}, VendorExtensible:spec.VendorExtensible{Extensions:spec.Extensions(nil)}, ParamProps:spec.ParamProps{Description:\"Unique ID of the Object.\", Name:\"id\", In:\"path\", Required:true, Schema:(*spec.Schema)(nil), AllowEmptyValue:false}}, spec.Parameter{Refable:spec.Refable{Ref:spec.Ref{Ref:jsonreference.Ref{referenceURL:(*url.URL)(nil), referencePointer:jsonpointer.Pointer{referenceTokens:[]string(nil)}, HasFullURL:false, HasURLPathOnly:false, HasFragmentOnly:false, HasFileScheme:false, HasFullFilePath:false}}}, CommonValidations:spec.CommonValidations{Maximum:(*float64)(nil), ExclusiveMaximum:false, Minimum:(*float64)(nil), ExclusiveMinimum:false, MaxLength:(*int64)(nil), MinLength:(*int64)(nil), Pattern:\"\", MaxItems:(*int64)(nil), MinItems:(*int64)(nil), UniqueItems:false, MultipleOf:(*float64)(nil), Enum:[]interface {}(nil)}, SimpleSchema:spec.SimpleSchema{Type:\"\", Nullable:false, Format:\"\", Items:(*spec.Items)(nil), CollectionFormat:\"\", Default:interface {}(nil), Example:interface {}(nil)}, VendorExtensible:spec.VendorExtensible{Extensions:spec.Extensions(nil)}, ParamProps:spec.ParamProps{Description:\"RFC 7396-style patch, the body contains the object to merge into the existing object.\", Name:\"body\", In:\"body\", Required:false, Schema:(*spec.Schema)(0xc00329afc0), AllowEmptyValue:false}}, spec.Parameter{Refable:spec.Refable{Ref:spec.Ref{Ref:jsonreference.Ref{referenceURL:(*url.URL)(nil), referencePointer:jsonpointer.Pointer{referenceTokens:[]string(nil)}, HasFullURL:false, HasURLPathOnly:false, HasFragmentOnly:false, HasFileScheme:false, HasFullFilePath:false}}}, CommonValidations:spec.CommonValidations{Maximum:(*float64)(nil), ExclusiveMaximum:false, Minimum:(*float64)(nil), ExclusiveMinimum:false, MaxLength:(*int64)(nil), MinLength:(*int64)(nil), Pattern:\"\", MaxItems:(*int64)(nil), MinItems:(*int64)(nil), UniqueItems:false, MultipleOf:(*float64)(nil), Enum:[]interface {}(nil)}, SimpleSchema:spec.SimpleSchema{Type:\"string\", Nullable:false, Format:\"\", Items:(*spec.Items)(nil), CollectionFormat:\"\", Default:interface {}(nil), Example:interface {}(nil)}, VendorExtensible:spec.VendorExtensible{Extensions:spec.Extensions(nil)}, ParamProps:spec.ParamProps{Description:\"Determines how many replicas must acknowledge a request before it is considered successful\", Name:\"consistency_level\", In:\"query\", Required:false, Schema:(*spec.Schema)(nil), AllowEmptyValue:false}}}, Responses:(*spec.Responses)(0xc00329c948)}}\n",
      "adding route PUT /v1/objects/{className}/{id}/references/{propertyName} \"objects.class.references.put\"\n",
      "operation: spec.Operation{VendorExtensible:spec.VendorExtensible{Extensions:spec.Extensions{\"x-available-in-mqtt\":false, \"x-available-in-websocket\":false, \"x-serviceIds\":[]interface {}{\"weaviate.local.manipulate\"}}}, OperationProps:spec.OperationProps{Description:\"Update all references of a property of a data object.\", Consumes:[]string(nil), Produces:[]string(nil), Schemes:[]string(nil), Tags:[]string{\"objects\"}, Summary:\"Replace all references to a class-property.\", ExternalDocs:(*spec.ExternalDocumentation)(nil), ID:\"objects.class.references.put\", Deprecated:false, Security:[]map[string][]string(nil), Parameters:[]spec.Parameter{spec.Parameter{Refable:spec.Refable{Ref:spec.Ref{Ref:jsonreference.Ref{referenceURL:(*url.URL)(nil), referencePointer:jsonpointer.Pointer{referenceTokens:[]string(nil)}, HasFullURL:false, HasURLPathOnly:false, HasFragmentOnly:false, HasFileScheme:false, HasFullFilePath:false}}}, CommonValidations:spec.CommonValidations{Maximum:(*float64)(nil), ExclusiveMaximum:false, Minimum:(*float64)(nil), ExclusiveMinimum:false, MaxLength:(*int64)(nil), MinLength:(*int64)(nil), Pattern:\"\", MaxItems:(*int64)(nil), MinItems:(*int64)(nil), UniqueItems:false, MultipleOf:(*float64)(nil), Enum:[]interface {}(nil)}, SimpleSchema:spec.SimpleSchema{Type:\"string\", Nullable:false, Format:\"\", Items:(*spec.Items)(nil), CollectionFormat:\"\", Default:interface {}(nil), Example:interface {}(nil)}, VendorExtensible:spec.VendorExtensible{Extensions:spec.Extensions(nil)}, ParamProps:spec.ParamProps{Description:\"The class name as defined in the schema\", Name:\"className\", In:\"path\", Required:true, Schema:(*spec.Schema)(nil), AllowEmptyValue:false}}, spec.Parameter{Refable:spec.Refable{Ref:spec.Ref{Ref:jsonreference.Ref{referenceURL:(*url.URL)(nil), referencePointer:jsonpointer.Pointer{referenceTokens:[]string(nil)}, HasFullURL:false, HasURLPathOnly:false, HasFragmentOnly:false, HasFileScheme:false, HasFullFilePath:false}}}, CommonValidations:spec.CommonValidations{Maximum:(*float64)(nil), ExclusiveMaximum:false, Minimum:(*float64)(nil), ExclusiveMinimum:false, MaxLength:(*int64)(nil), MinLength:(*int64)(nil), Pattern:\"\", MaxItems:(*int64)(nil), MinItems:(*int64)(nil), UniqueItems:false, MultipleOf:(*float64)(nil), Enum:[]interface {}(nil)}, SimpleSchema:spec.SimpleSchema{Type:\"string\", Nullable:false, Format:\"uuid\", Items:(*spec.Items)(nil), CollectionFormat:\"\", Default:interface {}(nil), Example:interface {}(nil)}, VendorExtensible:spec.VendorExtensible{Extensions:spec.Extensions(nil)}, ParamProps:spec.ParamProps{Description:\"Unique ID of the Object.\", Name:\"id\", In:\"path\", Required:true, Schema:(*spec.Schema)(nil), AllowEmptyValue:false}}, spec.Parameter{Refable:spec.Refable{Ref:spec.Ref{Ref:jsonreference.Ref{referenceURL:(*url.URL)(nil), referencePointer:jsonpointer.Pointer{referenceTokens:[]string(nil)}, HasFullURL:false, HasURLPathOnly:false, HasFragmentOnly:false, HasFileScheme:false, HasFullFilePath:false}}}, CommonValidations:spec.CommonValidations{Maximum:(*float64)(nil), ExclusiveMaximum:false, Minimum:(*float64)(nil), ExclusiveMinimum:false, MaxLength:(*int64)(nil), MinLength:(*int64)(nil), Pattern:\"\", MaxItems:(*int64)(nil), MinItems:(*int64)(nil), UniqueItems:false, MultipleOf:(*float64)(nil), Enum:[]interface {}(nil)}, SimpleSchema:spec.SimpleSchema{Type:\"string\", Nullable:false, Format:\"\", Items:(*spec.Items)(nil), CollectionFormat:\"\", Default:interface {}(nil), Example:interface {}(nil)}, VendorExtensible:spec.VendorExtensible{Extensions:spec.Extensions(nil)}, ParamProps:spec.ParamProps{Description:\"Unique name of the property related to the Object.\", Name:\"propertyName\", In:\"path\", Required:true, Schema:(*spec.Schema)(nil), AllowEmptyValue:false}}, spec.Parameter{Refable:spec.Refable{Ref:spec.Ref{Ref:jsonreference.Ref{referenceURL:(*url.URL)(nil), referencePointer:jsonpointer.Pointer{referenceTokens:[]string(nil)}, HasFullURL:false, HasURLPathOnly:false, HasFragmentOnly:false, HasFileScheme:false, HasFullFilePath:false}}}, CommonValidations:spec.CommonValidations{Maximum:(*float64)(nil), ExclusiveMaximum:false, Minimum:(*float64)(nil), ExclusiveMinimum:false, MaxLength:(*int64)(nil), MinLength:(*int64)(nil), Pattern:\"\", MaxItems:(*int64)(nil), MinItems:(*int64)(nil), UniqueItems:false, MultipleOf:(*float64)(nil), Enum:[]interface {}(nil)}, SimpleSchema:spec.SimpleSchema{Type:\"\", Nullable:false, Format:\"\", Items:(*spec.Items)(nil), CollectionFormat:\"\", Default:interface {}(nil), Example:interface {}(nil)}, VendorExtensible:spec.VendorExtensible{Extensions:spec.Extensions(nil)}, ParamProps:spec.ParamProps{Description:\"\", Name:\"body\", In:\"body\", Required:true, Schema:(*spec.Schema)(0xc003228480), AllowEmptyValue:false}}, spec.Parameter{Refable:spec.Refable{Ref:spec.Ref{Ref:jsonreference.Ref{referenceURL:(*url.URL)(nil), referencePointer:jsonpointer.Pointer{referenceTokens:[]string(nil)}, HasFullURL:false, HasURLPathOnly:false, HasFragmentOnly:false, HasFileScheme:false, HasFullFilePath:false}}}, CommonValidations:spec.CommonValidations{Maximum:(*float64)(nil), ExclusiveMaximum:false, Minimum:(*float64)(nil), ExclusiveMinimum:false, MaxLength:(*int64)(nil), MinLength:(*int64)(nil), Pattern:\"\", MaxItems:(*int64)(nil), MinItems:(*int64)(nil), UniqueItems:false, MultipleOf:(*float64)(nil), Enum:[]interface {}(nil)}, SimpleSchema:spec.SimpleSchema{Type:\"string\", Nullable:false, Format:\"\", Items:(*spec.Items)(nil), CollectionFormat:\"\", Default:interface {}(nil), Example:interface {}(nil)}, VendorExtensible:spec.VendorExtensible{Extensions:spec.Extensions(nil)}, ParamProps:spec.ParamProps{Description:\"Determines how many replicas must acknowledge a request before it is considered successful\", Name:\"consistency_level\", In:\"query\", Required:false, Schema:(*spec.Schema)(nil), AllowEmptyValue:false}}, spec.Parameter{Refable:spec.Refable{Ref:spec.Ref{Ref:jsonreference.Ref{referenceURL:(*url.URL)(nil), referencePointer:jsonpointer.Pointer{referenceTokens:[]string(nil)}, HasFullURL:false, HasURLPathOnly:false, HasFragmentOnly:false, HasFileScheme:false, HasFullFilePath:false}}}, CommonValidations:spec.CommonValidations{Maximum:(*float64)(nil), ExclusiveMaximum:false, Minimum:(*float64)(nil), ExclusiveMinimum:false, MaxLength:(*int64)(nil), MinLength:(*int64)(nil), Pattern:\"\", MaxItems:(*int64)(nil), MinItems:(*int64)(nil), UniqueItems:false, MultipleOf:(*float64)(nil), Enum:[]interface {}(nil)}, SimpleSchema:spec.SimpleSchema{Type:\"string\", Nullable:false, Format:\"\", Items:(*spec.Items)(nil), CollectionFormat:\"\", Default:interface {}(nil), Example:interface {}(nil)}, VendorExtensible:spec.VendorExtensible{Extensions:spec.Extensions(nil)}, ParamProps:spec.ParamProps{Description:\"Specifies the tenant in a request targeting a multi-tenant class\", Name:\"tenant\", In:\"query\", Required:false, Schema:(*spec.Schema)(nil), AllowEmptyValue:false}}}, Responses:(*spec.Responses)(0xc0031fefa8)}}\n",
      "adding route PUT /v1/objects/{id}/references/{propertyName} \"objects.references.update\"\n",
      "operation: spec.Operation{VendorExtensible:spec.VendorExtensible{Extensions:spec.Extensions{\"x-available-in-mqtt\":false, \"x-available-in-websocket\":false, \"x-serviceIds\":[]interface {}{\"weaviate.local.manipulate\"}}}, OperationProps:spec.OperationProps{Description:\"Replace all references to a class-property.\", Consumes:[]string(nil), Produces:[]string(nil), Schemes:[]string(nil), Tags:[]string{\"objects\"}, Summary:\"Replace all references to a class-property.\", ExternalDocs:(*spec.ExternalDocumentation)(nil), ID:\"objects.references.update\", Deprecated:true, Security:[]map[string][]string(nil), Parameters:[]spec.Parameter{spec.Parameter{Refable:spec.Refable{Ref:spec.Ref{Ref:jsonreference.Ref{referenceURL:(*url.URL)(nil), referencePointer:jsonpointer.Pointer{referenceTokens:[]string(nil)}, HasFullURL:false, HasURLPathOnly:false, HasFragmentOnly:false, HasFileScheme:false, HasFullFilePath:false}}}, CommonValidations:spec.CommonValidations{Maximum:(*float64)(nil), ExclusiveMaximum:false, Minimum:(*float64)(nil), ExclusiveMinimum:false, MaxLength:(*int64)(nil), MinLength:(*int64)(nil), Pattern:\"\", MaxItems:(*int64)(nil), MinItems:(*int64)(nil), UniqueItems:false, MultipleOf:(*float64)(nil), Enum:[]interface {}(nil)}, SimpleSchema:spec.SimpleSchema{Type:\"string\", Nullable:false, Format:\"uuid\", Items:(*spec.Items)(nil), CollectionFormat:\"\", Default:interface {}(nil), Example:interface {}(nil)}, VendorExtensible:spec.VendorExtensible{Extensions:spec.Extensions(nil)}, ParamProps:spec.ParamProps{Description:\"Unique ID of the Object.\", Name:\"id\", In:\"path\", Required:true, Schema:(*spec.Schema)(nil), AllowEmptyValue:false}}, spec.Parameter{Refable:spec.Refable{Ref:spec.Ref{Ref:jsonreference.Ref{referenceURL:(*url.URL)(nil), referencePointer:jsonpointer.Pointer{referenceTokens:[]string(nil)}, HasFullURL:false, HasURLPathOnly:false, HasFragmentOnly:false, HasFileScheme:false, HasFullFilePath:false}}}, CommonValidations:spec.CommonValidations{Maximum:(*float64)(nil), ExclusiveMaximum:false, Minimum:(*float64)(nil), ExclusiveMinimum:false, MaxLength:(*int64)(nil), MinLength:(*int64)(nil), Pattern:\"\", MaxItems:(*int64)(nil), MinItems:(*int64)(nil), UniqueItems:false, MultipleOf:(*float64)(nil), Enum:[]interface {}(nil)}, SimpleSchema:spec.SimpleSchema{Type:\"string\", Nullable:false, Format:\"\", Items:(*spec.Items)(nil), CollectionFormat:\"\", Default:interface {}(nil), Example:interface {}(nil)}, VendorExtensible:spec.VendorExtensible{Extensions:spec.Extensions(nil)}, ParamProps:spec.ParamProps{Description:\"Unique name of the property related to the Object.\", Name:\"propertyName\", In:\"path\", Required:true, Schema:(*spec.Schema)(nil), AllowEmptyValue:false}}, spec.Parameter{Refable:spec.Refable{Ref:spec.Ref{Ref:jsonreference.Ref{referenceURL:(*url.URL)(nil), referencePointer:jsonpointer.Pointer{referenceTokens:[]string(nil)}, HasFullURL:false, HasURLPathOnly:false, HasFragmentOnly:false, HasFileScheme:false, HasFullFilePath:false}}}, CommonValidations:spec.CommonValidations{Maximum:(*float64)(nil), ExclusiveMaximum:false, Minimum:(*float64)(nil), ExclusiveMinimum:false, MaxLength:(*int64)(nil), MinLength:(*int64)(nil), Pattern:\"\", MaxItems:(*int64)(nil), MinItems:(*int64)(nil), UniqueItems:false, MultipleOf:(*float64)(nil), Enum:[]interface {}(nil)}, SimpleSchema:spec.SimpleSchema{Type:\"\", Nullable:false, Format:\"\", Items:(*spec.Items)(nil), CollectionFormat:\"\", Default:interface {}(nil), Example:interface {}(nil)}, VendorExtensible:spec.VendorExtensible{Extensions:spec.Extensions(nil)}, ParamProps:spec.ParamProps{Description:\"\", Name:\"body\", In:\"body\", Required:true, Schema:(*spec.Schema)(0xc003164240), AllowEmptyValue:false}}, spec.Parameter{Refable:spec.Refable{Ref:spec.Ref{Ref:jsonreference.Ref{referenceURL:(*url.URL)(nil), referencePointer:jsonpointer.Pointer{referenceTokens:[]string(nil)}, HasFullURL:false, HasURLPathOnly:false, HasFragmentOnly:false, HasFileScheme:false, HasFullFilePath:false}}}, CommonValidations:spec.CommonValidations{Maximum:(*float64)(nil), ExclusiveMaximum:false, Minimum:(*float64)(nil), ExclusiveMinimum:false, MaxLength:(*int64)(nil), MinLength:(*int64)(nil), Pattern:\"\", MaxItems:(*int64)(nil), MinItems:(*int64)(nil), UniqueItems:false, MultipleOf:(*float64)(nil), Enum:[]interface {}(nil)}, SimpleSchema:spec.SimpleSchema{Type:\"string\", Nullable:false, Format:\"\", Items:(*spec.Items)(nil), CollectionFormat:\"\", Default:interface {}(nil), Example:interface {}(nil)}, VendorExtensible:spec.VendorExtensible{Extensions:spec.Extensions(nil)}, ParamProps:spec.ParamProps{Description:\"Specifies the tenant in a request targeting a multi-tenant class\", Name:\"tenant\", In:\"query\", Required:false, Schema:(*spec.Schema)(nil), AllowEmptyValue:false}}}, Responses:(*spec.Responses)(0xc003166348)}}\n",
      "adding route PUT /v1/schema/{className} \"schema.objects.update\"\n",
      "operation: spec.Operation{VendorExtensible:spec.VendorExtensible{Extensions:spec.Extensions{\"x-serviceIds\":[]interface {}{\"weaviate.local.manipulate.meta\"}}}, OperationProps:spec.OperationProps{Description:\"Use this endpoint to alter an existing class in the schema. Note that not all settings are mutable. If an error about immutable fields is returned and you still need to update this particular setting, you will have to delete the class (and the underlying data) and recreate. This endpoint cannot be used to modify properties. Instead use POST /v1/schema/{className}/properties. A typical use case for this endpoint is to update configuration, such as the vectorIndexConfig. Note that even in mutable sections, such as vectorIndexConfig, some fields may be immutable.\", Consumes:[]string(nil), Produces:[]string(nil), Schemes:[]string(nil), Tags:[]string{\"schema\"}, Summary:\"Update settings of an existing schema class\", ExternalDocs:(*spec.ExternalDocumentation)(nil), ID:\"schema.objects.update\", Deprecated:false, Security:[]map[string][]string(nil), Parameters:[]spec.Parameter{spec.Parameter{Refable:spec.Refable{Ref:spec.Ref{Ref:jsonreference.Ref{referenceURL:(*url.URL)(nil), referencePointer:jsonpointer.Pointer{referenceTokens:[]string(nil)}, HasFullURL:false, HasURLPathOnly:false, HasFragmentOnly:false, HasFileScheme:false, HasFullFilePath:false}}}, CommonValidations:spec.CommonValidations{Maximum:(*float64)(nil), ExclusiveMaximum:false, Minimum:(*float64)(nil), ExclusiveMinimum:false, MaxLength:(*int64)(nil), MinLength:(*int64)(nil), Pattern:\"\", MaxItems:(*int64)(nil), MinItems:(*int64)(nil), UniqueItems:false, MultipleOf:(*float64)(nil), Enum:[]interface {}(nil)}, SimpleSchema:spec.SimpleSchema{Type:\"string\", Nullable:false, Format:\"\", Items:(*spec.Items)(nil), CollectionFormat:\"\", Default:interface {}(nil), Example:interface {}(nil)}, VendorExtensible:spec.VendorExtensible{Extensions:spec.Extensions(nil)}, ParamProps:spec.ParamProps{Description:\"\", Name:\"className\", In:\"path\", Required:true, Schema:(*spec.Schema)(nil), AllowEmptyValue:false}}, spec.Parameter{Refable:spec.Refable{Ref:spec.Ref{Ref:jsonreference.Ref{referenceURL:(*url.URL)(nil), referencePointer:jsonpointer.Pointer{referenceTokens:[]string(nil)}, HasFullURL:false, HasURLPathOnly:false, HasFragmentOnly:false, HasFileScheme:false, HasFullFilePath:false}}}, CommonValidations:spec.CommonValidations{Maximum:(*float64)(nil), ExclusiveMaximum:false, Minimum:(*float64)(nil), ExclusiveMinimum:false, MaxLength:(*int64)(nil), MinLength:(*int64)(nil), Pattern:\"\", MaxItems:(*int64)(nil), MinItems:(*int64)(nil), UniqueItems:false, MultipleOf:(*float64)(nil), Enum:[]interface {}(nil)}, SimpleSchema:spec.SimpleSchema{Type:\"\", Nullable:false, Format:\"\", Items:(*spec.Items)(nil), CollectionFormat:\"\", Default:interface {}(nil), Example:interface {}(nil)}, VendorExtensible:spec.VendorExtensible{Extensions:spec.Extensions(nil)}, ParamProps:spec.ParamProps{Description:\"\", Name:\"objectClass\", In:\"body\", Required:true, Schema:(*spec.Schema)(0xc0032d4fc0), AllowEmptyValue:false}}}, Responses:(*spec.Responses)(0xc0032e82d0)}}\n",
      "adding route PUT /v1/objects/{className}/{id} \"objects.class.put\"\n",
      "operation: spec.Operation{VendorExtensible:spec.VendorExtensible{Extensions:spec.Extensions{\"x-available-in-mqtt\":false, \"x-available-in-websocket\":false, \"x-serviceIds\":[]interface {}{\"weaviate.local.manipulate\"}}}, OperationProps:spec.OperationProps{Description:\"Update an individual data object based on its class and uuid.\", Consumes:[]string(nil), Produces:[]string(nil), Schemes:[]string(nil), Tags:[]string{\"objects\"}, Summary:\"Update a class object based on its uuid\", ExternalDocs:(*spec.ExternalDocumentation)(nil), ID:\"objects.class.put\", Deprecated:false, Security:[]map[string][]string(nil), Parameters:[]spec.Parameter{spec.Parameter{Refable:spec.Refable{Ref:spec.Ref{Ref:jsonreference.Ref{referenceURL:(*url.URL)(nil), referencePointer:jsonpointer.Pointer{referenceTokens:[]string(nil)}, HasFullURL:false, HasURLPathOnly:false, HasFragmentOnly:false, HasFileScheme:false, HasFullFilePath:false}}}, CommonValidations:spec.CommonValidations{Maximum:(*float64)(nil), ExclusiveMaximum:false, Minimum:(*float64)(nil), ExclusiveMinimum:false, MaxLength:(*int64)(nil), MinLength:(*int64)(nil), Pattern:\"\", MaxItems:(*int64)(nil), MinItems:(*int64)(nil), UniqueItems:false, MultipleOf:(*float64)(nil), Enum:[]interface {}(nil)}, SimpleSchema:spec.SimpleSchema{Type:\"string\", Nullable:false, Format:\"\", Items:(*spec.Items)(nil), CollectionFormat:\"\", Default:interface {}(nil), Example:interface {}(nil)}, VendorExtensible:spec.VendorExtensible{Extensions:spec.Extensions(nil)}, ParamProps:spec.ParamProps{Description:\"\", Name:\"className\", In:\"path\", Required:true, Schema:(*spec.Schema)(nil), AllowEmptyValue:false}}, spec.Parameter{Refable:spec.Refable{Ref:spec.Ref{Ref:jsonreference.Ref{referenceURL:(*url.URL)(nil), referencePointer:jsonpointer.Pointer{referenceTokens:[]string(nil)}, HasFullURL:false, HasURLPathOnly:false, HasFragmentOnly:false, HasFileScheme:false, HasFullFilePath:false}}}, CommonValidations:spec.CommonValidations{Maximum:(*float64)(nil), ExclusiveMaximum:false, Minimum:(*float64)(nil), ExclusiveMinimum:false, MaxLength:(*int64)(nil), MinLength:(*int64)(nil), Pattern:\"\", MaxItems:(*int64)(nil), MinItems:(*int64)(nil), UniqueItems:false, MultipleOf:(*float64)(nil), Enum:[]interface {}(nil)}, SimpleSchema:spec.SimpleSchema{Type:\"string\", Nullable:false, Format:\"uuid\", Items:(*spec.Items)(nil), CollectionFormat:\"\", Default:interface {}(nil), Example:interface {}(nil)}, VendorExtensible:spec.VendorExtensible{Extensions:spec.Extensions(nil)}, ParamProps:spec.ParamProps{Description:\"The uuid of the data object to update.\", Name:\"id\", In:\"path\", Required:true, Schema:(*spec.Schema)(nil), AllowEmptyValue:false}}, spec.Parameter{Refable:spec.Refable{Ref:spec.Ref{Ref:jsonreference.Ref{referenceURL:(*url.URL)(nil), referencePointer:jsonpointer.Pointer{referenceTokens:[]string(nil)}, HasFullURL:false, HasURLPathOnly:false, HasFragmentOnly:false, HasFileScheme:false, HasFullFilePath:false}}}, CommonValidations:spec.CommonValidations{Maximum:(*float64)(nil), ExclusiveMaximum:false, Minimum:(*float64)(nil), ExclusiveMinimum:false, MaxLength:(*int64)(nil), MinLength:(*int64)(nil), Pattern:\"\", MaxItems:(*int64)(nil), MinItems:(*int64)(nil), UniqueItems:false, MultipleOf:(*float64)(nil), Enum:[]interface {}(nil)}, SimpleSchema:spec.SimpleSchema{Type:\"\", Nullable:false, Format:\"\", Items:(*spec.Items)(nil), CollectionFormat:\"\", Default:interface {}(nil), Example:interface {}(nil)}, VendorExtensible:spec.VendorExtensible{Extensions:spec.Extensions(nil)}, ParamProps:spec.ParamProps{Description:\"\", Name:\"body\", In:\"body\", Required:true, Schema:(*spec.Schema)(0xc0030da480), AllowEmptyValue:false}}, spec.Parameter{Refable:spec.Refable{Ref:spec.Ref{Ref:jsonreference.Ref{referenceURL:(*url.URL)(nil), referencePointer:jsonpointer.Pointer{referenceTokens:[]string(nil)}, HasFullURL:false, HasURLPathOnly:false, HasFragmentOnly:false, HasFileScheme:false, HasFullFilePath:false}}}, CommonValidations:spec.CommonValidations{Maximum:(*float64)(nil), ExclusiveMaximum:false, Minimum:(*float64)(nil), ExclusiveMinimum:false, MaxLength:(*int64)(nil), MinLength:(*int64)(nil), Pattern:\"\", MaxItems:(*int64)(nil), MinItems:(*int64)(nil), UniqueItems:false, MultipleOf:(*float64)(nil), Enum:[]interface {}(nil)}, SimpleSchema:spec.SimpleSchema{Type:\"string\", Nullable:false, Format:\"\", Items:(*spec.Items)(nil), CollectionFormat:\"\", Default:interface {}(nil), Example:interface {}(nil)}, VendorExtensible:spec.VendorExtensible{Extensions:spec.Extensions(nil)}, ParamProps:spec.ParamProps{Description:\"Determines how many replicas must acknowledge a request before it is considered successful\", Name:\"consistency_level\", In:\"query\", Required:false, Schema:(*spec.Schema)(nil), AllowEmptyValue:false}}}, Responses:(*spec.Responses)(0xc0030d48e8)}}\n",
      "adding route PUT /v1/schema/{className}/tenants \"tenants.update\"\n",
      "operation: spec.Operation{VendorExtensible:spec.VendorExtensible{Extensions:spec.Extensions(nil)}, OperationProps:spec.OperationProps{Description:\"Update tenant of a specific class\", Consumes:[]string(nil), Produces:[]string(nil), Schemes:[]string(nil), Tags:[]string{\"schema\"}, Summary:\"\", ExternalDocs:(*spec.ExternalDocumentation)(nil), ID:\"tenants.update\", Deprecated:false, Security:[]map[string][]string(nil), Parameters:[]spec.Parameter{spec.Parameter{Refable:spec.Refable{Ref:spec.Ref{Ref:jsonreference.Ref{referenceURL:(*url.URL)(nil), referencePointer:jsonpointer.Pointer{referenceTokens:[]string(nil)}, HasFullURL:false, HasURLPathOnly:false, HasFragmentOnly:false, HasFileScheme:false, HasFullFilePath:false}}}, CommonValidations:spec.CommonValidations{Maximum:(*float64)(nil), ExclusiveMaximum:false, Minimum:(*float64)(nil), ExclusiveMinimum:false, MaxLength:(*int64)(nil), MinLength:(*int64)(nil), Pattern:\"\", MaxItems:(*int64)(nil), MinItems:(*int64)(nil), UniqueItems:false, MultipleOf:(*float64)(nil), Enum:[]interface {}(nil)}, SimpleSchema:spec.SimpleSchema{Type:\"string\", Nullable:false, Format:\"\", Items:(*spec.Items)(nil), CollectionFormat:\"\", Default:interface {}(nil), Example:interface {}(nil)}, VendorExtensible:spec.VendorExtensible{Extensions:spec.Extensions(nil)}, ParamProps:spec.ParamProps{Description:\"\", Name:\"className\", In:\"path\", Required:true, Schema:(*spec.Schema)(nil), AllowEmptyValue:false}}, spec.Parameter{Refable:spec.Refable{Ref:spec.Ref{Ref:jsonreference.Ref{referenceURL:(*url.URL)(nil), referencePointer:jsonpointer.Pointer{referenceTokens:[]string(nil)}, HasFullURL:false, HasURLPathOnly:false, HasFragmentOnly:false, HasFileScheme:false, HasFullFilePath:false}}}, CommonValidations:spec.CommonValidations{Maximum:(*float64)(nil), ExclusiveMaximum:false, Minimum:(*float64)(nil), ExclusiveMinimum:false, MaxLength:(*int64)(nil), MinLength:(*int64)(nil), Pattern:\"\", MaxItems:(*int64)(nil), MinItems:(*int64)(nil), UniqueItems:false, MultipleOf:(*float64)(nil), Enum:[]interface {}(nil)}, SimpleSchema:spec.SimpleSchema{Type:\"\", Nullable:false, Format:\"\", Items:(*spec.Items)(nil), CollectionFormat:\"\", Default:interface {}(nil), Example:interface {}(nil)}, VendorExtensible:spec.VendorExtensible{Extensions:spec.Extensions(nil)}, ParamProps:spec.ParamProps{Description:\"\", Name:\"body\", In:\"body\", Required:true, Schema:(*spec.Schema)(0xc0033bafc0), AllowEmptyValue:false}}}, Responses:(*spec.Responses)(0xc003393698)}}\n",
      "adding route PUT /v1/objects/{id} \"objects.update\"\n",
      "operation: spec.Operation{VendorExtensible:spec.VendorExtensible{Extensions:spec.Extensions{\"x-available-in-mqtt\":false, \"x-available-in-websocket\":false, \"x-serviceIds\":[]interface {}{\"weaviate.local.manipulate\"}}}, OperationProps:spec.OperationProps{Description:\"Updates an Object's data. Given meta-data and schema values are validated. LastUpdateTime is set to the time this function is called.\", Consumes:[]string(nil), Produces:[]string(nil), Schemes:[]string(nil), Tags:[]string{\"objects\"}, Summary:\"Update an Object based on its UUID.\", ExternalDocs:(*spec.ExternalDocumentation)(nil), ID:\"objects.update\", Deprecated:true, Security:[]map[string][]string(nil), Parameters:[]spec.Parameter{spec.Parameter{Refable:spec.Refable{Ref:spec.Ref{Ref:jsonreference.Ref{referenceURL:(*url.URL)(nil), referencePointer:jsonpointer.Pointer{referenceTokens:[]string(nil)}, HasFullURL:false, HasURLPathOnly:false, HasFragmentOnly:false, HasFileScheme:false, HasFullFilePath:false}}}, CommonValidations:spec.CommonValidations{Maximum:(*float64)(nil), ExclusiveMaximum:false, Minimum:(*float64)(nil), ExclusiveMinimum:false, MaxLength:(*int64)(nil), MinLength:(*int64)(nil), Pattern:\"\", MaxItems:(*int64)(nil), MinItems:(*int64)(nil), UniqueItems:false, MultipleOf:(*float64)(nil), Enum:[]interface {}(nil)}, SimpleSchema:spec.SimpleSchema{Type:\"string\", Nullable:false, Format:\"uuid\", Items:(*spec.Items)(nil), CollectionFormat:\"\", Default:interface {}(nil), Example:interface {}(nil)}, VendorExtensible:spec.VendorExtensible{Extensions:spec.Extensions(nil)}, ParamProps:spec.ParamProps{Description:\"Unique ID of the Object.\", Name:\"id\", In:\"path\", Required:true, Schema:(*spec.Schema)(nil), AllowEmptyValue:false}}, spec.Parameter{Refable:spec.Refable{Ref:spec.Ref{Ref:jsonreference.Ref{referenceURL:(*url.URL)(nil), referencePointer:jsonpointer.Pointer{referenceTokens:[]string(nil)}, HasFullURL:false, HasURLPathOnly:false, HasFragmentOnly:false, HasFileScheme:false, HasFullFilePath:false}}}, CommonValidations:spec.CommonValidations{Maximum:(*float64)(nil), ExclusiveMaximum:false, Minimum:(*float64)(nil), ExclusiveMinimum:false, MaxLength:(*int64)(nil), MinLength:(*int64)(nil), Pattern:\"\", MaxItems:(*int64)(nil), MinItems:(*int64)(nil), UniqueItems:false, MultipleOf:(*float64)(nil), Enum:[]interface {}(nil)}, SimpleSchema:spec.SimpleSchema{Type:\"\", Nullable:false, Format:\"\", Items:(*spec.Items)(nil), CollectionFormat:\"\", Default:interface {}(nil), Example:interface {}(nil)}, VendorExtensible:spec.VendorExtensible{Extensions:spec.Extensions(nil)}, ParamProps:spec.ParamProps{Description:\"\", Name:\"body\", In:\"body\", Required:true, Schema:(*spec.Schema)(0xc003286000), AllowEmptyValue:false}}, spec.Parameter{Refable:spec.Refable{Ref:spec.Ref{Ref:jsonreference.Ref{referenceURL:(*url.URL)(nil), referencePointer:jsonpointer.Pointer{referenceTokens:[]string(nil)}, HasFullURL:false, HasURLPathOnly:false, HasFragmentOnly:false, HasFileScheme:false, HasFullFilePath:false}}}, CommonValidations:spec.CommonValidations{Maximum:(*float64)(nil), ExclusiveMaximum:false, Minimum:(*float64)(nil), ExclusiveMinimum:false, MaxLength:(*int64)(nil), MinLength:(*int64)(nil), Pattern:\"\", MaxItems:(*int64)(nil), MinItems:(*int64)(nil), UniqueItems:false, MultipleOf:(*float64)(nil), Enum:[]interface {}(nil)}, SimpleSchema:spec.SimpleSchema{Type:\"string\", Nullable:false, Format:\"\", Items:(*spec.Items)(nil), CollectionFormat:\"\", Default:interface {}(nil), Example:interface {}(nil)}, VendorExtensible:spec.VendorExtensible{Extensions:spec.Extensions(nil)}, ParamProps:spec.ParamProps{Description:\"Determines how many replicas must acknowledge a request before it is considered successful\", Name:\"consistency_level\", In:\"query\", Required:false, Schema:(*spec.Schema)(nil), AllowEmptyValue:false}}}, Responses:(*spec.Responses)(0xc00324d698)}}\n",
      "adding route PUT /v1/schema/{className}/shards/{shardName} \"schema.objects.shards.update\"\n",
      "operation: spec.Operation{VendorExtensible:spec.VendorExtensible{Extensions:spec.Extensions{\"x-serviceIds\":[]interface {}{\"weaviate.local.manipulate.meta\"}}}, OperationProps:spec.OperationProps{Description:\"Update shard status of an Object Class\", Consumes:[]string(nil), Produces:[]string(nil), Schemes:[]string(nil), Tags:[]string{\"schema\"}, Summary:\"\", ExternalDocs:(*spec.ExternalDocumentation)(nil), ID:\"schema.objects.shards.update\", Deprecated:false, Security:[]map[string][]string(nil), Parameters:[]spec.Parameter{spec.Parameter{Refable:spec.Refable{Ref:spec.Ref{Ref:jsonreference.Ref{referenceURL:(*url.URL)(nil), referencePointer:jsonpointer.Pointer{referenceTokens:[]string(nil)}, HasFullURL:false, HasURLPathOnly:false, HasFragmentOnly:false, HasFileScheme:false, HasFullFilePath:false}}}, CommonValidations:spec.CommonValidations{Maximum:(*float64)(nil), ExclusiveMaximum:false, Minimum:(*float64)(nil), ExclusiveMinimum:false, MaxLength:(*int64)(nil), MinLength:(*int64)(nil), Pattern:\"\", MaxItems:(*int64)(nil), MinItems:(*int64)(nil), UniqueItems:false, MultipleOf:(*float64)(nil), Enum:[]interface {}(nil)}, SimpleSchema:spec.SimpleSchema{Type:\"string\", Nullable:false, Format:\"\", Items:(*spec.Items)(nil), CollectionFormat:\"\", Default:interface {}(nil), Example:interface {}(nil)}, VendorExtensible:spec.VendorExtensible{Extensions:spec.Extensions(nil)}, ParamProps:spec.ParamProps{Description:\"\", Name:\"className\", In:\"path\", Required:true, Schema:(*spec.Schema)(nil), AllowEmptyValue:false}}, spec.Parameter{Refable:spec.Refable{Ref:spec.Ref{Ref:jsonreference.Ref{referenceURL:(*url.URL)(nil), referencePointer:jsonpointer.Pointer{referenceTokens:[]string(nil)}, HasFullURL:false, HasURLPathOnly:false, HasFragmentOnly:false, HasFileScheme:false, HasFullFilePath:false}}}, CommonValidations:spec.CommonValidations{Maximum:(*float64)(nil), ExclusiveMaximum:false, Minimum:(*float64)(nil), ExclusiveMinimum:false, MaxLength:(*int64)(nil), MinLength:(*int64)(nil), Pattern:\"\", MaxItems:(*int64)(nil), MinItems:(*int64)(nil), UniqueItems:false, MultipleOf:(*float64)(nil), Enum:[]interface {}(nil)}, SimpleSchema:spec.SimpleSchema{Type:\"string\", Nullable:false, Format:\"\", Items:(*spec.Items)(nil), CollectionFormat:\"\", Default:interface {}(nil), Example:interface {}(nil)}, VendorExtensible:spec.VendorExtensible{Extensions:spec.Extensions(nil)}, ParamProps:spec.ParamProps{Description:\"\", Name:\"shardName\", In:\"path\", Required:true, Schema:(*spec.Schema)(nil), AllowEmptyValue:false}}, spec.Parameter{Refable:spec.Refable{Ref:spec.Ref{Ref:jsonreference.Ref{referenceURL:(*url.URL)(nil), referencePointer:jsonpointer.Pointer{referenceTokens:[]string(nil)}, HasFullURL:false, HasURLPathOnly:false, HasFragmentOnly:false, HasFileScheme:false, HasFullFilePath:false}}}, CommonValidations:spec.CommonValidations{Maximum:(*float64)(nil), ExclusiveMaximum:false, Minimum:(*float64)(nil), ExclusiveMinimum:false, MaxLength:(*int64)(nil), MinLength:(*int64)(nil), Pattern:\"\", MaxItems:(*int64)(nil), MinItems:(*int64)(nil), UniqueItems:false, MultipleOf:(*float64)(nil), Enum:[]interface {}(nil)}, SimpleSchema:spec.SimpleSchema{Type:\"\", Nullable:false, Format:\"\", Items:(*spec.Items)(nil), CollectionFormat:\"\", Default:interface {}(nil), Example:interface {}(nil)}, VendorExtensible:spec.VendorExtensible{Extensions:spec.Extensions(nil)}, ParamProps:spec.ParamProps{Description:\"\", Name:\"body\", In:\"body\", Required:true, Schema:(*spec.Schema)(0xc00310db00), AllowEmptyValue:false}}}, Responses:(*spec.Responses)(0xc003110978)}}\n",
      "adding route POST /v1/graphql \"graphql.post\"\n",
      "operation: spec.Operation{VendorExtensible:spec.VendorExtensible{Extensions:spec.Extensions{\"x-available-in-mqtt\":false, \"x-available-in-websocket\":false, \"x-serviceIds\":[]interface {}{\"weaviate.local.query\", \"weaviate.local.query.meta\", \"weaviate.network.query\", \"weaviate.network.query.meta\"}}}, OperationProps:spec.OperationProps{Description:\"Get an object based on GraphQL\", Consumes:[]string(nil), Produces:[]string(nil), Schemes:[]string(nil), Tags:[]string{\"graphql\"}, Summary:\"Get a response based on GraphQL\", ExternalDocs:(*spec.ExternalDocumentation)(nil), ID:\"graphql.post\", Deprecated:false, Security:[]map[string][]string(nil), Parameters:[]spec.Parameter{spec.Parameter{Refable:spec.Refable{Ref:spec.Ref{Ref:jsonreference.Ref{referenceURL:(*url.URL)(nil), referencePointer:jsonpointer.Pointer{referenceTokens:[]string(nil)}, HasFullURL:false, HasURLPathOnly:false, HasFragmentOnly:false, HasFileScheme:false, HasFullFilePath:false}}}, CommonValidations:spec.CommonValidations{Maximum:(*float64)(nil), ExclusiveMaximum:false, Minimum:(*float64)(nil), ExclusiveMinimum:false, MaxLength:(*int64)(nil), MinLength:(*int64)(nil), Pattern:\"\", MaxItems:(*int64)(nil), MinItems:(*int64)(nil), UniqueItems:false, MultipleOf:(*float64)(nil), Enum:[]interface {}(nil)}, SimpleSchema:spec.SimpleSchema{Type:\"\", Nullable:false, Format:\"\", Items:(*spec.Items)(nil), CollectionFormat:\"\", Default:interface {}(nil), Example:interface {}(nil)}, VendorExtensible:spec.VendorExtensible{Extensions:spec.Extensions(nil)}, ParamProps:spec.ParamProps{Description:\"The GraphQL query request parameters.\", Name:\"body\", In:\"body\", Required:true, Schema:(*spec.Schema)(0xc003193b00), AllowEmptyValue:false}}}, Responses:(*spec.Responses)(0xc003167ef0)}}\n",
      "adding route POST /v1/objects/validate \"objects.validate\"\n",
      "operation: spec.Operation{VendorExtensible:spec.VendorExtensible{Extensions:spec.Extensions{\"x-available-in-mqtt\":false, \"x-available-in-websocket\":false, \"x-serviceIds\":[]interface {}{\"weaviate.local.query.meta\"}}}, OperationProps:spec.OperationProps{Description:\"Validate an Object's schema and meta-data. It has to be based on a schema, which is related to the given Object to be accepted by this validation.\", Consumes:[]string(nil), Produces:[]string(nil), Schemes:[]string(nil), Tags:[]string{\"objects\"}, Summary:\"Validate an Object based on a schema.\", ExternalDocs:(*spec.ExternalDocumentation)(nil), ID:\"objects.validate\", Deprecated:false, Security:[]map[string][]string(nil), Parameters:[]spec.Parameter{spec.Parameter{Refable:spec.Refable{Ref:spec.Ref{Ref:jsonreference.Ref{referenceURL:(*url.URL)(nil), referencePointer:jsonpointer.Pointer{referenceTokens:[]string(nil)}, HasFullURL:false, HasURLPathOnly:false, HasFragmentOnly:false, HasFileScheme:false, HasFullFilePath:false}}}, CommonValidations:spec.CommonValidations{Maximum:(*float64)(nil), ExclusiveMaximum:false, Minimum:(*float64)(nil), ExclusiveMinimum:false, MaxLength:(*int64)(nil), MinLength:(*int64)(nil), Pattern:\"\", MaxItems:(*int64)(nil), MinItems:(*int64)(nil), UniqueItems:false, MultipleOf:(*float64)(nil), Enum:[]interface {}(nil)}, SimpleSchema:spec.SimpleSchema{Type:\"\", Nullable:false, Format:\"\", Items:(*spec.Items)(nil), CollectionFormat:\"\", Default:interface {}(nil), Example:interface {}(nil)}, VendorExtensible:spec.VendorExtensible{Extensions:spec.Extensions(nil)}, ParamProps:spec.ParamProps{Description:\"\", Name:\"body\", In:\"body\", Required:true, Schema:(*spec.Schema)(0xc003132900), AllowEmptyValue:false}}}, Responses:(*spec.Responses)(0xc003111398)}}\n",
      "adding route POST /v1/classifications \"classifications.post\"\n",
      "operation: spec.Operation{VendorExtensible:spec.VendorExtensible{Extensions:spec.Extensions{\"x-serviceIds\":[]interface {}{\"weaviate.classifications.post\"}}}, OperationProps:spec.OperationProps{Description:\"Trigger a classification based on the specified params. Classifications will run in the background, use GET /classifications/<id> to retrieve the status of your classification.\", Consumes:[]string(nil), Produces:[]string(nil), Schemes:[]string(nil), Tags:[]string{\"classifications\"}, Summary:\"Starts a classification.\", ExternalDocs:(*spec.ExternalDocumentation)(nil), ID:\"classifications.post\", Deprecated:false, Security:[]map[string][]string(nil), Parameters:[]spec.Parameter{spec.Parameter{Refable:spec.Refable{Ref:spec.Ref{Ref:jsonreference.Ref{referenceURL:(*url.URL)(nil), referencePointer:jsonpointer.Pointer{referenceTokens:[]string(nil)}, HasFullURL:false, HasURLPathOnly:false, HasFragmentOnly:false, HasFileScheme:false, HasFullFilePath:false}}}, CommonValidations:spec.CommonValidations{Maximum:(*float64)(nil), ExclusiveMaximum:false, Minimum:(*float64)(nil), ExclusiveMinimum:false, MaxLength:(*int64)(nil), MinLength:(*int64)(nil), Pattern:\"\", MaxItems:(*int64)(nil), MinItems:(*int64)(nil), UniqueItems:false, MultipleOf:(*float64)(nil), Enum:[]interface {}(nil)}, SimpleSchema:spec.SimpleSchema{Type:\"\", Nullable:false, Format:\"\", Items:(*spec.Items)(nil), CollectionFormat:\"\", Default:interface {}(nil), Example:interface {}(nil)}, VendorExtensible:spec.VendorExtensible{Extensions:spec.Extensions(nil)}, ParamProps:spec.ParamProps{Description:\"parameters to start a classification\", Name:\"params\", In:\"body\", Required:true, Schema:(*spec.Schema)(0xc003133d40), AllowEmptyValue:false}}}, Responses:(*spec.Responses)(0xc003111950)}}\n",
      "adding route POST /v1/schema \"schema.objects.create\"\n",
      "operation: spec.Operation{VendorExtensible:spec.VendorExtensible{Extensions:spec.Extensions{\"x-serviceIds\":[]interface {}{\"weaviate.local.add.meta\"}}}, OperationProps:spec.OperationProps{Description:\"\", Consumes:[]string(nil), Produces:[]string(nil), Schemes:[]string(nil), Tags:[]string{\"schema\"}, Summary:\"Create a new Object class in the schema.\", ExternalDocs:(*spec.ExternalDocumentation)(nil), ID:\"schema.objects.create\", Deprecated:false, Security:[]map[string][]string(nil), Parameters:[]spec.Parameter{spec.Parameter{Refable:spec.Refable{Ref:spec.Ref{Ref:jsonreference.Ref{referenceURL:(*url.URL)(nil), referencePointer:jsonpointer.Pointer{referenceTokens:[]string(nil)}, HasFullURL:false, HasURLPathOnly:false, HasFragmentOnly:false, HasFileScheme:false, HasFullFilePath:false}}}, CommonValidations:spec.CommonValidations{Maximum:(*float64)(nil), ExclusiveMaximum:false, Minimum:(*float64)(nil), ExclusiveMinimum:false, MaxLength:(*int64)(nil), MinLength:(*int64)(nil), Pattern:\"\", MaxItems:(*int64)(nil), MinItems:(*int64)(nil), UniqueItems:false, MultipleOf:(*float64)(nil), Enum:[]interface {}(nil)}, SimpleSchema:spec.SimpleSchema{Type:\"\", Nullable:false, Format:\"\", Items:(*spec.Items)(nil), CollectionFormat:\"\", Default:interface {}(nil), Example:interface {}(nil)}, VendorExtensible:spec.VendorExtensible{Extensions:spec.Extensions(nil)}, ParamProps:spec.ParamProps{Description:\"\", Name:\"objectClass\", In:\"body\", Required:true, Schema:(*spec.Schema)(0xc0033106c0), AllowEmptyValue:false}}}, Responses:(*spec.Responses)(0xc0032e9278)}}\n",
      "adding route POST /v1/objects/{className}/{id}/references/{propertyName} \"objects.class.references.create\"\n",
      "operation: spec.Operation{VendorExtensible:spec.VendorExtensible{Extensions:spec.Extensions{\"x-available-in-mqtt\":false, \"x-available-in-websocket\":false, \"x-serviceIds\":[]interface {}{\"weaviate.local.manipulate\"}}}, OperationProps:spec.OperationProps{Description:\"Add a single reference to a class-property.\", Consumes:[]string(nil), Produces:[]string(nil), Schemes:[]string(nil), Tags:[]string{\"objects\"}, Summary:\"Add a single reference to a class-property.\", ExternalDocs:(*spec.ExternalDocumentation)(nil), ID:\"objects.class.references.create\", Deprecated:false, Security:[]map[string][]string(nil), Parameters:[]spec.Parameter{spec.Parameter{Refable:spec.Refable{Ref:spec.Ref{Ref:jsonreference.Ref{referenceURL:(*url.URL)(nil), referencePointer:jsonpointer.Pointer{referenceTokens:[]string(nil)}, HasFullURL:false, HasURLPathOnly:false, HasFragmentOnly:false, HasFileScheme:false, HasFullFilePath:false}}}, CommonValidations:spec.CommonValidations{Maximum:(*float64)(nil), ExclusiveMaximum:false, Minimum:(*float64)(nil), ExclusiveMinimum:false, MaxLength:(*int64)(nil), MinLength:(*int64)(nil), Pattern:\"\", MaxItems:(*int64)(nil), MinItems:(*int64)(nil), UniqueItems:false, MultipleOf:(*float64)(nil), Enum:[]interface {}(nil)}, SimpleSchema:spec.SimpleSchema{Type:\"string\", Nullable:false, Format:\"\", Items:(*spec.Items)(nil), CollectionFormat:\"\", Default:interface {}(nil), Example:interface {}(nil)}, VendorExtensible:spec.VendorExtensible{Extensions:spec.Extensions(nil)}, ParamProps:spec.ParamProps{Description:\"The class name as defined in the schema\", Name:\"className\", In:\"path\", Required:true, Schema:(*spec.Schema)(nil), AllowEmptyValue:false}}, spec.Parameter{Refable:spec.Refable{Ref:spec.Ref{Ref:jsonreference.Ref{referenceURL:(*url.URL)(nil), referencePointer:jsonpointer.Pointer{referenceTokens:[]string(nil)}, HasFullURL:false, HasURLPathOnly:false, HasFragmentOnly:false, HasFileScheme:false, HasFullFilePath:false}}}, CommonValidations:spec.CommonValidations{Maximum:(*float64)(nil), ExclusiveMaximum:false, Minimum:(*float64)(nil), ExclusiveMinimum:false, MaxLength:(*int64)(nil), MinLength:(*int64)(nil), Pattern:\"\", MaxItems:(*int64)(nil), MinItems:(*int64)(nil), UniqueItems:false, MultipleOf:(*float64)(nil), Enum:[]interface {}(nil)}, SimpleSchema:spec.SimpleSchema{Type:\"string\", Nullable:false, Format:\"uuid\", Items:(*spec.Items)(nil), CollectionFormat:\"\", Default:interface {}(nil), Example:interface {}(nil)}, VendorExtensible:spec.VendorExtensible{Extensions:spec.Extensions(nil)}, ParamProps:spec.ParamProps{Description:\"Unique ID of the Object.\", Name:\"id\", In:\"path\", Required:true, Schema:(*spec.Schema)(nil), AllowEmptyValue:false}}, spec.Parameter{Refable:spec.Refable{Ref:spec.Ref{Ref:jsonreference.Ref{referenceURL:(*url.URL)(nil), referencePointer:jsonpointer.Pointer{referenceTokens:[]string(nil)}, HasFullURL:false, HasURLPathOnly:false, HasFragmentOnly:false, HasFileScheme:false, HasFullFilePath:false}}}, CommonValidations:spec.CommonValidations{Maximum:(*float64)(nil), ExclusiveMaximum:false, Minimum:(*float64)(nil), ExclusiveMinimum:false, MaxLength:(*int64)(nil), MinLength:(*int64)(nil), Pattern:\"\", MaxItems:(*int64)(nil), MinItems:(*int64)(nil), UniqueItems:false, MultipleOf:(*float64)(nil), Enum:[]interface {}(nil)}, SimpleSchema:spec.SimpleSchema{Type:\"string\", Nullable:false, Format:\"\", Items:(*spec.Items)(nil), CollectionFormat:\"\", Default:interface {}(nil), Example:interface {}(nil)}, VendorExtensible:spec.VendorExtensible{Extensions:spec.Extensions(nil)}, ParamProps:spec.ParamProps{Description:\"Unique name of the property related to the Object.\", Name:\"propertyName\", In:\"path\", Required:true, Schema:(*spec.Schema)(nil), AllowEmptyValue:false}}, spec.Parameter{Refable:spec.Refable{Ref:spec.Ref{Ref:jsonreference.Ref{referenceURL:(*url.URL)(nil), referencePointer:jsonpointer.Pointer{referenceTokens:[]string(nil)}, HasFullURL:false, HasURLPathOnly:false, HasFragmentOnly:false, HasFileScheme:false, HasFullFilePath:false}}}, CommonValidations:spec.CommonValidations{Maximum:(*float64)(nil), ExclusiveMaximum:false, Minimum:(*float64)(nil), ExclusiveMinimum:false, MaxLength:(*int64)(nil), MinLength:(*int64)(nil), Pattern:\"\", MaxItems:(*int64)(nil), MinItems:(*int64)(nil), UniqueItems:false, MultipleOf:(*float64)(nil), Enum:[]interface {}(nil)}, SimpleSchema:spec.SimpleSchema{Type:\"\", Nullable:false, Format:\"\", Items:(*spec.Items)(nil), CollectionFormat:\"\", Default:interface {}(nil), Example:interface {}(nil)}, VendorExtensible:spec.VendorExtensible{Extensions:spec.Extensions(nil)}, ParamProps:spec.ParamProps{Description:\"\", Name:\"body\", In:\"body\", Required:true, Schema:(*spec.Schema)(0xc003229d40), AllowEmptyValue:false}}, spec.Parameter{Refable:spec.Refable{Ref:spec.Ref{Ref:jsonreference.Ref{referenceURL:(*url.URL)(nil), referencePointer:jsonpointer.Pointer{referenceTokens:[]string(nil)}, HasFullURL:false, HasURLPathOnly:false, HasFragmentOnly:false, HasFileScheme:false, HasFullFilePath:false}}}, CommonValidations:spec.CommonValidations{Maximum:(*float64)(nil), ExclusiveMaximum:false, Minimum:(*float64)(nil), ExclusiveMinimum:false, MaxLength:(*int64)(nil), MinLength:(*int64)(nil), Pattern:\"\", MaxItems:(*int64)(nil), MinItems:(*int64)(nil), UniqueItems:false, MultipleOf:(*float64)(nil), Enum:[]interface {}(nil)}, SimpleSchema:spec.SimpleSchema{Type:\"string\", Nullable:false, Format:\"\", Items:(*spec.Items)(nil), CollectionFormat:\"\", Default:interface {}(nil), Example:interface {}(nil)}, VendorExtensible:spec.VendorExtensible{Extensions:spec.Extensions(nil)}, ParamProps:spec.ParamProps{Description:\"Determines how many replicas must acknowledge a request before it is considered successful\", Name:\"consistency_level\", In:\"query\", Required:false, Schema:(*spec.Schema)(nil), AllowEmptyValue:false}}, spec.Parameter{Refable:spec.Refable{Ref:spec.Ref{Ref:jsonreference.Ref{referenceURL:(*url.URL)(nil), referencePointer:jsonpointer.Pointer{referenceTokens:[]string(nil)}, HasFullURL:false, HasURLPathOnly:false, HasFragmentOnly:false, HasFileScheme:false, HasFullFilePath:false}}}, CommonValidations:spec.CommonValidations{Maximum:(*float64)(nil), ExclusiveMaximum:false, Minimum:(*float64)(nil), ExclusiveMinimum:false, MaxLength:(*int64)(nil), MinLength:(*int64)(nil), Pattern:\"\", MaxItems:(*int64)(nil), MinItems:(*int64)(nil), UniqueItems:false, MultipleOf:(*float64)(nil), Enum:[]interface {}(nil)}, SimpleSchema:spec.SimpleSchema{Type:\"string\", Nullable:false, Format:\"\", Items:(*spec.Items)(nil), CollectionFormat:\"\", Default:interface {}(nil), Example:interface {}(nil)}, VendorExtensible:spec.VendorExtensible{Extensions:spec.Extensions(nil)}, ParamProps:spec.ParamProps{Description:\"Specifies the tenant in a request targeting a multi-tenant class\", Name:\"tenant\", In:\"query\", Required:false, Schema:(*spec.Schema)(nil), AllowEmptyValue:false}}}, Responses:(*spec.Responses)(0xc0031ff9f8)}}\n",
      "adding route POST /v1/objects/{id}/references/{propertyName} \"objects.references.create\"\n",
      "operation: spec.Operation{VendorExtensible:spec.VendorExtensible{Extensions:spec.Extensions{\"x-available-in-mqtt\":false, \"x-available-in-websocket\":false, \"x-serviceIds\":[]interface {}{\"weaviate.local.manipulate\"}}}, OperationProps:spec.OperationProps{Description:\"Add a single reference to a class-property.\", Consumes:[]string(nil), Produces:[]string(nil), Schemes:[]string(nil), Tags:[]string{\"objects\"}, Summary:\"Add a single reference to a class-property.\", ExternalDocs:(*spec.ExternalDocumentation)(nil), ID:\"objects.references.create\", Deprecated:true, Security:[]map[string][]string(nil), Parameters:[]spec.Parameter{spec.Parameter{Refable:spec.Refable{Ref:spec.Ref{Ref:jsonreference.Ref{referenceURL:(*url.URL)(nil), referencePointer:jsonpointer.Pointer{referenceTokens:[]string(nil)}, HasFullURL:false, HasURLPathOnly:false, HasFragmentOnly:false, HasFileScheme:false, HasFullFilePath:false}}}, CommonValidations:spec.CommonValidations{Maximum:(*float64)(nil), ExclusiveMaximum:false, Minimum:(*float64)(nil), ExclusiveMinimum:false, MaxLength:(*int64)(nil), MinLength:(*int64)(nil), Pattern:\"\", MaxItems:(*int64)(nil), MinItems:(*int64)(nil), UniqueItems:false, MultipleOf:(*float64)(nil), Enum:[]interface {}(nil)}, SimpleSchema:spec.SimpleSchema{Type:\"string\", Nullable:false, Format:\"uuid\", Items:(*spec.Items)(nil), CollectionFormat:\"\", Default:interface {}(nil), Example:interface {}(nil)}, VendorExtensible:spec.VendorExtensible{Extensions:spec.Extensions(nil)}, ParamProps:spec.ParamProps{Description:\"Unique ID of the Object.\", Name:\"id\", In:\"path\", Required:true, Schema:(*spec.Schema)(nil), AllowEmptyValue:false}}, spec.Parameter{Refable:spec.Refable{Ref:spec.Ref{Ref:jsonreference.Ref{referenceURL:(*url.URL)(nil), referencePointer:jsonpointer.Pointer{referenceTokens:[]string(nil)}, HasFullURL:false, HasURLPathOnly:false, HasFragmentOnly:false, HasFileScheme:false, HasFullFilePath:false}}}, CommonValidations:spec.CommonValidations{Maximum:(*float64)(nil), ExclusiveMaximum:false, Minimum:(*float64)(nil), ExclusiveMinimum:false, MaxLength:(*int64)(nil), MinLength:(*int64)(nil), Pattern:\"\", MaxItems:(*int64)(nil), MinItems:(*int64)(nil), UniqueItems:false, MultipleOf:(*float64)(nil), Enum:[]interface {}(nil)}, SimpleSchema:spec.SimpleSchema{Type:\"string\", Nullable:false, Format:\"\", Items:(*spec.Items)(nil), CollectionFormat:\"\", Default:interface {}(nil), Example:interface {}(nil)}, VendorExtensible:spec.VendorExtensible{Extensions:spec.Extensions(nil)}, ParamProps:spec.ParamProps{Description:\"Unique name of the property related to the Object.\", Name:\"propertyName\", In:\"path\", Required:true, Schema:(*spec.Schema)(nil), AllowEmptyValue:false}}, spec.Parameter{Refable:spec.Refable{Ref:spec.Ref{Ref:jsonreference.Ref{referenceURL:(*url.URL)(nil), referencePointer:jsonpointer.Pointer{referenceTokens:[]string(nil)}, HasFullURL:false, HasURLPathOnly:false, HasFragmentOnly:false, HasFileScheme:false, HasFullFilePath:false}}}, CommonValidations:spec.CommonValidations{Maximum:(*float64)(nil), ExclusiveMaximum:false, Minimum:(*float64)(nil), ExclusiveMinimum:false, MaxLength:(*int64)(nil), MinLength:(*int64)(nil), Pattern:\"\", MaxItems:(*int64)(nil), MinItems:(*int64)(nil), UniqueItems:false, MultipleOf:(*float64)(nil), Enum:[]interface {}(nil)}, SimpleSchema:spec.SimpleSchema{Type:\"\", Nullable:false, Format:\"\", Items:(*spec.Items)(nil), CollectionFormat:\"\", Default:interface {}(nil), Example:interface {}(nil)}, VendorExtensible:spec.VendorExtensible{Extensions:spec.Extensions(nil)}, ParamProps:spec.ParamProps{Description:\"\", Name:\"body\", In:\"body\", Required:true, Schema:(*spec.Schema)(0xc003165680), AllowEmptyValue:false}}, spec.Parameter{Refable:spec.Refable{Ref:spec.Ref{Ref:jsonreference.Ref{referenceURL:(*url.URL)(nil), referencePointer:jsonpointer.Pointer{referenceTokens:[]string(nil)}, HasFullURL:false, HasURLPathOnly:false, HasFragmentOnly:false, HasFileScheme:false, HasFullFilePath:false}}}, CommonValidations:spec.CommonValidations{Maximum:(*float64)(nil), ExclusiveMaximum:false, Minimum:(*float64)(nil), ExclusiveMinimum:false, MaxLength:(*int64)(nil), MinLength:(*int64)(nil), Pattern:\"\", MaxItems:(*int64)(nil), MinItems:(*int64)(nil), UniqueItems:false, MultipleOf:(*float64)(nil), Enum:[]interface {}(nil)}, SimpleSchema:spec.SimpleSchema{Type:\"string\", Nullable:false, Format:\"\", Items:(*spec.Items)(nil), CollectionFormat:\"\", Default:interface {}(nil), Example:interface {}(nil)}, VendorExtensible:spec.VendorExtensible{Extensions:spec.Extensions(nil)}, ParamProps:spec.ParamProps{Description:\"Specifies the tenant in a request targeting a multi-tenant class\", Name:\"tenant\", In:\"query\", Required:false, Schema:(*spec.Schema)(nil), AllowEmptyValue:false}}}, Responses:(*spec.Responses)(0xc003166af8)}}\n",
      "adding route POST /v1/batch/objects \"batch.objects.create\"\n",
      "operation: spec.Operation{VendorExtensible:spec.VendorExtensible{Extensions:spec.Extensions{\"x-available-in-mqtt\":false, \"x-available-in-websocket\":false, \"x-serviceIds\":[]interface {}{\"weaviate.local.add\"}}}, OperationProps:spec.OperationProps{Description:\"Register new Objects in bulk. Provided meta-data and schema values are validated.\", Consumes:[]string(nil), Produces:[]string(nil), Schemes:[]string(nil), Tags:[]string{\"batch\", \"objects\"}, Summary:\"Creates new Objects based on a Object template as a batch.\", ExternalDocs:(*spec.ExternalDocumentation)(nil), ID:\"batch.objects.create\", Deprecated:false, Security:[]map[string][]string(nil), Parameters:[]spec.Parameter{spec.Parameter{Refable:spec.Refable{Ref:spec.Ref{Ref:jsonreference.Ref{referenceURL:(*url.URL)(nil), referencePointer:jsonpointer.Pointer{referenceTokens:[]string(nil)}, HasFullURL:false, HasURLPathOnly:false, HasFragmentOnly:false, HasFileScheme:false, HasFullFilePath:false}}}, CommonValidations:spec.CommonValidations{Maximum:(*float64)(nil), ExclusiveMaximum:false, Minimum:(*float64)(nil), ExclusiveMinimum:false, MaxLength:(*int64)(nil), MinLength:(*int64)(nil), Pattern:\"\", MaxItems:(*int64)(nil), MinItems:(*int64)(nil), UniqueItems:false, MultipleOf:(*float64)(nil), Enum:[]interface {}(nil)}, SimpleSchema:spec.SimpleSchema{Type:\"\", Nullable:false, Format:\"\", Items:(*spec.Items)(nil), CollectionFormat:\"\", Default:interface {}(nil), Example:interface {}(nil)}, VendorExtensible:spec.VendorExtensible{Extensions:spec.Extensions(nil)}, ParamProps:spec.ParamProps{Description:\"\", Name:\"body\", In:\"body\", Required:true, Schema:(*spec.Schema)(0xc0033278c0), AllowEmptyValue:false}}, spec.Parameter{Refable:spec.Refable{Ref:spec.Ref{Ref:jsonreference.Ref{referenceURL:(*url.URL)(nil), referencePointer:jsonpointer.Pointer{referenceTokens:[]string(nil)}, HasFullURL:false, HasURLPathOnly:false, HasFragmentOnly:false, HasFileScheme:false, HasFullFilePath:false}}}, CommonValidations:spec.CommonValidations{Maximum:(*float64)(nil), ExclusiveMaximum:false, Minimum:(*float64)(nil), ExclusiveMinimum:false, MaxLength:(*int64)(nil), MinLength:(*int64)(nil), Pattern:\"\", MaxItems:(*int64)(nil), MinItems:(*int64)(nil), UniqueItems:false, MultipleOf:(*float64)(nil), Enum:[]interface {}(nil)}, SimpleSchema:spec.SimpleSchema{Type:\"string\", Nullable:false, Format:\"\", Items:(*spec.Items)(nil), CollectionFormat:\"\", Default:interface {}(nil), Example:interface {}(nil)}, VendorExtensible:spec.VendorExtensible{Extensions:spec.Extensions(nil)}, ParamProps:spec.ParamProps{Description:\"Determines how many replicas must acknowledge a request before it is considered successful\", Name:\"consistency_level\", In:\"query\", Required:false, Schema:(*spec.Schema)(nil), AllowEmptyValue:false}}}, Responses:(*spec.Responses)(0xc003344240)}}\n",
      "adding route POST /v1/backups/{backend} \"backups.create\"\n",
      "operation: spec.Operation{VendorExtensible:spec.VendorExtensible{Extensions:spec.Extensions{\"x-serviceIds\":[]interface {}{\"weaviate.local.backup\"}}}, OperationProps:spec.OperationProps{Description:\"Starts a process of creating a backup for a set of classes\", Consumes:[]string(nil), Produces:[]string(nil), Schemes:[]string(nil), Tags:[]string{\"backups\"}, Summary:\"\", ExternalDocs:(*spec.ExternalDocumentation)(nil), ID:\"backups.create\", Deprecated:false, Security:[]map[string][]string(nil), Parameters:[]spec.Parameter{spec.Parameter{Refable:spec.Refable{Ref:spec.Ref{Ref:jsonreference.Ref{referenceURL:(*url.URL)(nil), referencePointer:jsonpointer.Pointer{referenceTokens:[]string(nil)}, HasFullURL:false, HasURLPathOnly:false, HasFragmentOnly:false, HasFileScheme:false, HasFullFilePath:false}}}, CommonValidations:spec.CommonValidations{Maximum:(*float64)(nil), ExclusiveMaximum:false, Minimum:(*float64)(nil), ExclusiveMinimum:false, MaxLength:(*int64)(nil), MinLength:(*int64)(nil), Pattern:\"\", MaxItems:(*int64)(nil), MinItems:(*int64)(nil), UniqueItems:false, MultipleOf:(*float64)(nil), Enum:[]interface {}(nil)}, SimpleSchema:spec.SimpleSchema{Type:\"string\", Nullable:false, Format:\"\", Items:(*spec.Items)(nil), CollectionFormat:\"\", Default:interface {}(nil), Example:interface {}(nil)}, VendorExtensible:spec.VendorExtensible{Extensions:spec.Extensions(nil)}, ParamProps:spec.ParamProps{Description:\"Backup backend name e.g. filesystem, gcs, s3.\", Name:\"backend\", In:\"path\", Required:true, Schema:(*spec.Schema)(nil), AllowEmptyValue:false}}, spec.Parameter{Refable:spec.Refable{Ref:spec.Ref{Ref:jsonreference.Ref{referenceURL:(*url.URL)(nil), referencePointer:jsonpointer.Pointer{referenceTokens:[]string(nil)}, HasFullURL:false, HasURLPathOnly:false, HasFragmentOnly:false, HasFileScheme:false, HasFullFilePath:false}}}, CommonValidations:spec.CommonValidations{Maximum:(*float64)(nil), ExclusiveMaximum:false, Minimum:(*float64)(nil), ExclusiveMinimum:false, MaxLength:(*int64)(nil), MinLength:(*int64)(nil), Pattern:\"\", MaxItems:(*int64)(nil), MinItems:(*int64)(nil), UniqueItems:false, MultipleOf:(*float64)(nil), Enum:[]interface {}(nil)}, SimpleSchema:spec.SimpleSchema{Type:\"\", Nullable:false, Format:\"\", Items:(*spec.Items)(nil), CollectionFormat:\"\", Default:interface {}(nil), Example:interface {}(nil)}, VendorExtensible:spec.VendorExtensible{Extensions:spec.Extensions(nil)}, ParamProps:spec.ParamProps{Description:\"\", Name:\"body\", In:\"body\", Required:true, Schema:(*spec.Schema)(0xc003192000), AllowEmptyValue:false}}}, Responses:(*spec.Responses)(0xc003167938)}}\n",
      "adding route POST /v1/backups/{backend}/{id}/restore \"backups.restore\"\n",
      "operation: spec.Operation{VendorExtensible:spec.VendorExtensible{Extensions:spec.Extensions{\"x-serviceIds\":[]interface {}{\"weaviate.local.backup\"}}}, OperationProps:spec.OperationProps{Description:\"Starts a process of restoring a backup for a set of classes\", Consumes:[]string(nil), Produces:[]string(nil), Schemes:[]string(nil), Tags:[]string{\"backups\"}, Summary:\"\", ExternalDocs:(*spec.ExternalDocumentation)(nil), ID:\"backups.restore\", Deprecated:false, Security:[]map[string][]string(nil), Parameters:[]spec.Parameter{spec.Parameter{Refable:spec.Refable{Ref:spec.Ref{Ref:jsonreference.Ref{referenceURL:(*url.URL)(nil), referencePointer:jsonpointer.Pointer{referenceTokens:[]string(nil)}, HasFullURL:false, HasURLPathOnly:false, HasFragmentOnly:false, HasFileScheme:false, HasFullFilePath:false}}}, CommonValidations:spec.CommonValidations{Maximum:(*float64)(nil), ExclusiveMaximum:false, Minimum:(*float64)(nil), ExclusiveMinimum:false, MaxLength:(*int64)(nil), MinLength:(*int64)(nil), Pattern:\"\", MaxItems:(*int64)(nil), MinItems:(*int64)(nil), UniqueItems:false, MultipleOf:(*float64)(nil), Enum:[]interface {}(nil)}, SimpleSchema:spec.SimpleSchema{Type:\"string\", Nullable:false, Format:\"\", Items:(*spec.Items)(nil), CollectionFormat:\"\", Default:interface {}(nil), Example:interface {}(nil)}, VendorExtensible:spec.VendorExtensible{Extensions:spec.Extensions(nil)}, ParamProps:spec.ParamProps{Description:\"Backup backend name e.g. filesystem, gcs, s3.\", Name:\"backend\", In:\"path\", Required:true, Schema:(*spec.Schema)(nil), AllowEmptyValue:false}}, spec.Parameter{Refable:spec.Refable{Ref:spec.Ref{Ref:jsonreference.Ref{referenceURL:(*url.URL)(nil), referencePointer:jsonpointer.Pointer{referenceTokens:[]string(nil)}, HasFullURL:false, HasURLPathOnly:false, HasFragmentOnly:false, HasFileScheme:false, HasFullFilePath:false}}}, CommonValidations:spec.CommonValidations{Maximum:(*float64)(nil), ExclusiveMaximum:false, Minimum:(*float64)(nil), ExclusiveMinimum:false, MaxLength:(*int64)(nil), MinLength:(*int64)(nil), Pattern:\"\", MaxItems:(*int64)(nil), MinItems:(*int64)(nil), UniqueItems:false, MultipleOf:(*float64)(nil), Enum:[]interface {}(nil)}, SimpleSchema:spec.SimpleSchema{Type:\"string\", Nullable:false, Format:\"\", Items:(*spec.Items)(nil), CollectionFormat:\"\", Default:interface {}(nil), Example:interface {}(nil)}, VendorExtensible:spec.VendorExtensible{Extensions:spec.Extensions(nil)}, ParamProps:spec.ParamProps{Description:\"The ID of a backup. Must be URL-safe and work as a filesystem path, only lowercase, numbers, underscore, minus characters allowed.\", Name:\"id\", In:\"path\", Required:true, Schema:(*spec.Schema)(nil), AllowEmptyValue:false}}, spec.Parameter{Refable:spec.Refable{Ref:spec.Ref{Ref:jsonreference.Ref{referenceURL:(*url.URL)(nil), referencePointer:jsonpointer.Pointer{referenceTokens:[]string(nil)}, HasFullURL:false, HasURLPathOnly:false, HasFragmentOnly:false, HasFileScheme:false, HasFullFilePath:false}}}, CommonValidations:spec.CommonValidations{Maximum:(*float64)(nil), ExclusiveMaximum:false, Minimum:(*float64)(nil), ExclusiveMinimum:false, MaxLength:(*int64)(nil), MinLength:(*int64)(nil), Pattern:\"\", MaxItems:(*int64)(nil), MinItems:(*int64)(nil), UniqueItems:false, MultipleOf:(*float64)(nil), Enum:[]interface {}(nil)}, SimpleSchema:spec.SimpleSchema{Type:\"\", Nullable:false, Format:\"\", Items:(*spec.Items)(nil), CollectionFormat:\"\", Default:interface {}(nil), Example:interface {}(nil)}, VendorExtensible:spec.VendorExtensible{Extensions:spec.Extensions(nil)}, ParamProps:spec.ParamProps{Description:\"\", Name:\"body\", In:\"body\", Required:true, Schema:(*spec.Schema)(0xc0031ec480), AllowEmptyValue:false}}}, Responses:(*spec.Responses)(0xc0031afc68)}}\n",
      "adding route POST /v1/batch/references \"batch.references.create\"\n",
      "operation: spec.Operation{VendorExtensible:spec.VendorExtensible{Extensions:spec.Extensions{\"x-available-in-mqtt\":false, \"x-available-in-websocket\":false, \"x-serviceIds\":[]interface {}{\"weaviate.local.add\"}}}, OperationProps:spec.OperationProps{Description:\"Register cross-references between any class items (objects or objects) in bulk.\", Consumes:[]string(nil), Produces:[]string(nil), Schemes:[]string(nil), Tags:[]string{\"batch\", \"references\"}, Summary:\"Creates new Cross-References between arbitrary classes in bulk.\", ExternalDocs:(*spec.ExternalDocumentation)(nil), ID:\"batch.references.create\", Deprecated:false, Security:[]map[string][]string(nil), Parameters:[]spec.Parameter{spec.Parameter{Refable:spec.Refable{Ref:spec.Ref{Ref:jsonreference.Ref{referenceURL:(*url.URL)(nil), referencePointer:jsonpointer.Pointer{referenceTokens:[]string(nil)}, HasFullURL:false, HasURLPathOnly:false, HasFragmentOnly:false, HasFileScheme:false, HasFullFilePath:false}}}, CommonValidations:spec.CommonValidations{Maximum:(*float64)(nil), ExclusiveMaximum:false, Minimum:(*float64)(nil), ExclusiveMinimum:false, MaxLength:(*int64)(nil), MinLength:(*int64)(nil), Pattern:\"\", MaxItems:(*int64)(nil), MinItems:(*int64)(nil), UniqueItems:false, MultipleOf:(*float64)(nil), Enum:[]interface {}(nil)}, SimpleSchema:spec.SimpleSchema{Type:\"\", Nullable:false, Format:\"\", Items:(*spec.Items)(nil), CollectionFormat:\"\", Default:interface {}(nil), Example:interface {}(nil)}, VendorExtensible:spec.VendorExtensible{Extensions:spec.Extensions(nil)}, ParamProps:spec.ParamProps{Description:\"A list of references to be batched. The ideal size depends on the used database connector. Please see the documentation of the used connector for help\", Name:\"body\", In:\"body\", Required:true, Schema:(*spec.Schema)(0xc00306cd80), AllowEmptyValue:false}}, spec.Parameter{Refable:spec.Refable{Ref:spec.Ref{Ref:jsonreference.Ref{referenceURL:(*url.URL)(nil), referencePointer:jsonpointer.Pointer{referenceTokens:[]string(nil)}, HasFullURL:false, HasURLPathOnly:false, HasFragmentOnly:false, HasFileScheme:false, HasFullFilePath:false}}}, CommonValidations:spec.CommonValidations{Maximum:(*float64)(nil), ExclusiveMaximum:false, Minimum:(*float64)(nil), ExclusiveMinimum:false, MaxLength:(*int64)(nil), MinLength:(*int64)(nil), Pattern:\"\", MaxItems:(*int64)(nil), MinItems:(*int64)(nil), UniqueItems:false, MultipleOf:(*float64)(nil), Enum:[]interface {}(nil)}, SimpleSchema:spec.SimpleSchema{Type:\"string\", Nullable:false, Format:\"\", Items:(*spec.Items)(nil), CollectionFormat:\"\", Default:interface {}(nil), Example:interface {}(nil)}, VendorExtensible:spec.VendorExtensible{Extensions:spec.Extensions(nil)}, ParamProps:spec.ParamProps{Description:\"Determines how many replicas must acknowledge a request before it is considered successful\", Name:\"consistency_level\", In:\"query\", Required:false, Schema:(*spec.Schema)(nil), AllowEmptyValue:false}}}, Responses:(*spec.Responses)(0xc003003278)}}\n",
      "adding route POST /v1/schema/{className}/tenants \"tenants.create\"\n",
      "operation: spec.Operation{VendorExtensible:spec.VendorExtensible{Extensions:spec.Extensions(nil)}, OperationProps:spec.OperationProps{Description:\"Create a new tenant for a specific class\", Consumes:[]string(nil), Produces:[]string(nil), Schemes:[]string(nil), Tags:[]string{\"schema\"}, Summary:\"\", ExternalDocs:(*spec.ExternalDocumentation)(nil), ID:\"tenants.create\", Deprecated:false, Security:[]map[string][]string(nil), Parameters:[]spec.Parameter{spec.Parameter{Refable:spec.Refable{Ref:spec.Ref{Ref:jsonreference.Ref{referenceURL:(*url.URL)(nil), referencePointer:jsonpointer.Pointer{referenceTokens:[]string(nil)}, HasFullURL:false, HasURLPathOnly:false, HasFragmentOnly:false, HasFileScheme:false, HasFullFilePath:false}}}, CommonValidations:spec.CommonValidations{Maximum:(*float64)(nil), ExclusiveMaximum:false, Minimum:(*float64)(nil), ExclusiveMinimum:false, MaxLength:(*int64)(nil), MinLength:(*int64)(nil), Pattern:\"\", MaxItems:(*int64)(nil), MinItems:(*int64)(nil), UniqueItems:false, MultipleOf:(*float64)(nil), Enum:[]interface {}(nil)}, SimpleSchema:spec.SimpleSchema{Type:\"string\", Nullable:false, Format:\"\", Items:(*spec.Items)(nil), CollectionFormat:\"\", Default:interface {}(nil), Example:interface {}(nil)}, VendorExtensible:spec.VendorExtensible{Extensions:spec.Extensions(nil)}, ParamProps:spec.ParamProps{Description:\"\", Name:\"className\", In:\"path\", Required:true, Schema:(*spec.Schema)(nil), AllowEmptyValue:false}}, spec.Parameter{Refable:spec.Refable{Ref:spec.Ref{Ref:jsonreference.Ref{referenceURL:(*url.URL)(nil), referencePointer:jsonpointer.Pointer{referenceTokens:[]string(nil)}, HasFullURL:false, HasURLPathOnly:false, HasFragmentOnly:false, HasFileScheme:false, HasFullFilePath:false}}}, CommonValidations:spec.CommonValidations{Maximum:(*float64)(nil), ExclusiveMaximum:false, Minimum:(*float64)(nil), ExclusiveMinimum:false, MaxLength:(*int64)(nil), MinLength:(*int64)(nil), Pattern:\"\", MaxItems:(*int64)(nil), MinItems:(*int64)(nil), UniqueItems:false, MultipleOf:(*float64)(nil), Enum:[]interface {}(nil)}, SimpleSchema:spec.SimpleSchema{Type:\"\", Nullable:false, Format:\"\", Items:(*spec.Items)(nil), CollectionFormat:\"\", Default:interface {}(nil), Example:interface {}(nil)}, VendorExtensible:spec.VendorExtensible{Extensions:spec.Extensions(nil)}, ParamProps:spec.ParamProps{Description:\"\", Name:\"body\", In:\"body\", Required:true, Schema:(*spec.Schema)(0xc0033cafc0), AllowEmptyValue:false}}}, Responses:(*spec.Responses)(0xc003393c50)}}\n",
      "adding route POST /v1/objects \"objects.create\"\n",
      "operation: spec.Operation{VendorExtensible:spec.VendorExtensible{Extensions:spec.Extensions{\"x-available-in-mqtt\":false, \"x-available-in-websocket\":false, \"x-serviceIds\":[]interface {}{\"weaviate.local.add\"}}}, OperationProps:spec.OperationProps{Description:\"Registers a new Object. Provided meta-data and schema values are validated.\", Consumes:[]string(nil), Produces:[]string(nil), Schemes:[]string(nil), Tags:[]string{\"objects\"}, Summary:\"Create Objects between two Objects (object and subject).\", ExternalDocs:(*spec.ExternalDocumentation)(nil), ID:\"objects.create\", Deprecated:false, Security:[]map[string][]string(nil), Parameters:[]spec.Parameter{spec.Parameter{Refable:spec.Refable{Ref:spec.Ref{Ref:jsonreference.Ref{referenceURL:(*url.URL)(nil), referencePointer:jsonpointer.Pointer{referenceTokens:[]string(nil)}, HasFullURL:false, HasURLPathOnly:false, HasFragmentOnly:false, HasFileScheme:false, HasFullFilePath:false}}}, CommonValidations:spec.CommonValidations{Maximum:(*float64)(nil), ExclusiveMaximum:false, Minimum:(*float64)(nil), ExclusiveMinimum:false, MaxLength:(*int64)(nil), MinLength:(*int64)(nil), Pattern:\"\", MaxItems:(*int64)(nil), MinItems:(*int64)(nil), UniqueItems:false, MultipleOf:(*float64)(nil), Enum:[]interface {}(nil)}, SimpleSchema:spec.SimpleSchema{Type:\"\", Nullable:false, Format:\"\", Items:(*spec.Items)(nil), CollectionFormat:\"\", Default:interface {}(nil), Example:interface {}(nil)}, VendorExtensible:spec.VendorExtensible{Extensions:spec.Extensions(nil)}, ParamProps:spec.ParamProps{Description:\"\", Name:\"body\", In:\"body\", Required:true, Schema:(*spec.Schema)(0xc00338bb00), AllowEmptyValue:false}}, spec.Parameter{Refable:spec.Refable{Ref:spec.Ref{Ref:jsonreference.Ref{referenceURL:(*url.URL)(nil), referencePointer:jsonpointer.Pointer{referenceTokens:[]string(nil)}, HasFullURL:false, HasURLPathOnly:false, HasFragmentOnly:false, HasFileScheme:false, HasFullFilePath:false}}}, CommonValidations:spec.CommonValidations{Maximum:(*float64)(nil), ExclusiveMaximum:false, Minimum:(*float64)(nil), ExclusiveMinimum:false, MaxLength:(*int64)(nil), MinLength:(*int64)(nil), Pattern:\"\", MaxItems:(*int64)(nil), MinItems:(*int64)(nil), UniqueItems:false, MultipleOf:(*float64)(nil), Enum:[]interface {}(nil)}, SimpleSchema:spec.SimpleSchema{Type:\"string\", Nullable:false, Format:\"\", Items:(*spec.Items)(nil), CollectionFormat:\"\", Default:interface {}(nil), Example:interface {}(nil)}, VendorExtensible:spec.VendorExtensible{Extensions:spec.Extensions(nil)}, ParamProps:spec.ParamProps{Description:\"Determines how many replicas must acknowledge a request before it is considered successful\", Name:\"consistency_level\", In:\"query\", Required:false, Schema:(*spec.Schema)(nil), AllowEmptyValue:false}}}, Responses:(*spec.Responses)(0xc003392900)}}\n",
      "adding route POST /v1/schema/{className}/properties \"schema.objects.properties.add\"\n",
      "operation: spec.Operation{VendorExtensible:spec.VendorExtensible{Extensions:spec.Extensions{\"x-serviceIds\":[]interface {}{\"weaviate.local.manipulate.meta\"}}}, OperationProps:spec.OperationProps{Description:\"\", Consumes:[]string(nil), Produces:[]string(nil), Schemes:[]string(nil), Tags:[]string{\"schema\"}, Summary:\"Add a property to an Object class.\", ExternalDocs:(*spec.ExternalDocumentation)(nil), ID:\"schema.objects.properties.add\", Deprecated:false, Security:[]map[string][]string(nil), Parameters:[]spec.Parameter{spec.Parameter{Refable:spec.Refable{Ref:spec.Ref{Ref:jsonreference.Ref{referenceURL:(*url.URL)(nil), referencePointer:jsonpointer.Pointer{referenceTokens:[]string(nil)}, HasFullURL:false, HasURLPathOnly:false, HasFragmentOnly:false, HasFileScheme:false, HasFullFilePath:false}}}, CommonValidations:spec.CommonValidations{Maximum:(*float64)(nil), ExclusiveMaximum:false, Minimum:(*float64)(nil), ExclusiveMinimum:false, MaxLength:(*int64)(nil), MinLength:(*int64)(nil), Pattern:\"\", MaxItems:(*int64)(nil), MinItems:(*int64)(nil), UniqueItems:false, MultipleOf:(*float64)(nil), Enum:[]interface {}(nil)}, SimpleSchema:spec.SimpleSchema{Type:\"string\", Nullable:false, Format:\"\", Items:(*spec.Items)(nil), CollectionFormat:\"\", Default:interface {}(nil), Example:interface {}(nil)}, VendorExtensible:spec.VendorExtensible{Extensions:spec.Extensions(nil)}, ParamProps:spec.ParamProps{Description:\"\", Name:\"className\", In:\"path\", Required:true, Schema:(*spec.Schema)(nil), AllowEmptyValue:false}}, spec.Parameter{Refable:spec.Refable{Ref:spec.Ref{Ref:jsonreference.Ref{referenceURL:(*url.URL)(nil), referencePointer:jsonpointer.Pointer{referenceTokens:[]string(nil)}, HasFullURL:false, HasURLPathOnly:false, HasFragmentOnly:false, HasFileScheme:false, HasFullFilePath:false}}}, CommonValidations:spec.CommonValidations{Maximum:(*float64)(nil), ExclusiveMaximum:false, Minimum:(*float64)(nil), ExclusiveMinimum:false, MaxLength:(*int64)(nil), MinLength:(*int64)(nil), Pattern:\"\", MaxItems:(*int64)(nil), MinItems:(*int64)(nil), UniqueItems:false, MultipleOf:(*float64)(nil), Enum:[]interface {}(nil)}, SimpleSchema:spec.SimpleSchema{Type:\"\", Nullable:false, Format:\"\", Items:(*spec.Items)(nil), CollectionFormat:\"\", Default:interface {}(nil), Example:interface {}(nil)}, VendorExtensible:spec.VendorExtensible{Extensions:spec.Extensions(nil)}, ParamProps:spec.ParamProps{Description:\"\", Name:\"body\", In:\"body\", Required:true, Schema:(*spec.Schema)(0xc0031ab440), AllowEmptyValue:false}}}, Responses:(*spec.Responses)(0xc0031ae588)}}\n",
      "adding route POST /v1/graphql/batch \"graphql.batch\"\n",
      "operation: spec.Operation{VendorExtensible:spec.VendorExtensible{Extensions:spec.Extensions{\"x-available-in-mqtt\":false, \"x-available-in-websocket\":false, \"x-serviceIds\":[]interface {}{\"weaviate.local.query\", \"weaviate.local.query.meta\", \"weaviate.network.query\", \"weaviate.network.query.meta\"}}}, OperationProps:spec.OperationProps{Description:\"Perform a batched GraphQL query\", Consumes:[]string(nil), Produces:[]string(nil), Schemes:[]string(nil), Tags:[]string{\"graphql\"}, Summary:\"Get a response based on GraphQL.\", ExternalDocs:(*spec.ExternalDocumentation)(nil), ID:\"graphql.batch\", Deprecated:false, Security:[]map[string][]string(nil), Parameters:[]spec.Parameter{spec.Parameter{Refable:spec.Refable{Ref:spec.Ref{Ref:jsonreference.Ref{referenceURL:(*url.URL)(nil), referencePointer:jsonpointer.Pointer{referenceTokens:[]string(nil)}, HasFullURL:false, HasURLPathOnly:false, HasFragmentOnly:false, HasFileScheme:false, HasFullFilePath:false}}}, CommonValidations:spec.CommonValidations{Maximum:(*float64)(nil), ExclusiveMaximum:false, Minimum:(*float64)(nil), ExclusiveMinimum:false, MaxLength:(*int64)(nil), MinLength:(*int64)(nil), Pattern:\"\", MaxItems:(*int64)(nil), MinItems:(*int64)(nil), UniqueItems:false, MultipleOf:(*float64)(nil), Enum:[]interface {}(nil)}, SimpleSchema:spec.SimpleSchema{Type:\"\", Nullable:false, Format:\"\", Items:(*spec.Items)(nil), CollectionFormat:\"\", Default:interface {}(nil), Example:interface {}(nil)}, VendorExtensible:spec.VendorExtensible{Extensions:spec.Extensions(nil)}, ParamProps:spec.ParamProps{Description:\"The GraphQL queries.\", Name:\"body\", In:\"body\", Required:true, Schema:(*spec.Schema)(0xc003374000), AllowEmptyValue:false}}}, Responses:(*spec.Responses)(0xc0033455d8)}}\n",
      "{\"action\":\"restapi_management\",\"level\":\"info\",\"msg\":\"Serving weaviate at http://127.0.0.1:8079\",\"time\":\"2023-12-30T10:23:52-03:00\"}\n",
      "looking up route for GET /v1/.well-known/openid-configuration\n",
      "got a router for POST\n",
      "got a router for GET\n",
      "got a router for HEAD\n",
      "got a router for DELETE\n",
      "got a router for PATCH\n",
      "got a router for PUT\n",
      "found a route for GET /v1/.well-known/openid-configuration with 0 parameters\n",
      "responding to GET /v1/.well-known/openid-configuration with produces: [application/json]\n",
      "offers: [application/json]\n",
      "[GET /v1/.well-known/openid-configuration] set response format \"application/json\" in context\n",
      "[GET /v1/.well-known/openid-configuration] negotiated response format \"application/json\"\n",
      "looking up route for GET /v1/meta\n",
      "got a router for PUT\n",
      "got a router for POST\n",
      "got a router for GET\n",
      "got a router for HEAD\n",
      "got a router for DELETE\n",
      "got a router for PATCH\n",
      "found a route for GET /v1/meta with 0 parameters\n",
      "responding to GET /v1/meta with produces: [application/json]\n",
      "offers: [application/json]\n",
      "[GET /v1/meta] set response format \"application/json\" in context\n",
      "[GET /v1/meta] negotiated response format \"application/json\"\n"
     ]
    }
   ],
   "source": [
    "import weaviate\n",
    "\n",
    "client = weaviate.Client(\n",
    "    embedded_options=weaviate.EmbeddedOptions(),\n",
    "    additional_headers={\n",
    "        \"X-OpenAI-Api-Key\": openai_key\n",
    "    }\n",
    ")"
   ]
  },
  {
   "cell_type": "code",
   "execution_count": 8,
   "metadata": {},
   "outputs": [],
   "source": [
    "def jprint(data_in):\n",
    "    print(json.dumps(data_in, indent=2))"
   ]
  },
  {
   "cell_type": "code",
   "execution_count": 9,
   "metadata": {},
   "outputs": [
    {
     "name": "stdout",
     "output_type": "stream",
     "text": [
      "{\n",
      "  \"hostname\": \"http://127.0.0.1:8079\",\n",
      "  \"modules\": {\n",
      "    \"generative-openai\": {\n",
      "      \"documentationHref\": \"https://platform.openai.com/docs/api-reference/completions\",\n",
      "      \"name\": \"Generative Search - OpenAI\"\n",
      "    },\n",
      "    \"qna-openai\": {\n",
      "      \"documentationHref\": \"https://platform.openai.com/docs/api-reference/completions\",\n",
      "      \"name\": \"OpenAI Question & Answering Module\"\n",
      "    },\n",
      "    \"ref2vec-centroid\": {},\n",
      "    \"reranker-cohere\": {\n",
      "      \"documentationHref\": \"https://txt.cohere.com/rerank/\",\n",
      "      \"name\": \"Reranker - Cohere\"\n",
      "    },\n",
      "    \"text2vec-cohere\": {\n",
      "      \"documentationHref\": \"https://docs.cohere.ai/embedding-wiki/\",\n",
      "      \"name\": \"Cohere Module\"\n",
      "    },\n",
      "    \"text2vec-huggingface\": {\n",
      "      \"documentationHref\": \"https://huggingface.co/docs/api-inference/detailed_parameters#feature-extraction-task\",\n",
      "      \"name\": \"Hugging Face Module\"\n",
      "    },\n",
      "    \"text2vec-openai\": {\n",
      "      \"documentationHref\": \"https://platform.openai.com/docs/guides/embeddings/what-are-embeddings\",\n",
      "      \"name\": \"OpenAI Module\"\n",
      "    }\n",
      "  },\n",
      "  \"version\": \"1.23.0\"\n",
      "}\n"
     ]
    },
    {
     "name": "stderr",
     "output_type": "stream",
     "text": [
      "looking up route for GET /v1/meta\n",
      "got a router for PATCH\n",
      "got a router for PUT\n",
      "got a router for POST\n",
      "got a router for GET\n",
      "got a router for HEAD\n",
      "got a router for DELETE\n",
      "found a route for GET /v1/meta with 0 parameters\n",
      "responding to GET /v1/meta with produces: [application/json]\n",
      "offers: [application/json]\n",
      "[GET /v1/meta] set response format \"application/json\" in context\n",
      "[GET /v1/meta] negotiated response format \"application/json\"\n"
     ]
    }
   ],
   "source": [
    "jprint(client.get_meta())"
   ]
  },
  {
   "cell_type": "code",
   "execution_count": 10,
   "metadata": {},
   "outputs": [
    {
     "name": "stderr",
     "output_type": "stream",
     "text": [
      "looking up route for GET /v1/schema/Question\n",
      "got a router for GET\n",
      "got a router for HEAD\n",
      "got a router for DELETE\n",
      "got a router for PATCH\n",
      "got a router for PUT\n",
      "got a router for POST\n",
      "found a route for GET /v1/schema/Question with 1 parameters\n",
      "responding to GET /v1/schema/Question with produces: [application/json]\n",
      "offers: [application/json]\n",
      "[GET /v1/schema/Question] set response format \"application/json\" in context\n",
      "[GET /v1/schema/Question] negotiated response format \"application/json\"\n"
     ]
    }
   ],
   "source": [
    "if client.schema.exists(\"Question\"):\n",
    "    client.schema.delete_class(\"Question\")"
   ]
  },
  {
   "cell_type": "code",
   "execution_count": 11,
   "metadata": {},
   "outputs": [
    {
     "name": "stderr",
     "output_type": "stream",
     "text": [
      "looking up route for POST /v1/schema\n",
      "got a router for HEAD\n",
      "got a router for DELETE\n",
      "got a router for PATCH\n",
      "got a router for PUT\n",
      "got a router for POST\n",
      "got a router for GET\n",
      "found a route for POST /v1/schema with 1 parameters\n",
      "validating content type for \"application/json\" against [application/json, application/yaml]\n",
      "{\"level\":\"info\",\"msg\":\"Created shard question_1tAIoNqfSg0d in 14.057743ms\",\"time\":\"2023-12-30T10:30:37-03:00\"}\n",
      "responding to POST /v1/schema with produces: [application/json]\n",
      "offers: [application/json]\n",
      "[POST /v1/schema] set response format \"application/json\" in context\n",
      "[POST /v1/schema] negotiated response format \"application/json\"\n",
      "{\"action\":\"hnsw_vector_cache_prefill\",\"count\":1000,\"index_id\":\"main\",\"level\":\"info\",\"limit\":1000000000000,\"msg\":\"prefilled vector cache\",\"time\":\"2023-12-30T10:30:37-03:00\",\"took\":463640}\n"
     ]
    }
   ],
   "source": [
    "class_definition = {\n",
    "    \"class\": \"Question\",\n",
    "    \"vectorizer\": \"text2vec-openai\",\n",
    "    \"vectorIndexConfig\": {\n",
    "        \"distance\": \"cosine\",\n",
    "    },\n",
    "    \"moduleConfig\": {\n",
    "        \"generative-cohere\": {}\n",
    "    },\n",
    "    \"properties\": [\n",
    "        {\n",
    "            \"name\": \"question\",\n",
    "            \"dataType\": [\"text\"]\n",
    "        },\n",
    "        {\n",
    "            \"name\": \"answer\",\n",
    "            \"dataType\": [\"text\"]\n",
    "        },\n",
    "    ],\n",
    "}\n",
    "\n",
    "client.schema.create_class(class_definition)"
   ]
  },
  {
   "attachments": {},
   "cell_type": "markdown",
   "metadata": {},
   "source": [
    "Was our class created successfully? Let's take a look"
   ]
  },
  {
   "cell_type": "code",
   "execution_count": 12,
   "metadata": {},
   "outputs": [
    {
     "name": "stdout",
     "output_type": "stream",
     "text": [
      "{\n",
      "  \"class\": \"Question\",\n",
      "  \"invertedIndexConfig\": {\n",
      "    \"bm25\": {\n",
      "      \"b\": 0.75,\n",
      "      \"k1\": 1.2\n",
      "    },\n",
      "    \"cleanupIntervalSeconds\": 60,\n",
      "    \"stopwords\": {\n",
      "      \"additions\": null,\n",
      "      \"preset\": \"en\",\n",
      "      \"removals\": null\n",
      "    }\n",
      "  },\n",
      "  \"moduleConfig\": {\n",
      "    \"generative-cohere\": {},\n",
      "    \"text2vec-openai\": {\n",
      "      \"baseURL\": \"https://api.openai.com\",\n",
      "      \"model\": \"ada\",\n",
      "      \"modelVersion\": \"002\",\n",
      "      \"type\": \"text\",\n",
      "      \"vectorizeClassName\": true\n",
      "    }\n",
      "  },\n",
      "  \"multiTenancyConfig\": {\n",
      "    \"enabled\": false\n",
      "  },\n",
      "  \"properties\": [\n",
      "    {\n",
      "      \"dataType\": [\n",
      "        \"text\"\n",
      "      ],\n",
      "      \"indexFilterable\": true,\n",
      "      \"indexSearchable\": true,\n",
      "      \"moduleConfig\": {\n",
      "        \"text2vec-openai\": {\n",
      "          \"skip\": false,\n",
      "          \"vectorizePropertyName\": false\n",
      "        }\n",
      "      },\n",
      "      \"name\": \"question\",\n",
      "      \"tokenization\": \"word\"\n",
      "    },\n",
      "    {\n",
      "      \"dataType\": [\n",
      "        \"text\"\n",
      "      ],\n",
      "      \"indexFilterable\": true,\n",
      "      \"indexSearchable\": true,\n",
      "      \"moduleConfig\": {\n",
      "        \"text2vec-openai\": {\n",
      "          \"skip\": false,\n",
      "          \"vectorizePropertyName\": false\n",
      "        }\n",
      "      },\n",
      "      \"name\": \"answer\",\n",
      "      \"tokenization\": \"word\"\n",
      "    }\n",
      "  ],\n",
      "  \"replicationConfig\": {\n",
      "    \"factor\": 1\n",
      "  },\n",
      "  \"shardingConfig\": {\n",
      "    \"virtualPerPhysical\": 128,\n",
      "    \"desiredCount\": 1,\n",
      "    \"actualCount\": 1,\n",
      "    \"desiredVirtualCount\": 128,\n",
      "    \"actualVirtualCount\": 128,\n",
      "    \"key\": \"_id\",\n",
      "    \"strategy\": \"hash\",\n",
      "    \"function\": \"murmur3\"\n",
      "  },\n",
      "  \"vectorIndexConfig\": {\n",
      "    \"skip\": false,\n",
      "    \"cleanupIntervalSeconds\": 300,\n",
      "    \"maxConnections\": 64,\n",
      "    \"efConstruction\": 128,\n",
      "    \"ef\": -1,\n",
      "    \"dynamicEfMin\": 100,\n",
      "    \"dynamicEfMax\": 500,\n",
      "    \"dynamicEfFactor\": 8,\n",
      "    \"vectorCacheMaxObjects\": 1000000000000,\n",
      "    \"flatSearchCutoff\": 40000,\n",
      "    \"distance\": \"cosine\",\n",
      "    \"pq\": {\n",
      "      \"enabled\": false,\n",
      "      \"bitCompression\": false,\n",
      "      \"segments\": 0,\n",
      "      \"centroids\": 256,\n",
      "      \"trainingLimit\": 100000,\n",
      "      \"encoder\": {\n",
      "        \"type\": \"kmeans\",\n",
      "        \"distribution\": \"log-normal\"\n",
      "      }\n",
      "    }\n",
      "  },\n",
      "  \"vectorIndexType\": \"hnsw\",\n",
      "  \"vectorizer\": \"text2vec-openai\"\n",
      "}\n"
     ]
    },
    {
     "name": "stderr",
     "output_type": "stream",
     "text": [
      "looking up route for GET /v1/schema/Question\n",
      "got a router for PATCH\n",
      "got a router for PUT\n",
      "got a router for POST\n",
      "got a router for GET\n",
      "got a router for HEAD\n",
      "got a router for DELETE\n",
      "found a route for GET /v1/schema/Question with 1 parameters\n",
      "responding to GET /v1/schema/Question with produces: [application/json]\n",
      "offers: [application/json]\n",
      "[GET /v1/schema/Question] set response format \"application/json\" in context\n",
      "[GET /v1/schema/Question] negotiated response format \"application/json\"\n"
     ]
    }
   ],
   "source": [
    "jprint(client.schema.get(\"Question\"))"
   ]
  },
  {
   "attachments": {},
   "cell_type": "markdown",
   "metadata": {},
   "source": [
    "### Add Data\n",
    "\n",
    "We'll add actual objects (SQL rows) to our data.\n",
    "\n",
    "First, let's build objects to add - and take a look at a couple."
   ]
  },
  {
   "cell_type": "code",
   "execution_count": 13,
   "metadata": {},
   "outputs": [
    {
     "name": "stdout",
     "output_type": "stream",
     "text": [
      "{'question': 'Abraham Lincoln died across the street from this theatre on April 15, 1865', 'answer': \"Ford's Theatre (the Ford Theatre accepted)\"}\n",
      "{'question': 'Any pigment on the wall so faded you can barely see it', 'answer': 'faint paint'}\n"
     ]
    }
   ],
   "source": [
    "for row in data[:2]:\n",
    "    data_obj = {\n",
    "        \"question\": row[\"Question\"],\n",
    "        \"answer\": row[\"Answer\"]\n",
    "    }\n",
    "    print(data_obj)"
   ]
  },
  {
   "attachments": {},
   "cell_type": "markdown",
   "metadata": {},
   "source": [
    "If it all looks fine - let's add objects:\n",
    "\n",
    "https://weaviate.io/developers/weaviate/manage-data/import"
   ]
  },
  {
   "cell_type": "code",
   "execution_count": 14,
   "metadata": {},
   "outputs": [
    {
     "name": "stderr",
     "output_type": "stream",
     "text": [
      "/Users/r337555/anaconda3/envs/vector-db/lib/python3.11/site-packages/weaviate/warnings.py:130: DeprecationWarning: Dep006: You are using the `client.batch()` method, which will be removed in the next major release.\n",
      "            Please instead use the `client.batch.configure()` method to configure your batch and `client.batch` to enter the context manager.\n",
      "            See https://weaviate.io/developers/weaviate/client-libraries/python for details.\n",
      "  warnings.warn(\n",
      "looking up route for POST /v1/batch/objects\n",
      "got a router for PATCH\n",
      "got a router for PUT\n",
      "got a router for POST\n",
      "got a router for GET\n",
      "got a router for HEAD\n",
      "got a router for DELETE\n",
      "looking up route for GET /v1/nodes\n",
      "got a router for DELETE\n",
      "got a router for PATCH\n",
      "got a router for PUT\n",
      "got a router for POST\n",
      "got a router for GET\n",
      "got a router for HEAD\n",
      "found a route for POST /v1/batch/objects with 2 parameters\n",
      "found a route for GET /v1/nodes with 1 parameters\n",
      "validating content type for \"application/json\" against [application/json, application/yaml]\n",
      "responding to GET /v1/nodes with produces: [application/json]\n",
      "offers: [application/json]\n",
      "[GET /v1/nodes] set response format \"application/json\" in context\n",
      "[GET /v1/nodes] negotiated response format \"application/json\"\n",
      "responding to POST /v1/batch/objects with produces: [application/json]\n",
      "offers: [application/json]\n",
      "[POST /v1/batch/objects] set response format \"application/json\" in context\n",
      "[POST /v1/batch/objects] negotiated response format \"application/json\"\n",
      "looking up route for POST /v1/batch/objects\n",
      "got a router for GET\n",
      "got a router for HEAD\n",
      "got a router for DELETE\n",
      "got a router for PATCH\n",
      "got a router for PUT\n",
      "got a router for POST\n",
      "found a route for POST /v1/batch/objects with 2 parameters\n",
      "validating content type for \"application/json\" against [application/json, application/yaml]\n",
      "responding to POST /v1/batch/objects with produces: [application/json]\n",
      "offers: [application/json]\n",
      "[POST /v1/batch/objects] set response format \"application/json\" in context\n",
      "[POST /v1/batch/objects] negotiated response format \"application/json\"\n",
      "looking up route for POST /v1/batch/objects\n",
      "got a router for PUT\n",
      "got a router for POST\n",
      "got a router for GET\n",
      "got a router for HEAD\n",
      "got a router for DELETE\n",
      "got a router for PATCH\n",
      "found a route for POST /v1/batch/objects with 2 parameters\n",
      "validating content type for \"application/json\" against [application/json, application/yaml]\n",
      "responding to POST /v1/batch/objects with produces: [application/json]\n",
      "offers: [application/json]\n",
      "[POST /v1/batch/objects] set response format \"application/json\" in context\n",
      "[POST /v1/batch/objects] negotiated response format \"application/json\"\n",
      "looking up route for POST /v1/batch/objects\n",
      "got a router for HEAD\n",
      "got a router for DELETE\n",
      "got a router for PATCH\n",
      "got a router for PUT\n",
      "got a router for POST\n",
      "got a router for GET\n",
      "found a route for POST /v1/batch/objects with 2 parameters\n",
      "validating content type for \"application/json\" against [application/json, application/yaml]\n",
      "responding to POST /v1/batch/objects with produces: [application/json]\n",
      "offers: [application/json]\n",
      "[POST /v1/batch/objects] set response format \"application/json\" in context\n",
      "[POST /v1/batch/objects] negotiated response format \"application/json\"\n",
      "looking up route for POST /v1/batch/objects\n",
      "got a router for GET\n",
      "got a router for HEAD\n",
      "got a router for DELETE\n",
      "got a router for PATCH\n",
      "got a router for PUT\n",
      "got a router for POST\n",
      "found a route for POST /v1/batch/objects with 2 parameters\n",
      "validating content type for \"application/json\" against [application/json, application/yaml]\n",
      "responding to POST /v1/batch/objects with produces: [application/json]\n",
      "offers: [application/json]\n",
      "[POST /v1/batch/objects] set response format \"application/json\" in context\n",
      "[POST /v1/batch/objects] negotiated response format \"application/json\"\n",
      "looking up route for POST /v1/batch/objects\n",
      "got a router for PATCH\n",
      "got a router for PUT\n",
      "got a router for POST\n",
      "got a router for GET\n",
      "got a router for HEAD\n",
      "got a router for DELETE\n",
      "found a route for POST /v1/batch/objects with 2 parameters\n",
      "validating content type for \"application/json\" against [application/json, application/yaml]\n",
      "responding to POST /v1/batch/objects with produces: [application/json]\n",
      "offers: [application/json]\n",
      "[POST /v1/batch/objects] set response format \"application/json\" in context\n",
      "[POST /v1/batch/objects] negotiated response format \"application/json\"\n",
      "looking up route for POST /v1/batch/objects\n",
      "got a router for DELETE\n",
      "got a router for PATCH\n",
      "got a router for PUT\n",
      "got a router for POST\n",
      "got a router for GET\n",
      "got a router for HEAD\n",
      "found a route for POST /v1/batch/objects with 2 parameters\n",
      "validating content type for \"application/json\" against [application/json, application/yaml]\n",
      "responding to POST /v1/batch/objects with produces: [application/json]\n",
      "offers: [application/json]\n",
      "[POST /v1/batch/objects] set response format \"application/json\" in context\n",
      "[POST /v1/batch/objects] negotiated response format \"application/json\"\n",
      "looking up route for POST /v1/batch/objects\n",
      "got a router for GET\n",
      "got a router for HEAD\n",
      "got a router for DELETE\n",
      "got a router for PATCH\n",
      "got a router for PUT\n",
      "got a router for POST\n",
      "found a route for POST /v1/batch/objects with 2 parameters\n",
      "validating content type for \"application/json\" against [application/json, application/yaml]\n",
      "responding to POST /v1/batch/objects with produces: [application/json]\n",
      "offers: [application/json]\n",
      "[POST /v1/batch/objects] set response format \"application/json\" in context\n",
      "[POST /v1/batch/objects] negotiated response format \"application/json\"\n",
      "looking up route for POST /v1/batch/objects\n",
      "got a router for PUT\n",
      "got a router for POST\n",
      "got a router for GET\n",
      "got a router for HEAD\n",
      "got a router for DELETE\n",
      "got a router for PATCH\n",
      "found a route for POST /v1/batch/objects with 2 parameters\n",
      "validating content type for \"application/json\" against [application/json, application/yaml]\n",
      "responding to POST /v1/batch/objects with produces: [application/json]\n",
      "offers: [application/json]\n",
      "[POST /v1/batch/objects] set response format \"application/json\" in context\n",
      "[POST /v1/batch/objects] negotiated response format \"application/json\"\n",
      "looking up route for POST /v1/batch/objects\n",
      "got a router for POST\n",
      "got a router for GET\n",
      "got a router for HEAD\n",
      "got a router for DELETE\n",
      "got a router for PATCH\n",
      "got a router for PUT\n",
      "found a route for POST /v1/batch/objects with 2 parameters\n",
      "validating content type for \"application/json\" against [application/json, application/yaml]\n",
      "responding to POST /v1/batch/objects with produces: [application/json]\n",
      "offers: [application/json]\n",
      "[POST /v1/batch/objects] set response format \"application/json\" in context\n",
      "[POST /v1/batch/objects] negotiated response format \"application/json\"\n",
      "looking up route for POST /v1/batch/objects\n",
      "got a router for POST\n",
      "got a router for GET\n",
      "got a router for HEAD\n",
      "got a router for DELETE\n",
      "got a router for PATCH\n",
      "got a router for PUT\n",
      "found a route for POST /v1/batch/objects with 2 parameters\n",
      "validating content type for \"application/json\" against [application/json, application/yaml]\n",
      "responding to POST /v1/batch/objects with produces: [application/json]\n",
      "offers: [application/json]\n",
      "[POST /v1/batch/objects] set response format \"application/json\" in context\n",
      "[POST /v1/batch/objects] negotiated response format \"application/json\"\n",
      "looking up route for POST /v1/batch/objects\n",
      "got a router for GET\n",
      "got a router for HEAD\n",
      "got a router for DELETE\n",
      "got a router for PATCH\n",
      "got a router for PUT\n",
      "got a router for POST\n",
      "found a route for POST /v1/batch/objects with 2 parameters\n",
      "validating content type for \"application/json\" against [application/json, application/yaml]\n",
      "responding to POST /v1/batch/objects with produces: [application/json]\n",
      "offers: [application/json]\n",
      "[POST /v1/batch/objects] set response format \"application/json\" in context\n",
      "[POST /v1/batch/objects] negotiated response format \"application/json\"\n",
      "looking up route for POST /v1/batch/objects\n",
      "got a router for GET\n",
      "got a router for HEAD\n",
      "got a router for DELETE\n",
      "got a router for PATCH\n",
      "got a router for PUT\n",
      "got a router for POST\n",
      "found a route for POST /v1/batch/objects with 2 parameters\n",
      "validating content type for \"application/json\" against [application/json, application/yaml]\n",
      "responding to POST /v1/batch/objects with produces: [application/json]\n",
      "offers: [application/json]\n",
      "[POST /v1/batch/objects] set response format \"application/json\" in context\n",
      "[POST /v1/batch/objects] negotiated response format \"application/json\"\n"
     ]
    }
   ],
   "source": [
    "with client.batch() as batch:\n",
    "    for row in data:\n",
    "        data_obj = {\n",
    "            \"question\": row[\"Question\"],\n",
    "            \"answer\": row[\"Answer\"]\n",
    "        }\n",
    "        batch.add_data_object(\n",
    "            data_object=data_obj,\n",
    "            class_name=\"Question\"\n",
    "        )  "
   ]
  },
  {
   "cell_type": "code",
   "execution_count": 15,
   "metadata": {},
   "outputs": [
    {
     "data": {
      "text/plain": [
       "1000"
      ]
     },
     "execution_count": 15,
     "metadata": {},
     "output_type": "execute_result"
    }
   ],
   "source": [
    "len(data)"
   ]
  },
  {
   "attachments": {},
   "cell_type": "markdown",
   "metadata": {},
   "source": [
    "Confirm data load\n",
    "\n",
    "Do we have data?\n",
    "\n",
    "Let's get an object count"
   ]
  },
  {
   "cell_type": "code",
   "execution_count": 16,
   "metadata": {},
   "outputs": [
    {
     "name": "stderr",
     "output_type": "stream",
     "text": [
      "looking up route for POST /v1/graphql\n",
      "got a router for DELETE\n",
      "got a router for PATCH\n",
      "got a router for PUT\n",
      "got a router for POST\n",
      "got a router for GET\n",
      "got a router for HEAD\n",
      "found a route for POST /v1/graphql with 1 parameters\n",
      "validating content type for \"application/json\" against [application/json, application/yaml]\n",
      "responding to POST /v1/graphql with produces: [application/json]\n",
      "offers: [application/json]\n",
      "[POST /v1/graphql] set response format \"application/json\" in context\n",
      "[POST /v1/graphql] negotiated response format \"application/json\"\n"
     ]
    },
    {
     "data": {
      "text/plain": [
       "{'data': {'Aggregate': {'Question': [{'meta': {'count': 1000}}]}}}"
      ]
     },
     "execution_count": 16,
     "metadata": {},
     "output_type": "execute_result"
    }
   ],
   "source": [
    "client.query.aggregate(\"Question\").with_meta_count().do()"
   ]
  },
  {
   "attachments": {},
   "cell_type": "markdown",
   "metadata": {},
   "source": [
    "Does the data look right?\n",
    "\n",
    "Let's grab a few objects from Weaviate!"
   ]
  },
  {
   "cell_type": "code",
   "execution_count": 17,
   "metadata": {},
   "outputs": [
    {
     "name": "stdout",
     "output_type": "stream",
     "text": [
      "{\n",
      "  \"data\": {\n",
      "    \"Get\": {\n",
      "      \"Question\": [\n",
      "        {\n",
      "          \"answer\": \"Liberia\",\n",
      "          \"question\": \"At the beginning of World War I, this was the only independent nation in West Africa\"\n",
      "        },\n",
      "        {\n",
      "          \"answer\": \"icebergs\",\n",
      "          \"question\": \"Tracking these, coast guard rates them as bergy bits, growlers, small, medium, & large\"\n",
      "        },\n",
      "        {\n",
      "          \"answer\": \"Moors\",\n",
      "          \"question\": \"The Visigoth Empire went out of business in 711 when it was defeated by this north African group in Spain\"\n",
      "        }\n",
      "      ]\n",
      "    }\n",
      "  }\n",
      "}\n"
     ]
    },
    {
     "name": "stderr",
     "output_type": "stream",
     "text": [
      "looking up route for POST /v1/graphql\n",
      "got a router for DELETE\n",
      "got a router for PATCH\n",
      "got a router for PUT\n",
      "got a router for POST\n",
      "got a router for GET\n",
      "got a router for HEAD\n",
      "found a route for POST /v1/graphql with 1 parameters\n",
      "validating content type for \"application/json\" against [application/json, application/yaml]\n",
      "responding to POST /v1/graphql with produces: [application/json]\n",
      "offers: [application/json]\n",
      "[POST /v1/graphql] set response format \"application/json\" in context\n",
      "[POST /v1/graphql] negotiated response format \"application/json\"\n"
     ]
    }
   ],
   "source": [
    "response = (\n",
    "    client.query\n",
    "    .get(\"Question\", [\"question\", \"answer\"])\n",
    "    .with_limit(3)\n",
    "    .do()\n",
    ")\n",
    "\n",
    "jprint(response)"
   ]
  },
  {
   "attachments": {},
   "cell_type": "markdown",
   "metadata": {},
   "source": [
    "### Step 3: Work with the data\n",
    "Let's try a few more involved queries\n",
    "\n",
    "Filtering (similar to WHERE filter in SQL)\n",
    "\n",
    "Let's find objects that meet a particular condition."
   ]
  },
  {
   "cell_type": "code",
   "execution_count": 18,
   "metadata": {},
   "outputs": [
    {
     "name": "stdout",
     "output_type": "stream",
     "text": [
      "{\n",
      "  \"data\": {\n",
      "    \"Get\": {\n",
      "      \"Question\": [\n",
      "        {\n",
      "          \"answer\": \"\\\"A Brief History Of Time In A Bottle\\\"\",\n",
      "          \"question\": \"Stephen Hawking's 1988 bio of the universe that was a No. 1 hit for Jim Croce\"\n",
      "        }\n",
      "      ]\n",
      "    }\n",
      "  }\n",
      "}\n"
     ]
    },
    {
     "name": "stderr",
     "output_type": "stream",
     "text": [
      "looking up route for POST /v1/graphql\n",
      "got a router for POST\n",
      "got a router for GET\n",
      "got a router for HEAD\n",
      "got a router for DELETE\n",
      "got a router for PATCH\n",
      "got a router for PUT\n",
      "found a route for POST /v1/graphql with 1 parameters\n",
      "validating content type for \"application/json\" against [application/json, application/yaml]\n",
      "responding to POST /v1/graphql with produces: [application/json]\n",
      "offers: [application/json]\n",
      "[POST /v1/graphql] set response format \"application/json\" in context\n",
      "[POST /v1/graphql] negotiated response format \"application/json\"\n"
     ]
    }
   ],
   "source": [
    "where_filter = {\n",
    "    \"path\": [\"answer\"],\n",
    "    \"operator\": \"Like\",\n",
    "    \"valueText\": \"*history*\"\n",
    "}\n",
    "\n",
    "response = (\n",
    "    client.query\n",
    "    .get(\"Question\", [\"question\", \"answer\"])\n",
    "    .with_limit(3)\n",
    "    .with_where(where_filter)\n",
    "    .do()\n",
    ")\n",
    "\n",
    "jprint(response)"
   ]
  },
  {
   "cell_type": "code",
   "execution_count": null,
   "metadata": {},
   "outputs": [],
   "source": []
  },
  {
   "cell_type": "code",
   "execution_count": null,
   "metadata": {},
   "outputs": [],
   "source": []
  },
  {
   "cell_type": "code",
   "execution_count": null,
   "metadata": {},
   "outputs": [],
   "source": []
  },
  {
   "cell_type": "code",
   "execution_count": null,
   "metadata": {},
   "outputs": [],
   "source": []
  },
  {
   "cell_type": "code",
   "execution_count": null,
   "metadata": {},
   "outputs": [],
   "source": []
  },
  {
   "cell_type": "code",
   "execution_count": null,
   "metadata": {},
   "outputs": [],
   "source": []
  }
 ],
 "metadata": {
  "kernelspec": {
   "display_name": "vector-db",
   "language": "python",
   "name": "python3"
  },
  "language_info": {
   "codemirror_mode": {
    "name": "ipython",
    "version": 3
   },
   "file_extension": ".py",
   "mimetype": "text/x-python",
   "name": "python",
   "nbconvert_exporter": "python",
   "pygments_lexer": "ipython3",
   "version": "3.11.5"
  },
  "orig_nbformat": 4
 },
 "nbformat": 4,
 "nbformat_minor": 2
}
